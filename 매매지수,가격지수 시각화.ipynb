{
 "cells": [
  {
   "cell_type": "code",
   "execution_count": 3,
   "metadata": {
    "ExecuteTime": {
     "end_time": "2021-06-09T03:11:54.386424Z",
     "start_time": "2021-06-09T03:11:54.347529Z"
    }
   },
   "outputs": [
    {
     "data": {
      "text/html": [
       "        <script type=\"text/javascript\">\n",
       "        window.PlotlyConfig = {MathJaxConfig: 'local'};\n",
       "        if (window.MathJax) {MathJax.Hub.Config({SVG: {font: \"STIX-Web\"}});}\n",
       "        if (typeof require !== 'undefined') {\n",
       "        require.undef(\"plotly\");\n",
       "        requirejs.config({\n",
       "            paths: {\n",
       "                'plotly': ['https://cdn.plot.ly/plotly-latest.min']\n",
       "            }\n",
       "        });\n",
       "        require(['plotly'], function(Plotly) {\n",
       "            window._Plotly = Plotly;\n",
       "        });\n",
       "        }\n",
       "        </script>\n",
       "        "
      ]
     },
     "metadata": {},
     "output_type": "display_data"
    },
    {
     "ename": "FileNotFoundError",
     "evalue": "[Errno 2] No such file or directory: '../../[Dacon]/data/부동산시각화/지역별주택매매가격지수(KOSIS).csv'",
     "output_type": "error",
     "traceback": [
      "\u001b[1;31m---------------------------------------------------------------------------\u001b[0m",
      "\u001b[1;31mFileNotFoundError\u001b[0m                         Traceback (most recent call last)",
      "\u001b[1;32m<ipython-input-3-f47e4eead55d>\u001b[0m in \u001b[0;36m<module>\u001b[1;34m\u001b[0m\n\u001b[0;32m     15\u001b[0m \u001b[0mcf\u001b[0m\u001b[1;33m.\u001b[0m\u001b[0mgo_offline\u001b[0m\u001b[1;33m(\u001b[0m\u001b[0mconnected\u001b[0m\u001b[1;33m=\u001b[0m\u001b[1;32mTrue\u001b[0m\u001b[1;33m)\u001b[0m\u001b[1;33m\u001b[0m\u001b[1;33m\u001b[0m\u001b[0m\n\u001b[0;32m     16\u001b[0m \u001b[1;33m\u001b[0m\u001b[0m\n\u001b[1;32m---> 17\u001b[1;33m \u001b[0m지역별주택매매가격지수\u001b[0m \u001b[1;33m=\u001b[0m \u001b[0mpd\u001b[0m\u001b[1;33m.\u001b[0m\u001b[0mread_csv\u001b[0m\u001b[1;33m(\u001b[0m\u001b[1;34m'../../[Dacon]/data/부동산시각화/지역별주택매매가격지수(KOSIS).csv'\u001b[0m\u001b[1;33m,\u001b[0m \u001b[0mencoding\u001b[0m\u001b[1;33m=\u001b[0m\u001b[1;34m'cp949'\u001b[0m\u001b[1;33m)\u001b[0m\u001b[1;33m\u001b[0m\u001b[1;33m\u001b[0m\u001b[0m\n\u001b[0m\u001b[0;32m     18\u001b[0m \u001b[0m지역별주택전세가격지수\u001b[0m \u001b[1;33m=\u001b[0m \u001b[0mpd\u001b[0m\u001b[1;33m.\u001b[0m\u001b[0mread_csv\u001b[0m\u001b[1;33m(\u001b[0m\u001b[1;34m'../../[Dacon]/data/부동산시각화/지역별주택전세가격지수(KOSIS).csv'\u001b[0m\u001b[1;33m,\u001b[0m \u001b[0mencoding\u001b[0m\u001b[1;33m=\u001b[0m\u001b[1;34m'cp949'\u001b[0m\u001b[1;33m)\u001b[0m\u001b[1;33m\u001b[0m\u001b[1;33m\u001b[0m\u001b[0m\n\u001b[0;32m     19\u001b[0m \u001b[0m주택매매가격지수\u001b[0m \u001b[1;33m=\u001b[0m \u001b[0mpd\u001b[0m\u001b[1;33m.\u001b[0m\u001b[0mread_csv\u001b[0m\u001b[1;33m(\u001b[0m\u001b[1;34m'../../[Dacon]/data/부동산시각화/주택매매가격지수(KB).csv'\u001b[0m\u001b[1;33m)\u001b[0m\u001b[1;33m\u001b[0m\u001b[1;33m\u001b[0m\u001b[0m\n",
      "\u001b[1;32m~\\AppData\\Roaming\\Python\\Python37\\site-packages\\pandas\\io\\parsers.py\u001b[0m in \u001b[0;36mread_csv\u001b[1;34m(filepath_or_buffer, sep, delimiter, header, names, index_col, usecols, squeeze, prefix, mangle_dupe_cols, dtype, engine, converters, true_values, false_values, skipinitialspace, skiprows, skipfooter, nrows, na_values, keep_default_na, na_filter, verbose, skip_blank_lines, parse_dates, infer_datetime_format, keep_date_col, date_parser, dayfirst, cache_dates, iterator, chunksize, compression, thousands, decimal, lineterminator, quotechar, quoting, doublequote, escapechar, comment, encoding, dialect, error_bad_lines, warn_bad_lines, delim_whitespace, low_memory, memory_map, float_precision, storage_options)\u001b[0m\n\u001b[0;32m    608\u001b[0m     \u001b[0mkwds\u001b[0m\u001b[1;33m.\u001b[0m\u001b[0mupdate\u001b[0m\u001b[1;33m(\u001b[0m\u001b[0mkwds_defaults\u001b[0m\u001b[1;33m)\u001b[0m\u001b[1;33m\u001b[0m\u001b[1;33m\u001b[0m\u001b[0m\n\u001b[0;32m    609\u001b[0m \u001b[1;33m\u001b[0m\u001b[0m\n\u001b[1;32m--> 610\u001b[1;33m     \u001b[1;32mreturn\u001b[0m \u001b[0m_read\u001b[0m\u001b[1;33m(\u001b[0m\u001b[0mfilepath_or_buffer\u001b[0m\u001b[1;33m,\u001b[0m \u001b[0mkwds\u001b[0m\u001b[1;33m)\u001b[0m\u001b[1;33m\u001b[0m\u001b[1;33m\u001b[0m\u001b[0m\n\u001b[0m\u001b[0;32m    611\u001b[0m \u001b[1;33m\u001b[0m\u001b[0m\n\u001b[0;32m    612\u001b[0m \u001b[1;33m\u001b[0m\u001b[0m\n",
      "\u001b[1;32m~\\AppData\\Roaming\\Python\\Python37\\site-packages\\pandas\\io\\parsers.py\u001b[0m in \u001b[0;36m_read\u001b[1;34m(filepath_or_buffer, kwds)\u001b[0m\n\u001b[0;32m    460\u001b[0m \u001b[1;33m\u001b[0m\u001b[0m\n\u001b[0;32m    461\u001b[0m     \u001b[1;31m# Create the parser.\u001b[0m\u001b[1;33m\u001b[0m\u001b[1;33m\u001b[0m\u001b[1;33m\u001b[0m\u001b[0m\n\u001b[1;32m--> 462\u001b[1;33m     \u001b[0mparser\u001b[0m \u001b[1;33m=\u001b[0m \u001b[0mTextFileReader\u001b[0m\u001b[1;33m(\u001b[0m\u001b[0mfilepath_or_buffer\u001b[0m\u001b[1;33m,\u001b[0m \u001b[1;33m**\u001b[0m\u001b[0mkwds\u001b[0m\u001b[1;33m)\u001b[0m\u001b[1;33m\u001b[0m\u001b[1;33m\u001b[0m\u001b[0m\n\u001b[0m\u001b[0;32m    463\u001b[0m \u001b[1;33m\u001b[0m\u001b[0m\n\u001b[0;32m    464\u001b[0m     \u001b[1;32mif\u001b[0m \u001b[0mchunksize\u001b[0m \u001b[1;32mor\u001b[0m \u001b[0miterator\u001b[0m\u001b[1;33m:\u001b[0m\u001b[1;33m\u001b[0m\u001b[1;33m\u001b[0m\u001b[0m\n",
      "\u001b[1;32m~\\AppData\\Roaming\\Python\\Python37\\site-packages\\pandas\\io\\parsers.py\u001b[0m in \u001b[0;36m__init__\u001b[1;34m(self, f, engine, **kwds)\u001b[0m\n\u001b[0;32m    817\u001b[0m             \u001b[0mself\u001b[0m\u001b[1;33m.\u001b[0m\u001b[0moptions\u001b[0m\u001b[1;33m[\u001b[0m\u001b[1;34m\"has_index_names\"\u001b[0m\u001b[1;33m]\u001b[0m \u001b[1;33m=\u001b[0m \u001b[0mkwds\u001b[0m\u001b[1;33m[\u001b[0m\u001b[1;34m\"has_index_names\"\u001b[0m\u001b[1;33m]\u001b[0m\u001b[1;33m\u001b[0m\u001b[1;33m\u001b[0m\u001b[0m\n\u001b[0;32m    818\u001b[0m \u001b[1;33m\u001b[0m\u001b[0m\n\u001b[1;32m--> 819\u001b[1;33m         \u001b[0mself\u001b[0m\u001b[1;33m.\u001b[0m\u001b[0m_engine\u001b[0m \u001b[1;33m=\u001b[0m \u001b[0mself\u001b[0m\u001b[1;33m.\u001b[0m\u001b[0m_make_engine\u001b[0m\u001b[1;33m(\u001b[0m\u001b[0mself\u001b[0m\u001b[1;33m.\u001b[0m\u001b[0mengine\u001b[0m\u001b[1;33m)\u001b[0m\u001b[1;33m\u001b[0m\u001b[1;33m\u001b[0m\u001b[0m\n\u001b[0m\u001b[0;32m    820\u001b[0m \u001b[1;33m\u001b[0m\u001b[0m\n\u001b[0;32m    821\u001b[0m     \u001b[1;32mdef\u001b[0m \u001b[0mclose\u001b[0m\u001b[1;33m(\u001b[0m\u001b[0mself\u001b[0m\u001b[1;33m)\u001b[0m\u001b[1;33m:\u001b[0m\u001b[1;33m\u001b[0m\u001b[1;33m\u001b[0m\u001b[0m\n",
      "\u001b[1;32m~\\AppData\\Roaming\\Python\\Python37\\site-packages\\pandas\\io\\parsers.py\u001b[0m in \u001b[0;36m_make_engine\u001b[1;34m(self, engine)\u001b[0m\n\u001b[0;32m   1048\u001b[0m             )\n\u001b[0;32m   1049\u001b[0m         \u001b[1;31m# error: Too many arguments for \"ParserBase\"\u001b[0m\u001b[1;33m\u001b[0m\u001b[1;33m\u001b[0m\u001b[1;33m\u001b[0m\u001b[0m\n\u001b[1;32m-> 1050\u001b[1;33m         \u001b[1;32mreturn\u001b[0m \u001b[0mmapping\u001b[0m\u001b[1;33m[\u001b[0m\u001b[0mengine\u001b[0m\u001b[1;33m]\u001b[0m\u001b[1;33m(\u001b[0m\u001b[0mself\u001b[0m\u001b[1;33m.\u001b[0m\u001b[0mf\u001b[0m\u001b[1;33m,\u001b[0m \u001b[1;33m**\u001b[0m\u001b[0mself\u001b[0m\u001b[1;33m.\u001b[0m\u001b[0moptions\u001b[0m\u001b[1;33m)\u001b[0m  \u001b[1;31m# type: ignore[call-arg]\u001b[0m\u001b[1;33m\u001b[0m\u001b[1;33m\u001b[0m\u001b[0m\n\u001b[0m\u001b[0;32m   1051\u001b[0m \u001b[1;33m\u001b[0m\u001b[0m\n\u001b[0;32m   1052\u001b[0m     \u001b[1;32mdef\u001b[0m \u001b[0m_failover_to_python\u001b[0m\u001b[1;33m(\u001b[0m\u001b[0mself\u001b[0m\u001b[1;33m)\u001b[0m\u001b[1;33m:\u001b[0m\u001b[1;33m\u001b[0m\u001b[1;33m\u001b[0m\u001b[0m\n",
      "\u001b[1;32m~\\AppData\\Roaming\\Python\\Python37\\site-packages\\pandas\\io\\parsers.py\u001b[0m in \u001b[0;36m__init__\u001b[1;34m(self, src, **kwds)\u001b[0m\n\u001b[0;32m   1865\u001b[0m \u001b[1;33m\u001b[0m\u001b[0m\n\u001b[0;32m   1866\u001b[0m         \u001b[1;31m# open handles\u001b[0m\u001b[1;33m\u001b[0m\u001b[1;33m\u001b[0m\u001b[1;33m\u001b[0m\u001b[0m\n\u001b[1;32m-> 1867\u001b[1;33m         \u001b[0mself\u001b[0m\u001b[1;33m.\u001b[0m\u001b[0m_open_handles\u001b[0m\u001b[1;33m(\u001b[0m\u001b[0msrc\u001b[0m\u001b[1;33m,\u001b[0m \u001b[0mkwds\u001b[0m\u001b[1;33m)\u001b[0m\u001b[1;33m\u001b[0m\u001b[1;33m\u001b[0m\u001b[0m\n\u001b[0m\u001b[0;32m   1868\u001b[0m         \u001b[1;32massert\u001b[0m \u001b[0mself\u001b[0m\u001b[1;33m.\u001b[0m\u001b[0mhandles\u001b[0m \u001b[1;32mis\u001b[0m \u001b[1;32mnot\u001b[0m \u001b[1;32mNone\u001b[0m\u001b[1;33m\u001b[0m\u001b[1;33m\u001b[0m\u001b[0m\n\u001b[0;32m   1869\u001b[0m         \u001b[1;32mfor\u001b[0m \u001b[0mkey\u001b[0m \u001b[1;32min\u001b[0m \u001b[1;33m(\u001b[0m\u001b[1;34m\"storage_options\"\u001b[0m\u001b[1;33m,\u001b[0m \u001b[1;34m\"encoding\"\u001b[0m\u001b[1;33m,\u001b[0m \u001b[1;34m\"memory_map\"\u001b[0m\u001b[1;33m,\u001b[0m \u001b[1;34m\"compression\"\u001b[0m\u001b[1;33m)\u001b[0m\u001b[1;33m:\u001b[0m\u001b[1;33m\u001b[0m\u001b[1;33m\u001b[0m\u001b[0m\n",
      "\u001b[1;32m~\\AppData\\Roaming\\Python\\Python37\\site-packages\\pandas\\io\\parsers.py\u001b[0m in \u001b[0;36m_open_handles\u001b[1;34m(self, src, kwds)\u001b[0m\n\u001b[0;32m   1366\u001b[0m             \u001b[0mcompression\u001b[0m\u001b[1;33m=\u001b[0m\u001b[0mkwds\u001b[0m\u001b[1;33m.\u001b[0m\u001b[0mget\u001b[0m\u001b[1;33m(\u001b[0m\u001b[1;34m\"compression\"\u001b[0m\u001b[1;33m,\u001b[0m \u001b[1;32mNone\u001b[0m\u001b[1;33m)\u001b[0m\u001b[1;33m,\u001b[0m\u001b[1;33m\u001b[0m\u001b[1;33m\u001b[0m\u001b[0m\n\u001b[0;32m   1367\u001b[0m             \u001b[0mmemory_map\u001b[0m\u001b[1;33m=\u001b[0m\u001b[0mkwds\u001b[0m\u001b[1;33m.\u001b[0m\u001b[0mget\u001b[0m\u001b[1;33m(\u001b[0m\u001b[1;34m\"memory_map\"\u001b[0m\u001b[1;33m,\u001b[0m \u001b[1;32mFalse\u001b[0m\u001b[1;33m)\u001b[0m\u001b[1;33m,\u001b[0m\u001b[1;33m\u001b[0m\u001b[1;33m\u001b[0m\u001b[0m\n\u001b[1;32m-> 1368\u001b[1;33m             \u001b[0mstorage_options\u001b[0m\u001b[1;33m=\u001b[0m\u001b[0mkwds\u001b[0m\u001b[1;33m.\u001b[0m\u001b[0mget\u001b[0m\u001b[1;33m(\u001b[0m\u001b[1;34m\"storage_options\"\u001b[0m\u001b[1;33m,\u001b[0m \u001b[1;32mNone\u001b[0m\u001b[1;33m)\u001b[0m\u001b[1;33m,\u001b[0m\u001b[1;33m\u001b[0m\u001b[1;33m\u001b[0m\u001b[0m\n\u001b[0m\u001b[0;32m   1369\u001b[0m         )\n\u001b[0;32m   1370\u001b[0m \u001b[1;33m\u001b[0m\u001b[0m\n",
      "\u001b[1;32m~\\AppData\\Roaming\\Python\\Python37\\site-packages\\pandas\\io\\common.py\u001b[0m in \u001b[0;36mget_handle\u001b[1;34m(path_or_buf, mode, encoding, compression, memory_map, is_text, errors, storage_options)\u001b[0m\n\u001b[0;32m    645\u001b[0m                 \u001b[0mencoding\u001b[0m\u001b[1;33m=\u001b[0m\u001b[0mioargs\u001b[0m\u001b[1;33m.\u001b[0m\u001b[0mencoding\u001b[0m\u001b[1;33m,\u001b[0m\u001b[1;33m\u001b[0m\u001b[1;33m\u001b[0m\u001b[0m\n\u001b[0;32m    646\u001b[0m                 \u001b[0merrors\u001b[0m\u001b[1;33m=\u001b[0m\u001b[0merrors\u001b[0m\u001b[1;33m,\u001b[0m\u001b[1;33m\u001b[0m\u001b[1;33m\u001b[0m\u001b[0m\n\u001b[1;32m--> 647\u001b[1;33m                 \u001b[0mnewline\u001b[0m\u001b[1;33m=\u001b[0m\u001b[1;34m\"\"\u001b[0m\u001b[1;33m,\u001b[0m\u001b[1;33m\u001b[0m\u001b[1;33m\u001b[0m\u001b[0m\n\u001b[0m\u001b[0;32m    648\u001b[0m             )\n\u001b[0;32m    649\u001b[0m         \u001b[1;32melse\u001b[0m\u001b[1;33m:\u001b[0m\u001b[1;33m\u001b[0m\u001b[1;33m\u001b[0m\u001b[0m\n",
      "\u001b[1;31mFileNotFoundError\u001b[0m: [Errno 2] No such file or directory: '../../[Dacon]/data/부동산시각화/지역별주택매매가격지수(KOSIS).csv'"
     ]
    }
   ],
   "source": [
    "from bs4 import BeautifulSoup\n",
    "import pandas as pd\n",
    "import numpy as np\n",
    "import seaborn as sns\n",
    "import chart_studio.plotly as py\n",
    "import chart_studio\n",
    "chart_studio.tools.set_credentials_file(username='rkdtmdrn210', api_key='hz8WwlUJWOI7esi0ff43')\n",
    "import plotly.express as px\n",
    "import cufflinks as cf\n",
    "import plotly.offline as pyo\n",
    "import plotly.graph_objs as go\n",
    "import matplotlib.pyplot as plt\n",
    "import matplotlib as mpl\n",
    "from matplotlib import cm\n",
    "cf.go_offline(connected=True)\n",
    "\n",
    "지역별주택매매가격지수 = pd.read_csv('../../[Dacon]/data/부동산시각화/지역별주택매매가격지수(KOSIS).csv', encoding='cp949')\n",
    "지역별주택전세가격지수 = pd.read_csv('../../[Dacon]/data/부동산시각화/지역별주택전세가격지수(KOSIS).csv', encoding='cp949')\n",
    "주택매매가격지수 = pd.read_csv('../../[Dacon]/data/부동산시각화/주택매매가격지수(KB).csv')\n",
    "주택전세가격지수 = pd.read_csv('../../[Dacon]/data/부동산시각화/주택전세가격지수(KB).csv')"
   ]
  },
  {
   "cell_type": "markdown",
   "metadata": {},
   "source": [
    "## 주택 전세,매매 가격지수란?\n",
    "\n",
    "특정시점 가격을 기준으로 상승 하락정도를 쉽게 알 수 있도록 측정한 지수"
   ]
  },
  {
   "cell_type": "code",
   "execution_count": 37,
   "metadata": {},
   "outputs": [
    {
     "data": {
      "text/html": [
       "<div>\n",
       "<style scoped>\n",
       "    .dataframe tbody tr th:only-of-type {\n",
       "        vertical-align: middle;\n",
       "    }\n",
       "\n",
       "    .dataframe tbody tr th {\n",
       "        vertical-align: top;\n",
       "    }\n",
       "\n",
       "    .dataframe thead th {\n",
       "        text-align: right;\n",
       "    }\n",
       "</style>\n",
       "<table border=\"1\" class=\"dataframe\">\n",
       "  <thead>\n",
       "    <tr style=\"text-align: right;\">\n",
       "      <th></th>\n",
       "      <th>Unnamed: 0</th>\n",
       "      <th>총지수[2019.01=100]</th>\n",
       "      <th>단독주택[2019.01=100]</th>\n",
       "      <th>연립주택[2019.01=100]</th>\n",
       "      <th>아파트[2019.01=100]</th>\n",
       "      <th>아파트(서울)[2019.01=100]</th>\n",
       "      <th>총지수(서울)[2019.01=100]</th>\n",
       "    </tr>\n",
       "  </thead>\n",
       "  <tbody>\n",
       "    <tr>\n",
       "      <th>0</th>\n",
       "      <td>1986-01-01</td>\n",
       "      <td>17.601</td>\n",
       "      <td>35.506</td>\n",
       "      <td>18.059</td>\n",
       "      <td>10.793</td>\n",
       "      <td>9.782</td>\n",
       "      <td>16.755</td>\n",
       "    </tr>\n",
       "    <tr>\n",
       "      <th>1</th>\n",
       "      <td>1986-02-01</td>\n",
       "      <td>17.853</td>\n",
       "      <td>35.731</td>\n",
       "      <td>18.155</td>\n",
       "      <td>11.104</td>\n",
       "      <td>10.195</td>\n",
       "      <td>17.066</td>\n",
       "    </tr>\n",
       "    <tr>\n",
       "      <th>2</th>\n",
       "      <td>1986-03-01</td>\n",
       "      <td>18.273</td>\n",
       "      <td>36.553</td>\n",
       "      <td>18.823</td>\n",
       "      <td>11.446</td>\n",
       "      <td>10.550</td>\n",
       "      <td>17.573</td>\n",
       "    </tr>\n",
       "    <tr>\n",
       "      <th>3</th>\n",
       "      <td>1986-04-01</td>\n",
       "      <td>18.651</td>\n",
       "      <td>37.151</td>\n",
       "      <td>19.158</td>\n",
       "      <td>11.695</td>\n",
       "      <td>10.787</td>\n",
       "      <td>18.002</td>\n",
       "    </tr>\n",
       "    <tr>\n",
       "      <th>4</th>\n",
       "      <td>1986-05-01</td>\n",
       "      <td>18.693</td>\n",
       "      <td>37.151</td>\n",
       "      <td>19.301</td>\n",
       "      <td>11.726</td>\n",
       "      <td>10.875</td>\n",
       "      <td>18.040</td>\n",
       "    </tr>\n",
       "  </tbody>\n",
       "</table>\n",
       "</div>"
      ],
      "text/plain": [
       "   Unnamed: 0  총지수[2019.01=100]  단독주택[2019.01=100]  연립주택[2019.01=100]  \\\n",
       "0  1986-01-01            17.601             35.506             18.059   \n",
       "1  1986-02-01            17.853             35.731             18.155   \n",
       "2  1986-03-01            18.273             36.553             18.823   \n",
       "3  1986-04-01            18.651             37.151             19.158   \n",
       "4  1986-05-01            18.693             37.151             19.301   \n",
       "\n",
       "   아파트[2019.01=100]  아파트(서울)[2019.01=100]  총지수(서울)[2019.01=100]  \n",
       "0            10.793                 9.782                16.755  \n",
       "1            11.104                10.195                17.066  \n",
       "2            11.446                10.550                17.573  \n",
       "3            11.695                10.787                18.002  \n",
       "4            11.726                10.875                18.040  "
      ]
     },
     "execution_count": 37,
     "metadata": {},
     "output_type": "execute_result"
    }
   ],
   "source": [
    "주택전세가격지수.head()"
   ]
  },
  {
   "cell_type": "code",
   "execution_count": 38,
   "metadata": {},
   "outputs": [
    {
     "data": {
      "text/html": [
       "<div>\n",
       "<style scoped>\n",
       "    .dataframe tbody tr th:only-of-type {\n",
       "        vertical-align: middle;\n",
       "    }\n",
       "\n",
       "    .dataframe tbody tr th {\n",
       "        vertical-align: top;\n",
       "    }\n",
       "\n",
       "    .dataframe thead th {\n",
       "        text-align: right;\n",
       "    }\n",
       "</style>\n",
       "<table border=\"1\" class=\"dataframe\">\n",
       "  <thead>\n",
       "    <tr style=\"text-align: right;\">\n",
       "      <th></th>\n",
       "      <th>주택유형별</th>\n",
       "      <th>도단위</th>\n",
       "      <th>권역단위</th>\n",
       "      <th>시단위</th>\n",
       "      <th>구단위</th>\n",
       "      <th>2020. 11</th>\n",
       "      <th>2020. 12</th>\n",
       "      <th>2021. 01</th>\n",
       "      <th>2021. 02</th>\n",
       "      <th>2021. 03</th>\n",
       "      <th>2021. 04</th>\n",
       "    </tr>\n",
       "  </thead>\n",
       "  <tbody>\n",
       "    <tr>\n",
       "      <th>0</th>\n",
       "      <td>종합</td>\n",
       "      <td>전국</td>\n",
       "      <td>소계</td>\n",
       "      <td>소계</td>\n",
       "      <td>소계</td>\n",
       "      <td>105.3</td>\n",
       "      <td>106.3</td>\n",
       "      <td>107.1</td>\n",
       "      <td>108.1</td>\n",
       "      <td>108.9</td>\n",
       "      <td>109.6</td>\n",
       "    </tr>\n",
       "    <tr>\n",
       "      <th>1</th>\n",
       "      <td>종합</td>\n",
       "      <td>수도권</td>\n",
       "      <td>소계</td>\n",
       "      <td>소계</td>\n",
       "      <td>소계</td>\n",
       "      <td>110.1</td>\n",
       "      <td>110.8</td>\n",
       "      <td>111.7</td>\n",
       "      <td>113.0</td>\n",
       "      <td>114.1</td>\n",
       "      <td>115.1</td>\n",
       "    </tr>\n",
       "    <tr>\n",
       "      <th>2</th>\n",
       "      <td>종합</td>\n",
       "      <td>지방</td>\n",
       "      <td>소계</td>\n",
       "      <td>소계</td>\n",
       "      <td>소계</td>\n",
       "      <td>101.2</td>\n",
       "      <td>102.3</td>\n",
       "      <td>103.1</td>\n",
       "      <td>103.8</td>\n",
       "      <td>104.3</td>\n",
       "      <td>104.9</td>\n",
       "    </tr>\n",
       "    <tr>\n",
       "      <th>3</th>\n",
       "      <td>종합</td>\n",
       "      <td>6대광역시</td>\n",
       "      <td>소계</td>\n",
       "      <td>소계</td>\n",
       "      <td>소계</td>\n",
       "      <td>106.1</td>\n",
       "      <td>107.7</td>\n",
       "      <td>108.9</td>\n",
       "      <td>110.0</td>\n",
       "      <td>111.0</td>\n",
       "      <td>111.9</td>\n",
       "    </tr>\n",
       "    <tr>\n",
       "      <th>4</th>\n",
       "      <td>종합</td>\n",
       "      <td>5대광역시</td>\n",
       "      <td>소계</td>\n",
       "      <td>소계</td>\n",
       "      <td>소계</td>\n",
       "      <td>105.7</td>\n",
       "      <td>107.6</td>\n",
       "      <td>108.8</td>\n",
       "      <td>109.9</td>\n",
       "      <td>110.8</td>\n",
       "      <td>111.5</td>\n",
       "    </tr>\n",
       "  </tbody>\n",
       "</table>\n",
       "</div>"
      ],
      "text/plain": [
       "  주택유형별    도단위 권역단위 시단위 구단위  2020. 11  2020. 12  2021. 01  2021. 02  2021. 03  \\\n",
       "0    종합     전국   소계  소계  소계     105.3     106.3     107.1     108.1     108.9   \n",
       "1    종합    수도권   소계  소계  소계     110.1     110.8     111.7     113.0     114.1   \n",
       "2    종합     지방   소계  소계  소계     101.2     102.3     103.1     103.8     104.3   \n",
       "3    종합  6대광역시   소계  소계  소계     106.1     107.7     108.9     110.0     111.0   \n",
       "4    종합  5대광역시   소계  소계  소계     105.7     107.6     108.8     109.9     110.8   \n",
       "\n",
       "   2021. 04  \n",
       "0     109.6  \n",
       "1     115.1  \n",
       "2     104.9  \n",
       "3     111.9  \n",
       "4     111.5  "
      ]
     },
     "execution_count": 38,
     "metadata": {},
     "output_type": "execute_result"
    }
   ],
   "source": [
    "지역별주택매매가격지수.head()"
   ]
  },
  {
   "cell_type": "code",
   "execution_count": 39,
   "metadata": {},
   "outputs": [
    {
     "data": {
      "text/html": [
       "<div>\n",
       "<style scoped>\n",
       "    .dataframe tbody tr th:only-of-type {\n",
       "        vertical-align: middle;\n",
       "    }\n",
       "\n",
       "    .dataframe tbody tr th {\n",
       "        vertical-align: top;\n",
       "    }\n",
       "\n",
       "    .dataframe thead th {\n",
       "        text-align: right;\n",
       "    }\n",
       "</style>\n",
       "<table border=\"1\" class=\"dataframe\">\n",
       "  <thead>\n",
       "    <tr style=\"text-align: right;\">\n",
       "      <th></th>\n",
       "      <th>총지수[2019.01=100]</th>\n",
       "      <th>단독주택[2019.01=100]</th>\n",
       "      <th>연립주택[2019.01=100]</th>\n",
       "      <th>아파트[2019.01=100]</th>\n",
       "      <th>아파트(서울)[2019.01=100]</th>\n",
       "      <th>총지수(서울)[2019.01=100]</th>\n",
       "    </tr>\n",
       "    <tr>\n",
       "      <th>Unnamed: 0</th>\n",
       "      <th></th>\n",
       "      <th></th>\n",
       "      <th></th>\n",
       "      <th></th>\n",
       "      <th></th>\n",
       "      <th></th>\n",
       "    </tr>\n",
       "  </thead>\n",
       "  <tbody>\n",
       "    <tr>\n",
       "      <th>1986-01-01</th>\n",
       "      <td>17.601</td>\n",
       "      <td>35.506</td>\n",
       "      <td>18.059</td>\n",
       "      <td>10.793</td>\n",
       "      <td>9.782</td>\n",
       "      <td>16.755</td>\n",
       "    </tr>\n",
       "    <tr>\n",
       "      <th>1986-02-01</th>\n",
       "      <td>17.853</td>\n",
       "      <td>35.731</td>\n",
       "      <td>18.155</td>\n",
       "      <td>11.104</td>\n",
       "      <td>10.195</td>\n",
       "      <td>17.066</td>\n",
       "    </tr>\n",
       "    <tr>\n",
       "      <th>1986-03-01</th>\n",
       "      <td>18.273</td>\n",
       "      <td>36.553</td>\n",
       "      <td>18.823</td>\n",
       "      <td>11.446</td>\n",
       "      <td>10.550</td>\n",
       "      <td>17.573</td>\n",
       "    </tr>\n",
       "    <tr>\n",
       "      <th>1986-04-01</th>\n",
       "      <td>18.651</td>\n",
       "      <td>37.151</td>\n",
       "      <td>19.158</td>\n",
       "      <td>11.695</td>\n",
       "      <td>10.787</td>\n",
       "      <td>18.002</td>\n",
       "    </tr>\n",
       "    <tr>\n",
       "      <th>1986-05-01</th>\n",
       "      <td>18.693</td>\n",
       "      <td>37.151</td>\n",
       "      <td>19.301</td>\n",
       "      <td>11.726</td>\n",
       "      <td>10.875</td>\n",
       "      <td>18.040</td>\n",
       "    </tr>\n",
       "  </tbody>\n",
       "</table>\n",
       "</div>"
      ],
      "text/plain": [
       "            총지수[2019.01=100]  단독주택[2019.01=100]  연립주택[2019.01=100]  \\\n",
       "Unnamed: 0                                                           \n",
       "1986-01-01            17.601             35.506             18.059   \n",
       "1986-02-01            17.853             35.731             18.155   \n",
       "1986-03-01            18.273             36.553             18.823   \n",
       "1986-04-01            18.651             37.151             19.158   \n",
       "1986-05-01            18.693             37.151             19.301   \n",
       "\n",
       "            아파트[2019.01=100]  아파트(서울)[2019.01=100]  총지수(서울)[2019.01=100]  \n",
       "Unnamed: 0                                                                \n",
       "1986-01-01            10.793                 9.782                16.755  \n",
       "1986-02-01            11.104                10.195                17.066  \n",
       "1986-03-01            11.446                10.550                17.573  \n",
       "1986-04-01            11.695                10.787                18.002  \n",
       "1986-05-01            11.726                10.875                18.040  "
      ]
     },
     "execution_count": 39,
     "metadata": {},
     "output_type": "execute_result"
    }
   ],
   "source": [
    "# 시계열데이터 처리를 용이하게 하기 위해 시계열 컬럼 인덱스로 변환\n",
    "\n",
    "주택매매가격지수['Unnamed: 0'] = pd.to_datetime(주택매매가격지수['Unnamed: 0'])\n",
    "주택매매가격지수.set_index('Unnamed: 0', inplace=True)\n",
    "\n",
    "주택전세가격지수['Unnamed: 0'] = pd.to_datetime(주택전세가격지수['Unnamed: 0'])\n",
    "주택전세가격지수.set_index('Unnamed: 0', inplace=True)\n",
    "주택전세가격지수.head()"
   ]
  },
  {
   "cell_type": "code",
   "execution_count": 41,
   "metadata": {},
   "outputs": [
    {
     "data": {
      "application/vnd.plotly.v1+json": {
       "config": {
        "linkText": "Export to plotly.com",
        "plotlyServerURL": "https://plotly.com",
        "showLink": true
       },
       "data": [
        {
         "name": "매매",
         "type": "bar",
         "x": [
          "총지수[2019.01=100]",
          "단독주택[2019.01=100]",
          "연립주택[2019.01=100]",
          "아파트[2019.01=100]",
          "아파트(서울)[2019.01=100]",
          "총지수(서울)[2019.01=100]"
         ],
         "y": [
          102.73807407407406,
          102.00081481481477,
          102.4441851851852,
          102.75907407407406,
          106.22137037037038,
          105.13207407407408
         ]
        },
        {
         "name": "전세",
         "type": "bar",
         "x": [
          "총지수[2019.01=100]",
          "단독주택[2019.01=100]",
          "연립주택[2019.01=100]",
          "아파트[2019.01=100]",
          "아파트(서울)[2019.01=100]",
          "총지수(서울)[2019.01=100]"
         ],
         "y": [
          101.33281481481481,
          101.01455555555555,
          101.496,
          101.28307407407408,
          103.21044444444443,
          103.13237037037035
         ]
        }
       ],
       "layout": {
        "template": {
         "data": {
          "bar": [
           {
            "error_x": {
             "color": "#2a3f5f"
            },
            "error_y": {
             "color": "#2a3f5f"
            },
            "marker": {
             "line": {
              "color": "#E5ECF6",
              "width": 0.5
             }
            },
            "type": "bar"
           }
          ],
          "barpolar": [
           {
            "marker": {
             "line": {
              "color": "#E5ECF6",
              "width": 0.5
             }
            },
            "type": "barpolar"
           }
          ],
          "carpet": [
           {
            "aaxis": {
             "endlinecolor": "#2a3f5f",
             "gridcolor": "white",
             "linecolor": "white",
             "minorgridcolor": "white",
             "startlinecolor": "#2a3f5f"
            },
            "baxis": {
             "endlinecolor": "#2a3f5f",
             "gridcolor": "white",
             "linecolor": "white",
             "minorgridcolor": "white",
             "startlinecolor": "#2a3f5f"
            },
            "type": "carpet"
           }
          ],
          "choropleth": [
           {
            "colorbar": {
             "outlinewidth": 0,
             "ticks": ""
            },
            "type": "choropleth"
           }
          ],
          "contour": [
           {
            "colorbar": {
             "outlinewidth": 0,
             "ticks": ""
            },
            "colorscale": [
             [
              0,
              "#0d0887"
             ],
             [
              0.1111111111111111,
              "#46039f"
             ],
             [
              0.2222222222222222,
              "#7201a8"
             ],
             [
              0.3333333333333333,
              "#9c179e"
             ],
             [
              0.4444444444444444,
              "#bd3786"
             ],
             [
              0.5555555555555556,
              "#d8576b"
             ],
             [
              0.6666666666666666,
              "#ed7953"
             ],
             [
              0.7777777777777778,
              "#fb9f3a"
             ],
             [
              0.8888888888888888,
              "#fdca26"
             ],
             [
              1,
              "#f0f921"
             ]
            ],
            "type": "contour"
           }
          ],
          "contourcarpet": [
           {
            "colorbar": {
             "outlinewidth": 0,
             "ticks": ""
            },
            "type": "contourcarpet"
           }
          ],
          "heatmap": [
           {
            "colorbar": {
             "outlinewidth": 0,
             "ticks": ""
            },
            "colorscale": [
             [
              0,
              "#0d0887"
             ],
             [
              0.1111111111111111,
              "#46039f"
             ],
             [
              0.2222222222222222,
              "#7201a8"
             ],
             [
              0.3333333333333333,
              "#9c179e"
             ],
             [
              0.4444444444444444,
              "#bd3786"
             ],
             [
              0.5555555555555556,
              "#d8576b"
             ],
             [
              0.6666666666666666,
              "#ed7953"
             ],
             [
              0.7777777777777778,
              "#fb9f3a"
             ],
             [
              0.8888888888888888,
              "#fdca26"
             ],
             [
              1,
              "#f0f921"
             ]
            ],
            "type": "heatmap"
           }
          ],
          "heatmapgl": [
           {
            "colorbar": {
             "outlinewidth": 0,
             "ticks": ""
            },
            "colorscale": [
             [
              0,
              "#0d0887"
             ],
             [
              0.1111111111111111,
              "#46039f"
             ],
             [
              0.2222222222222222,
              "#7201a8"
             ],
             [
              0.3333333333333333,
              "#9c179e"
             ],
             [
              0.4444444444444444,
              "#bd3786"
             ],
             [
              0.5555555555555556,
              "#d8576b"
             ],
             [
              0.6666666666666666,
              "#ed7953"
             ],
             [
              0.7777777777777778,
              "#fb9f3a"
             ],
             [
              0.8888888888888888,
              "#fdca26"
             ],
             [
              1,
              "#f0f921"
             ]
            ],
            "type": "heatmapgl"
           }
          ],
          "histogram": [
           {
            "marker": {
             "colorbar": {
              "outlinewidth": 0,
              "ticks": ""
             }
            },
            "type": "histogram"
           }
          ],
          "histogram2d": [
           {
            "colorbar": {
             "outlinewidth": 0,
             "ticks": ""
            },
            "colorscale": [
             [
              0,
              "#0d0887"
             ],
             [
              0.1111111111111111,
              "#46039f"
             ],
             [
              0.2222222222222222,
              "#7201a8"
             ],
             [
              0.3333333333333333,
              "#9c179e"
             ],
             [
              0.4444444444444444,
              "#bd3786"
             ],
             [
              0.5555555555555556,
              "#d8576b"
             ],
             [
              0.6666666666666666,
              "#ed7953"
             ],
             [
              0.7777777777777778,
              "#fb9f3a"
             ],
             [
              0.8888888888888888,
              "#fdca26"
             ],
             [
              1,
              "#f0f921"
             ]
            ],
            "type": "histogram2d"
           }
          ],
          "histogram2dcontour": [
           {
            "colorbar": {
             "outlinewidth": 0,
             "ticks": ""
            },
            "colorscale": [
             [
              0,
              "#0d0887"
             ],
             [
              0.1111111111111111,
              "#46039f"
             ],
             [
              0.2222222222222222,
              "#7201a8"
             ],
             [
              0.3333333333333333,
              "#9c179e"
             ],
             [
              0.4444444444444444,
              "#bd3786"
             ],
             [
              0.5555555555555556,
              "#d8576b"
             ],
             [
              0.6666666666666666,
              "#ed7953"
             ],
             [
              0.7777777777777778,
              "#fb9f3a"
             ],
             [
              0.8888888888888888,
              "#fdca26"
             ],
             [
              1,
              "#f0f921"
             ]
            ],
            "type": "histogram2dcontour"
           }
          ],
          "mesh3d": [
           {
            "colorbar": {
             "outlinewidth": 0,
             "ticks": ""
            },
            "type": "mesh3d"
           }
          ],
          "parcoords": [
           {
            "line": {
             "colorbar": {
              "outlinewidth": 0,
              "ticks": ""
             }
            },
            "type": "parcoords"
           }
          ],
          "pie": [
           {
            "automargin": true,
            "type": "pie"
           }
          ],
          "scatter": [
           {
            "marker": {
             "colorbar": {
              "outlinewidth": 0,
              "ticks": ""
             }
            },
            "type": "scatter"
           }
          ],
          "scatter3d": [
           {
            "line": {
             "colorbar": {
              "outlinewidth": 0,
              "ticks": ""
             }
            },
            "marker": {
             "colorbar": {
              "outlinewidth": 0,
              "ticks": ""
             }
            },
            "type": "scatter3d"
           }
          ],
          "scattercarpet": [
           {
            "marker": {
             "colorbar": {
              "outlinewidth": 0,
              "ticks": ""
             }
            },
            "type": "scattercarpet"
           }
          ],
          "scattergeo": [
           {
            "marker": {
             "colorbar": {
              "outlinewidth": 0,
              "ticks": ""
             }
            },
            "type": "scattergeo"
           }
          ],
          "scattergl": [
           {
            "marker": {
             "colorbar": {
              "outlinewidth": 0,
              "ticks": ""
             }
            },
            "type": "scattergl"
           }
          ],
          "scattermapbox": [
           {
            "marker": {
             "colorbar": {
              "outlinewidth": 0,
              "ticks": ""
             }
            },
            "type": "scattermapbox"
           }
          ],
          "scatterpolar": [
           {
            "marker": {
             "colorbar": {
              "outlinewidth": 0,
              "ticks": ""
             }
            },
            "type": "scatterpolar"
           }
          ],
          "scatterpolargl": [
           {
            "marker": {
             "colorbar": {
              "outlinewidth": 0,
              "ticks": ""
             }
            },
            "type": "scatterpolargl"
           }
          ],
          "scatterternary": [
           {
            "marker": {
             "colorbar": {
              "outlinewidth": 0,
              "ticks": ""
             }
            },
            "type": "scatterternary"
           }
          ],
          "surface": [
           {
            "colorbar": {
             "outlinewidth": 0,
             "ticks": ""
            },
            "colorscale": [
             [
              0,
              "#0d0887"
             ],
             [
              0.1111111111111111,
              "#46039f"
             ],
             [
              0.2222222222222222,
              "#7201a8"
             ],
             [
              0.3333333333333333,
              "#9c179e"
             ],
             [
              0.4444444444444444,
              "#bd3786"
             ],
             [
              0.5555555555555556,
              "#d8576b"
             ],
             [
              0.6666666666666666,
              "#ed7953"
             ],
             [
              0.7777777777777778,
              "#fb9f3a"
             ],
             [
              0.8888888888888888,
              "#fdca26"
             ],
             [
              1,
              "#f0f921"
             ]
            ],
            "type": "surface"
           }
          ],
          "table": [
           {
            "cells": {
             "fill": {
              "color": "#EBF0F8"
             },
             "line": {
              "color": "white"
             }
            },
            "header": {
             "fill": {
              "color": "#C8D4E3"
             },
             "line": {
              "color": "white"
             }
            },
            "type": "table"
           }
          ]
         },
         "layout": {
          "annotationdefaults": {
           "arrowcolor": "#2a3f5f",
           "arrowhead": 0,
           "arrowwidth": 1
          },
          "autotypenumbers": "strict",
          "coloraxis": {
           "colorbar": {
            "outlinewidth": 0,
            "ticks": ""
           }
          },
          "colorscale": {
           "diverging": [
            [
             0,
             "#8e0152"
            ],
            [
             0.1,
             "#c51b7d"
            ],
            [
             0.2,
             "#de77ae"
            ],
            [
             0.3,
             "#f1b6da"
            ],
            [
             0.4,
             "#fde0ef"
            ],
            [
             0.5,
             "#f7f7f7"
            ],
            [
             0.6,
             "#e6f5d0"
            ],
            [
             0.7,
             "#b8e186"
            ],
            [
             0.8,
             "#7fbc41"
            ],
            [
             0.9,
             "#4d9221"
            ],
            [
             1,
             "#276419"
            ]
           ],
           "sequential": [
            [
             0,
             "#0d0887"
            ],
            [
             0.1111111111111111,
             "#46039f"
            ],
            [
             0.2222222222222222,
             "#7201a8"
            ],
            [
             0.3333333333333333,
             "#9c179e"
            ],
            [
             0.4444444444444444,
             "#bd3786"
            ],
            [
             0.5555555555555556,
             "#d8576b"
            ],
            [
             0.6666666666666666,
             "#ed7953"
            ],
            [
             0.7777777777777778,
             "#fb9f3a"
            ],
            [
             0.8888888888888888,
             "#fdca26"
            ],
            [
             1,
             "#f0f921"
            ]
           ],
           "sequentialminus": [
            [
             0,
             "#0d0887"
            ],
            [
             0.1111111111111111,
             "#46039f"
            ],
            [
             0.2222222222222222,
             "#7201a8"
            ],
            [
             0.3333333333333333,
             "#9c179e"
            ],
            [
             0.4444444444444444,
             "#bd3786"
            ],
            [
             0.5555555555555556,
             "#d8576b"
            ],
            [
             0.6666666666666666,
             "#ed7953"
            ],
            [
             0.7777777777777778,
             "#fb9f3a"
            ],
            [
             0.8888888888888888,
             "#fdca26"
            ],
            [
             1,
             "#f0f921"
            ]
           ]
          },
          "colorway": [
           "#636efa",
           "#EF553B",
           "#00cc96",
           "#ab63fa",
           "#FFA15A",
           "#19d3f3",
           "#FF6692",
           "#B6E880",
           "#FF97FF",
           "#FECB52"
          ],
          "font": {
           "color": "#2a3f5f"
          },
          "geo": {
           "bgcolor": "white",
           "lakecolor": "white",
           "landcolor": "#E5ECF6",
           "showlakes": true,
           "showland": true,
           "subunitcolor": "white"
          },
          "hoverlabel": {
           "align": "left"
          },
          "hovermode": "closest",
          "mapbox": {
           "style": "light"
          },
          "paper_bgcolor": "white",
          "plot_bgcolor": "#E5ECF6",
          "polar": {
           "angularaxis": {
            "gridcolor": "white",
            "linecolor": "white",
            "ticks": ""
           },
           "bgcolor": "#E5ECF6",
           "radialaxis": {
            "gridcolor": "white",
            "linecolor": "white",
            "ticks": ""
           }
          },
          "scene": {
           "xaxis": {
            "backgroundcolor": "#E5ECF6",
            "gridcolor": "white",
            "gridwidth": 2,
            "linecolor": "white",
            "showbackground": true,
            "ticks": "",
            "zerolinecolor": "white"
           },
           "yaxis": {
            "backgroundcolor": "#E5ECF6",
            "gridcolor": "white",
            "gridwidth": 2,
            "linecolor": "white",
            "showbackground": true,
            "ticks": "",
            "zerolinecolor": "white"
           },
           "zaxis": {
            "backgroundcolor": "#E5ECF6",
            "gridcolor": "white",
            "gridwidth": 2,
            "linecolor": "white",
            "showbackground": true,
            "ticks": "",
            "zerolinecolor": "white"
           }
          },
          "shapedefaults": {
           "line": {
            "color": "#2a3f5f"
           }
          },
          "ternary": {
           "aaxis": {
            "gridcolor": "white",
            "linecolor": "white",
            "ticks": ""
           },
           "baxis": {
            "gridcolor": "white",
            "linecolor": "white",
            "ticks": ""
           },
           "bgcolor": "#E5ECF6",
           "caxis": {
            "gridcolor": "white",
            "linecolor": "white",
            "ticks": ""
           }
          },
          "title": {
           "x": 0.05
          },
          "xaxis": {
           "automargin": true,
           "gridcolor": "white",
           "linecolor": "white",
           "ticks": "",
           "title": {
            "standoff": 15
           },
           "zerolinecolor": "white",
           "zerolinewidth": 2
          },
          "yaxis": {
           "automargin": true,
           "gridcolor": "white",
           "linecolor": "white",
           "ticks": "",
           "title": {
            "standoff": 15
           },
           "zerolinecolor": "white",
           "zerolinewidth": 2
          }
         }
        },
        "title": {
         "text": "주택유형별 매매지수비교 2015~2021년"
        }
       }
      },
      "text/html": [
       "<div>                            <div id=\"662aaa24-5c43-4e17-bf87-78a426e7fcee\" class=\"plotly-graph-div\" style=\"height:525px; width:100%;\"></div>            <script type=\"text/javascript\">                require([\"plotly\"], function(Plotly) {                    window.PLOTLYENV=window.PLOTLYENV || {};\n",
       "                    window.PLOTLYENV.BASE_URL='https://plotly.com';                                    if (document.getElementById(\"662aaa24-5c43-4e17-bf87-78a426e7fcee\")) {                    Plotly.newPlot(                        \"662aaa24-5c43-4e17-bf87-78a426e7fcee\",                        [{\"name\": \"\\ub9e4\\ub9e4\", \"type\": \"bar\", \"x\": [\"\\ucd1d\\uc9c0\\uc218[2019.01=100]\", \"\\ub2e8\\ub3c5\\uc8fc\\ud0dd[2019.01=100]\", \"\\uc5f0\\ub9bd\\uc8fc\\ud0dd[2019.01=100]\", \"\\uc544\\ud30c\\ud2b8[2019.01=100]\", \"\\uc544\\ud30c\\ud2b8(\\uc11c\\uc6b8)[2019.01=100]\", \"\\ucd1d\\uc9c0\\uc218(\\uc11c\\uc6b8)[2019.01=100]\"], \"y\": [102.73807407407406, 102.00081481481477, 102.4441851851852, 102.75907407407406, 106.22137037037038, 105.13207407407408]}, {\"name\": \"\\uc804\\uc138\", \"type\": \"bar\", \"x\": [\"\\ucd1d\\uc9c0\\uc218[2019.01=100]\", \"\\ub2e8\\ub3c5\\uc8fc\\ud0dd[2019.01=100]\", \"\\uc5f0\\ub9bd\\uc8fc\\ud0dd[2019.01=100]\", \"\\uc544\\ud30c\\ud2b8[2019.01=100]\", \"\\uc544\\ud30c\\ud2b8(\\uc11c\\uc6b8)[2019.01=100]\", \"\\ucd1d\\uc9c0\\uc218(\\uc11c\\uc6b8)[2019.01=100]\"], \"y\": [101.33281481481481, 101.01455555555555, 101.496, 101.28307407407408, 103.21044444444443, 103.13237037037035]}],                        {\"template\": {\"data\": {\"bar\": [{\"error_x\": {\"color\": \"#2a3f5f\"}, \"error_y\": {\"color\": \"#2a3f5f\"}, \"marker\": {\"line\": {\"color\": \"#E5ECF6\", \"width\": 0.5}}, \"type\": \"bar\"}], \"barpolar\": [{\"marker\": {\"line\": {\"color\": \"#E5ECF6\", \"width\": 0.5}}, \"type\": \"barpolar\"}], \"carpet\": [{\"aaxis\": {\"endlinecolor\": \"#2a3f5f\", \"gridcolor\": \"white\", \"linecolor\": \"white\", \"minorgridcolor\": \"white\", \"startlinecolor\": \"#2a3f5f\"}, \"baxis\": {\"endlinecolor\": \"#2a3f5f\", \"gridcolor\": \"white\", \"linecolor\": \"white\", \"minorgridcolor\": \"white\", \"startlinecolor\": \"#2a3f5f\"}, \"type\": \"carpet\"}], \"choropleth\": [{\"colorbar\": {\"outlinewidth\": 0, \"ticks\": \"\"}, \"type\": \"choropleth\"}], \"contour\": [{\"colorbar\": {\"outlinewidth\": 0, \"ticks\": \"\"}, \"colorscale\": [[0.0, \"#0d0887\"], [0.1111111111111111, \"#46039f\"], [0.2222222222222222, \"#7201a8\"], [0.3333333333333333, \"#9c179e\"], [0.4444444444444444, \"#bd3786\"], [0.5555555555555556, \"#d8576b\"], [0.6666666666666666, \"#ed7953\"], [0.7777777777777778, \"#fb9f3a\"], [0.8888888888888888, \"#fdca26\"], [1.0, \"#f0f921\"]], \"type\": \"contour\"}], \"contourcarpet\": [{\"colorbar\": {\"outlinewidth\": 0, \"ticks\": \"\"}, \"type\": \"contourcarpet\"}], \"heatmap\": [{\"colorbar\": {\"outlinewidth\": 0, \"ticks\": \"\"}, \"colorscale\": [[0.0, \"#0d0887\"], [0.1111111111111111, \"#46039f\"], [0.2222222222222222, \"#7201a8\"], [0.3333333333333333, \"#9c179e\"], [0.4444444444444444, \"#bd3786\"], [0.5555555555555556, \"#d8576b\"], [0.6666666666666666, \"#ed7953\"], [0.7777777777777778, \"#fb9f3a\"], [0.8888888888888888, \"#fdca26\"], [1.0, \"#f0f921\"]], \"type\": \"heatmap\"}], \"heatmapgl\": [{\"colorbar\": {\"outlinewidth\": 0, \"ticks\": \"\"}, \"colorscale\": [[0.0, \"#0d0887\"], [0.1111111111111111, \"#46039f\"], [0.2222222222222222, \"#7201a8\"], [0.3333333333333333, \"#9c179e\"], [0.4444444444444444, \"#bd3786\"], [0.5555555555555556, \"#d8576b\"], [0.6666666666666666, \"#ed7953\"], [0.7777777777777778, \"#fb9f3a\"], [0.8888888888888888, \"#fdca26\"], [1.0, \"#f0f921\"]], \"type\": \"heatmapgl\"}], \"histogram\": [{\"marker\": {\"colorbar\": {\"outlinewidth\": 0, \"ticks\": \"\"}}, \"type\": \"histogram\"}], \"histogram2d\": [{\"colorbar\": {\"outlinewidth\": 0, \"ticks\": \"\"}, \"colorscale\": [[0.0, \"#0d0887\"], [0.1111111111111111, \"#46039f\"], [0.2222222222222222, \"#7201a8\"], [0.3333333333333333, \"#9c179e\"], [0.4444444444444444, \"#bd3786\"], [0.5555555555555556, \"#d8576b\"], [0.6666666666666666, \"#ed7953\"], [0.7777777777777778, \"#fb9f3a\"], [0.8888888888888888, \"#fdca26\"], [1.0, \"#f0f921\"]], \"type\": \"histogram2d\"}], \"histogram2dcontour\": [{\"colorbar\": {\"outlinewidth\": 0, \"ticks\": \"\"}, \"colorscale\": [[0.0, \"#0d0887\"], [0.1111111111111111, \"#46039f\"], [0.2222222222222222, \"#7201a8\"], [0.3333333333333333, \"#9c179e\"], [0.4444444444444444, \"#bd3786\"], [0.5555555555555556, \"#d8576b\"], [0.6666666666666666, \"#ed7953\"], [0.7777777777777778, \"#fb9f3a\"], [0.8888888888888888, \"#fdca26\"], [1.0, \"#f0f921\"]], \"type\": \"histogram2dcontour\"}], \"mesh3d\": [{\"colorbar\": {\"outlinewidth\": 0, \"ticks\": \"\"}, \"type\": \"mesh3d\"}], \"parcoords\": [{\"line\": {\"colorbar\": {\"outlinewidth\": 0, \"ticks\": \"\"}}, \"type\": \"parcoords\"}], \"pie\": [{\"automargin\": true, \"type\": \"pie\"}], \"scatter\": [{\"marker\": {\"colorbar\": {\"outlinewidth\": 0, \"ticks\": \"\"}}, \"type\": \"scatter\"}], \"scatter3d\": [{\"line\": {\"colorbar\": {\"outlinewidth\": 0, \"ticks\": \"\"}}, \"marker\": {\"colorbar\": {\"outlinewidth\": 0, \"ticks\": \"\"}}, \"type\": \"scatter3d\"}], \"scattercarpet\": [{\"marker\": {\"colorbar\": {\"outlinewidth\": 0, \"ticks\": \"\"}}, \"type\": \"scattercarpet\"}], \"scattergeo\": [{\"marker\": {\"colorbar\": {\"outlinewidth\": 0, \"ticks\": \"\"}}, \"type\": \"scattergeo\"}], \"scattergl\": [{\"marker\": {\"colorbar\": {\"outlinewidth\": 0, \"ticks\": \"\"}}, \"type\": \"scattergl\"}], \"scattermapbox\": [{\"marker\": {\"colorbar\": {\"outlinewidth\": 0, \"ticks\": \"\"}}, \"type\": \"scattermapbox\"}], \"scatterpolar\": [{\"marker\": {\"colorbar\": {\"outlinewidth\": 0, \"ticks\": \"\"}}, \"type\": \"scatterpolar\"}], \"scatterpolargl\": [{\"marker\": {\"colorbar\": {\"outlinewidth\": 0, \"ticks\": \"\"}}, \"type\": \"scatterpolargl\"}], \"scatterternary\": [{\"marker\": {\"colorbar\": {\"outlinewidth\": 0, \"ticks\": \"\"}}, \"type\": \"scatterternary\"}], \"surface\": [{\"colorbar\": {\"outlinewidth\": 0, \"ticks\": \"\"}, \"colorscale\": [[0.0, \"#0d0887\"], [0.1111111111111111, \"#46039f\"], [0.2222222222222222, \"#7201a8\"], [0.3333333333333333, \"#9c179e\"], [0.4444444444444444, \"#bd3786\"], [0.5555555555555556, \"#d8576b\"], [0.6666666666666666, \"#ed7953\"], [0.7777777777777778, \"#fb9f3a\"], [0.8888888888888888, \"#fdca26\"], [1.0, \"#f0f921\"]], \"type\": \"surface\"}], \"table\": [{\"cells\": {\"fill\": {\"color\": \"#EBF0F8\"}, \"line\": {\"color\": \"white\"}}, \"header\": {\"fill\": {\"color\": \"#C8D4E3\"}, \"line\": {\"color\": \"white\"}}, \"type\": \"table\"}]}, \"layout\": {\"annotationdefaults\": {\"arrowcolor\": \"#2a3f5f\", \"arrowhead\": 0, \"arrowwidth\": 1}, \"autotypenumbers\": \"strict\", \"coloraxis\": {\"colorbar\": {\"outlinewidth\": 0, \"ticks\": \"\"}}, \"colorscale\": {\"diverging\": [[0, \"#8e0152\"], [0.1, \"#c51b7d\"], [0.2, \"#de77ae\"], [0.3, \"#f1b6da\"], [0.4, \"#fde0ef\"], [0.5, \"#f7f7f7\"], [0.6, \"#e6f5d0\"], [0.7, \"#b8e186\"], [0.8, \"#7fbc41\"], [0.9, \"#4d9221\"], [1, \"#276419\"]], \"sequential\": [[0.0, \"#0d0887\"], [0.1111111111111111, \"#46039f\"], [0.2222222222222222, \"#7201a8\"], [0.3333333333333333, \"#9c179e\"], [0.4444444444444444, \"#bd3786\"], [0.5555555555555556, \"#d8576b\"], [0.6666666666666666, \"#ed7953\"], [0.7777777777777778, \"#fb9f3a\"], [0.8888888888888888, \"#fdca26\"], [1.0, \"#f0f921\"]], \"sequentialminus\": [[0.0, \"#0d0887\"], [0.1111111111111111, \"#46039f\"], [0.2222222222222222, \"#7201a8\"], [0.3333333333333333, \"#9c179e\"], [0.4444444444444444, \"#bd3786\"], [0.5555555555555556, \"#d8576b\"], [0.6666666666666666, \"#ed7953\"], [0.7777777777777778, \"#fb9f3a\"], [0.8888888888888888, \"#fdca26\"], [1.0, \"#f0f921\"]]}, \"colorway\": [\"#636efa\", \"#EF553B\", \"#00cc96\", \"#ab63fa\", \"#FFA15A\", \"#19d3f3\", \"#FF6692\", \"#B6E880\", \"#FF97FF\", \"#FECB52\"], \"font\": {\"color\": \"#2a3f5f\"}, \"geo\": {\"bgcolor\": \"white\", \"lakecolor\": \"white\", \"landcolor\": \"#E5ECF6\", \"showlakes\": true, \"showland\": true, \"subunitcolor\": \"white\"}, \"hoverlabel\": {\"align\": \"left\"}, \"hovermode\": \"closest\", \"mapbox\": {\"style\": \"light\"}, \"paper_bgcolor\": \"white\", \"plot_bgcolor\": \"#E5ECF6\", \"polar\": {\"angularaxis\": {\"gridcolor\": \"white\", \"linecolor\": \"white\", \"ticks\": \"\"}, \"bgcolor\": \"#E5ECF6\", \"radialaxis\": {\"gridcolor\": \"white\", \"linecolor\": \"white\", \"ticks\": \"\"}}, \"scene\": {\"xaxis\": {\"backgroundcolor\": \"#E5ECF6\", \"gridcolor\": \"white\", \"gridwidth\": 2, \"linecolor\": \"white\", \"showbackground\": true, \"ticks\": \"\", \"zerolinecolor\": \"white\"}, \"yaxis\": {\"backgroundcolor\": \"#E5ECF6\", \"gridcolor\": \"white\", \"gridwidth\": 2, \"linecolor\": \"white\", \"showbackground\": true, \"ticks\": \"\", \"zerolinecolor\": \"white\"}, \"zaxis\": {\"backgroundcolor\": \"#E5ECF6\", \"gridcolor\": \"white\", \"gridwidth\": 2, \"linecolor\": \"white\", \"showbackground\": true, \"ticks\": \"\", \"zerolinecolor\": \"white\"}}, \"shapedefaults\": {\"line\": {\"color\": \"#2a3f5f\"}}, \"ternary\": {\"aaxis\": {\"gridcolor\": \"white\", \"linecolor\": \"white\", \"ticks\": \"\"}, \"baxis\": {\"gridcolor\": \"white\", \"linecolor\": \"white\", \"ticks\": \"\"}, \"bgcolor\": \"#E5ECF6\", \"caxis\": {\"gridcolor\": \"white\", \"linecolor\": \"white\", \"ticks\": \"\"}}, \"title\": {\"x\": 0.05}, \"xaxis\": {\"automargin\": true, \"gridcolor\": \"white\", \"linecolor\": \"white\", \"ticks\": \"\", \"title\": {\"standoff\": 15}, \"zerolinecolor\": \"white\", \"zerolinewidth\": 2}, \"yaxis\": {\"automargin\": true, \"gridcolor\": \"white\", \"linecolor\": \"white\", \"ticks\": \"\", \"title\": {\"standoff\": 15}, \"zerolinecolor\": \"white\", \"zerolinewidth\": 2}}}, \"title\": {\"text\": \"\\uc8fc\\ud0dd\\uc720\\ud615\\ubcc4 \\ub9e4\\ub9e4\\uc9c0\\uc218\\ube44\\uad50 2015~2021\\ub144\"}},                        {\"showLink\": true, \"linkText\": \"Export to plotly.com\", \"plotlyServerURL\": \"https://plotly.com\", \"responsive\": true}                    ).then(function(){\n",
       "                            \n",
       "var gd = document.getElementById('662aaa24-5c43-4e17-bf87-78a426e7fcee');\n",
       "var x = new MutationObserver(function (mutations, observer) {{\n",
       "        var display = window.getComputedStyle(gd).display;\n",
       "        if (!display || display === 'none') {{\n",
       "            console.log([gd, 'removed!']);\n",
       "            Plotly.purge(gd);\n",
       "            observer.disconnect();\n",
       "        }}\n",
       "}});\n",
       "\n",
       "// Listen for the removal of the full notebook cells\n",
       "var notebookContainer = gd.closest('#notebook-container');\n",
       "if (notebookContainer) {{\n",
       "    x.observe(notebookContainer, {childList: true});\n",
       "}}\n",
       "\n",
       "// Listen for the clearing of the current output cell\n",
       "var outputEl = gd.closest('.output');\n",
       "if (outputEl) {{\n",
       "    x.observe(outputEl, {childList: true});\n",
       "}}\n",
       "\n",
       "                        })                };                });            </script>        </div>"
      ]
     },
     "metadata": {},
     "output_type": "display_data"
    }
   ],
   "source": [
    "주택매매가격지수2 = 주택매매가격지수['2019-01-01':'2021-05-01']\n",
    "주택전세가격지수2 = 주택전세가격지수['2019-01-01':'2021-05-01']\n",
    "\n",
    "매매_평균 = 주택매매가격지수2.mean().reset_index()\n",
    "전세_평균 = 주택전세가격지수2.mean().reset_index()\n",
    "\n",
    "\n",
    "trace1 = go.Bar(x=매매_평균[\"index\"], y=매매_평균[0], name='매매')\n",
    "trace2 = go.Bar(x=전세_평균[\"index\"], y=전세_평균[0], name='전세')\n",
    "\n",
    "data = [trace1, trace2]\n",
    "layout = go.Layout(title='주택유형별 매매지수비교 2015~2021년')\n",
    "fig = go.Figure(data=data, layout=layout)\n",
    "fig.iplot()"
   ]
  },
  {
   "cell_type": "markdown",
   "metadata": {},
   "source": [
    "- 19년 1월을 기준으로 지금까지 약 2년간 평균적으로 단독,연립주택 아파트까지 모든 주택의 전세,매매가격지수가 상승했다.\n",
    "- 특히 서울지역의 아파트 매매가격지수가 105를 초과한 모습을 확인 할 수 있다."
   ]
  },
  {
   "cell_type": "code",
   "execution_count": 42,
   "metadata": {
    "scrolled": false
   },
   "outputs": [
    {
     "data": {
      "image/png": "[encoded data removed]",
      "text/plain": [
       "<Figure size 1080x720 with 1 Axes>"
      ]
     },
     "metadata": {
      "needs_background": "light"
     },
     "output_type": "display_data"
    }
   ],
   "source": [
    "주택매매가격지수3 = 주택매매가격지수['2015-01-01':'2021-05-01']\n",
    "주택전세가격지수3 = 주택전세가격지수['2015-01-01':'2021-05-01']\n",
    "\n",
    "plt.figure(figsize=(15, 10))\n",
    "for i in 주택매매가격지수.columns:\n",
    "    sns.lineplot(data=주택매매가격지수3, x=주택매매가격지수3.index, y=주택매매가격지수3[i])\n",
    "plt.xlabel('datetime')\n",
    "plt.ylabel('price index')\n",
    "plt.show()"
   ]
  },
  {
   "cell_type": "markdown",
   "metadata": {},
   "source": [
    "- 2018년~2019년에 가파른 상승세가 짧게 존재한다.\n",
    "- 2020년~2020년까지 비교적 기울기가 완만한 구간이 존재한다.\n",
    "- 2020년 중반부터 현재까지 주택유형에 관계없이 급격한 상향세를 보인다."
   ]
  },
  {
   "cell_type": "code",
   "execution_count": 44,
   "metadata": {},
   "outputs": [
    {
     "data": {
      "application/vnd.plotly.v1+json": {
       "config": {
        "linkText": "Export to plotly.com",
        "plotlyServerURL": "https://plotly.com",
        "showLink": true
       },
       "data": [
        {
         "mode": "lines",
         "name": "매매",
         "type": "scatter",
         "x": [
          "2020. 11",
          "2020. 12",
          "2021. 01",
          "2021. 02",
          "2021. 03",
          "2021. 04"
         ],
         "y": [
          104.35111940298505,
          105.31082089552235,
          106.17052238805968,
          107.16305970149241,
          107.97052238805976,
          108.74589552238815
         ]
        },
        {
         "mode": "lines",
         "name": "전세",
         "type": "scatter",
         "x": [
          "2020. 11",
          "2020. 12",
          "2021. 01",
          "2021. 02",
          "2021. 03",
          "2021. 04"
         ],
         "y": [
          99.9628731343283,
          100.94272388059701,
          101.68992537313441,
          102.35802238805977,
          102.82537313432825,
          103.19813432835817
         ]
        }
       ],
       "layout": {
        "template": {
         "data": {
          "bar": [
           {
            "error_x": {
             "color": "#2a3f5f"
            },
            "error_y": {
             "color": "#2a3f5f"
            },
            "marker": {
             "line": {
              "color": "#E5ECF6",
              "width": 0.5
             }
            },
            "type": "bar"
           }
          ],
          "barpolar": [
           {
            "marker": {
             "line": {
              "color": "#E5ECF6",
              "width": 0.5
             }
            },
            "type": "barpolar"
           }
          ],
          "carpet": [
           {
            "aaxis": {
             "endlinecolor": "#2a3f5f",
             "gridcolor": "white",
             "linecolor": "white",
             "minorgridcolor": "white",
             "startlinecolor": "#2a3f5f"
            },
            "baxis": {
             "endlinecolor": "#2a3f5f",
             "gridcolor": "white",
             "linecolor": "white",
             "minorgridcolor": "white",
             "startlinecolor": "#2a3f5f"
            },
            "type": "carpet"
           }
          ],
          "choropleth": [
           {
            "colorbar": {
             "outlinewidth": 0,
             "ticks": ""
            },
            "type": "choropleth"
           }
          ],
          "contour": [
           {
            "colorbar": {
             "outlinewidth": 0,
             "ticks": ""
            },
            "colorscale": [
             [
              0,
              "#0d0887"
             ],
             [
              0.1111111111111111,
              "#46039f"
             ],
             [
              0.2222222222222222,
              "#7201a8"
             ],
             [
              0.3333333333333333,
              "#9c179e"
             ],
             [
              0.4444444444444444,
              "#bd3786"
             ],
             [
              0.5555555555555556,
              "#d8576b"
             ],
             [
              0.6666666666666666,
              "#ed7953"
             ],
             [
              0.7777777777777778,
              "#fb9f3a"
             ],
             [
              0.8888888888888888,
              "#fdca26"
             ],
             [
              1,
              "#f0f921"
             ]
            ],
            "type": "contour"
           }
          ],
          "contourcarpet": [
           {
            "colorbar": {
             "outlinewidth": 0,
             "ticks": ""
            },
            "type": "contourcarpet"
           }
          ],
          "heatmap": [
           {
            "colorbar": {
             "outlinewidth": 0,
             "ticks": ""
            },
            "colorscale": [
             [
              0,
              "#0d0887"
             ],
             [
              0.1111111111111111,
              "#46039f"
             ],
             [
              0.2222222222222222,
              "#7201a8"
             ],
             [
              0.3333333333333333,
              "#9c179e"
             ],
             [
              0.4444444444444444,
              "#bd3786"
             ],
             [
              0.5555555555555556,
              "#d8576b"
             ],
             [
              0.6666666666666666,
              "#ed7953"
             ],
             [
              0.7777777777777778,
              "#fb9f3a"
             ],
             [
              0.8888888888888888,
              "#fdca26"
             ],
             [
              1,
              "#f0f921"
             ]
            ],
            "type": "heatmap"
           }
          ],
          "heatmapgl": [
           {
            "colorbar": {
             "outlinewidth": 0,
             "ticks": ""
            },
            "colorscale": [
             [
              0,
              "#0d0887"
             ],
             [
              0.1111111111111111,
              "#46039f"
             ],
             [
              0.2222222222222222,
              "#7201a8"
             ],
             [
              0.3333333333333333,
              "#9c179e"
             ],
             [
              0.4444444444444444,
              "#bd3786"
             ],
             [
              0.5555555555555556,
              "#d8576b"
             ],
             [
              0.6666666666666666,
              "#ed7953"
             ],
             [
              0.7777777777777778,
              "#fb9f3a"
             ],
             [
              0.8888888888888888,
              "#fdca26"
             ],
             [
              1,
              "#f0f921"
             ]
            ],
            "type": "heatmapgl"
           }
          ],
          "histogram": [
           {
            "marker": {
             "colorbar": {
              "outlinewidth": 0,
              "ticks": ""
             }
            },
            "type": "histogram"
           }
          ],
          "histogram2d": [
           {
            "colorbar": {
             "outlinewidth": 0,
             "ticks": ""
            },
            "colorscale": [
             [
              0,
              "#0d0887"
             ],
             [
              0.1111111111111111,
              "#46039f"
             ],
             [
              0.2222222222222222,
              "#7201a8"
             ],
             [
              0.3333333333333333,
              "#9c179e"
             ],
             [
              0.4444444444444444,
              "#bd3786"
             ],
             [
              0.5555555555555556,
              "#d8576b"
             ],
             [
              0.6666666666666666,
              "#ed7953"
             ],
             [
              0.7777777777777778,
              "#fb9f3a"
             ],
             [
              0.8888888888888888,
              "#fdca26"
             ],
             [
              1,
              "#f0f921"
             ]
            ],
            "type": "histogram2d"
           }
          ],
          "histogram2dcontour": [
           {
            "colorbar": {
             "outlinewidth": 0,
             "ticks": ""
            },
            "colorscale": [
             [
              0,
              "#0d0887"
             ],
             [
              0.1111111111111111,
              "#46039f"
             ],
             [
              0.2222222222222222,
              "#7201a8"
             ],
             [
              0.3333333333333333,
              "#9c179e"
             ],
             [
              0.4444444444444444,
              "#bd3786"
             ],
             [
              0.5555555555555556,
              "#d8576b"
             ],
             [
              0.6666666666666666,
              "#ed7953"
             ],
             [
              0.7777777777777778,
              "#fb9f3a"
             ],
             [
              0.8888888888888888,
              "#fdca26"
             ],
             [
              1,
              "#f0f921"
             ]
            ],
            "type": "histogram2dcontour"
           }
          ],
          "mesh3d": [
           {
            "colorbar": {
             "outlinewidth": 0,
             "ticks": ""
            },
            "type": "mesh3d"
           }
          ],
          "parcoords": [
           {
            "line": {
             "colorbar": {
              "outlinewidth": 0,
              "ticks": ""
             }
            },
            "type": "parcoords"
           }
          ],
          "pie": [
           {
            "automargin": true,
            "type": "pie"
           }
          ],
          "scatter": [
           {
            "marker": {
             "colorbar": {
              "outlinewidth": 0,
              "ticks": ""
             }
            },
            "type": "scatter"
           }
          ],
          "scatter3d": [
           {
            "line": {
             "colorbar": {
              "outlinewidth": 0,
              "ticks": ""
             }
            },
            "marker": {
             "colorbar": {
              "outlinewidth": 0,
              "ticks": ""
             }
            },
            "type": "scatter3d"
           }
          ],
          "scattercarpet": [
           {
            "marker": {
             "colorbar": {
              "outlinewidth": 0,
              "ticks": ""
             }
            },
            "type": "scattercarpet"
           }
          ],
          "scattergeo": [
           {
            "marker": {
             "colorbar": {
              "outlinewidth": 0,
              "ticks": ""
             }
            },
            "type": "scattergeo"
           }
          ],
          "scattergl": [
           {
            "marker": {
             "colorbar": {
              "outlinewidth": 0,
              "ticks": ""
             }
            },
            "type": "scattergl"
           }
          ],
          "scattermapbox": [
           {
            "marker": {
             "colorbar": {
              "outlinewidth": 0,
              "ticks": ""
             }
            },
            "type": "scattermapbox"
           }
          ],
          "scatterpolar": [
           {
            "marker": {
             "colorbar": {
              "outlinewidth": 0,
              "ticks": ""
             }
            },
            "type": "scatterpolar"
           }
          ],
          "scatterpolargl": [
           {
            "marker": {
             "colorbar": {
              "outlinewidth": 0,
              "ticks": ""
             }
            },
            "type": "scatterpolargl"
           }
          ],
          "scatterternary": [
           {
            "marker": {
             "colorbar": {
              "outlinewidth": 0,
              "ticks": ""
             }
            },
            "type": "scatterternary"
           }
          ],
          "surface": [
           {
            "colorbar": {
             "outlinewidth": 0,
             "ticks": ""
            },
            "colorscale": [
             [
              0,
              "#0d0887"
             ],
             [
              0.1111111111111111,
              "#46039f"
             ],
             [
              0.2222222222222222,
              "#7201a8"
             ],
             [
              0.3333333333333333,
              "#9c179e"
             ],
             [
              0.4444444444444444,
              "#bd3786"
             ],
             [
              0.5555555555555556,
              "#d8576b"
             ],
             [
              0.6666666666666666,
              "#ed7953"
             ],
             [
              0.7777777777777778,
              "#fb9f3a"
             ],
             [
              0.8888888888888888,
              "#fdca26"
             ],
             [
              1,
              "#f0f921"
             ]
            ],
            "type": "surface"
           }
          ],
          "table": [
           {
            "cells": {
             "fill": {
              "color": "#EBF0F8"
             },
             "line": {
              "color": "white"
             }
            },
            "header": {
             "fill": {
              "color": "#C8D4E3"
             },
             "line": {
              "color": "white"
             }
            },
            "type": "table"
           }
          ]
         },
         "layout": {
          "annotationdefaults": {
           "arrowcolor": "#2a3f5f",
           "arrowhead": 0,
           "arrowwidth": 1
          },
          "autotypenumbers": "strict",
          "coloraxis": {
           "colorbar": {
            "outlinewidth": 0,
            "ticks": ""
           }
          },
          "colorscale": {
           "diverging": [
            [
             0,
             "#8e0152"
            ],
            [
             0.1,
             "#c51b7d"
            ],
            [
             0.2,
             "#de77ae"
            ],
            [
             0.3,
             "#f1b6da"
            ],
            [
             0.4,
             "#fde0ef"
            ],
            [
             0.5,
             "#f7f7f7"
            ],
            [
             0.6,
             "#e6f5d0"
            ],
            [
             0.7,
             "#b8e186"
            ],
            [
             0.8,
             "#7fbc41"
            ],
            [
             0.9,
             "#4d9221"
            ],
            [
             1,
             "#276419"
            ]
           ],
           "sequential": [
            [
             0,
             "#0d0887"
            ],
            [
             0.1111111111111111,
             "#46039f"
            ],
            [
             0.2222222222222222,
             "#7201a8"
            ],
            [
             0.3333333333333333,
             "#9c179e"
            ],
            [
             0.4444444444444444,
             "#bd3786"
            ],
            [
             0.5555555555555556,
             "#d8576b"
            ],
            [
             0.6666666666666666,
             "#ed7953"
            ],
            [
             0.7777777777777778,
             "#fb9f3a"
            ],
            [
             0.8888888888888888,
             "#fdca26"
            ],
            [
             1,
             "#f0f921"
            ]
           ],
           "sequentialminus": [
            [
             0,
             "#0d0887"
            ],
            [
             0.1111111111111111,
             "#46039f"
            ],
            [
             0.2222222222222222,
             "#7201a8"
            ],
            [
             0.3333333333333333,
             "#9c179e"
            ],
            [
             0.4444444444444444,
             "#bd3786"
            ],
            [
             0.5555555555555556,
             "#d8576b"
            ],
            [
             0.6666666666666666,
             "#ed7953"
            ],
            [
             0.7777777777777778,
             "#fb9f3a"
            ],
            [
             0.8888888888888888,
             "#fdca26"
            ],
            [
             1,
             "#f0f921"
            ]
           ]
          },
          "colorway": [
           "#636efa",
           "#EF553B",
           "#00cc96",
           "#ab63fa",
           "#FFA15A",
           "#19d3f3",
           "#FF6692",
           "#B6E880",
           "#FF97FF",
           "#FECB52"
          ],
          "font": {
           "color": "#2a3f5f"
          },
          "geo": {
           "bgcolor": "white",
           "lakecolor": "white",
           "landcolor": "#E5ECF6",
           "showlakes": true,
           "showland": true,
           "subunitcolor": "white"
          },
          "hoverlabel": {
           "align": "left"
          },
          "hovermode": "closest",
          "mapbox": {
           "style": "light"
          },
          "paper_bgcolor": "white",
          "plot_bgcolor": "#E5ECF6",
          "polar": {
           "angularaxis": {
            "gridcolor": "white",
            "linecolor": "white",
            "ticks": ""
           },
           "bgcolor": "#E5ECF6",
           "radialaxis": {
            "gridcolor": "white",
            "linecolor": "white",
            "ticks": ""
           }
          },
          "scene": {
           "xaxis": {
            "backgroundcolor": "#E5ECF6",
            "gridcolor": "white",
            "gridwidth": 2,
            "linecolor": "white",
            "showbackground": true,
            "ticks": "",
            "zerolinecolor": "white"
           },
           "yaxis": {
            "backgroundcolor": "#E5ECF6",
            "gridcolor": "white",
            "gridwidth": 2,
            "linecolor": "white",
            "showbackground": true,
            "ticks": "",
            "zerolinecolor": "white"
           },
           "zaxis": {
            "backgroundcolor": "#E5ECF6",
            "gridcolor": "white",
            "gridwidth": 2,
            "linecolor": "white",
            "showbackground": true,
            "ticks": "",
            "zerolinecolor": "white"
           }
          },
          "shapedefaults": {
           "line": {
            "color": "#2a3f5f"
           }
          },
          "ternary": {
           "aaxis": {
            "gridcolor": "white",
            "linecolor": "white",
            "ticks": ""
           },
           "baxis": {
            "gridcolor": "white",
            "linecolor": "white",
            "ticks": ""
           },
           "bgcolor": "#E5ECF6",
           "caxis": {
            "gridcolor": "white",
            "linecolor": "white",
            "ticks": ""
           }
          },
          "title": {
           "x": 0.05
          },
          "xaxis": {
           "automargin": true,
           "gridcolor": "white",
           "linecolor": "white",
           "ticks": "",
           "title": {
            "standoff": 15
           },
           "zerolinecolor": "white",
           "zerolinewidth": 2
          },
          "yaxis": {
           "automargin": true,
           "gridcolor": "white",
           "linecolor": "white",
           "ticks": "",
           "title": {
            "standoff": 15
           },
           "zerolinecolor": "white",
           "zerolinewidth": 2
          }
         }
        },
        "title": {
         "text": "최근 6개월 전지역 평균 전세, 매매지수 변화"
        }
       }
      },
      "text/html": [
       "<div>                            <div id=\"286342fa-4ad6-465e-b475-89b9fa1e2783\" class=\"plotly-graph-div\" style=\"height:525px; width:100%;\"></div>            <script type=\"text/javascript\">                require([\"plotly\"], function(Plotly) {                    window.PLOTLYENV=window.PLOTLYENV || {};\n",
       "                    window.PLOTLYENV.BASE_URL='https://plotly.com';                                    if (document.getElementById(\"286342fa-4ad6-465e-b475-89b9fa1e2783\")) {                    Plotly.newPlot(                        \"286342fa-4ad6-465e-b475-89b9fa1e2783\",                        [{\"mode\": \"lines\", \"name\": \"\\ub9e4\\ub9e4\", \"type\": \"scatter\", \"x\": [\"2020. 11\", \"2020. 12\", \"2021. 01\", \"2021. 02\", \"2021. 03\", \"2021. 04\"], \"y\": [104.35111940298505, 105.31082089552235, 106.17052238805968, 107.16305970149241, 107.97052238805976, 108.74589552238815]}, {\"mode\": \"lines\", \"name\": \"\\uc804\\uc138\", \"type\": \"scatter\", \"x\": [\"2020. 11\", \"2020. 12\", \"2021. 01\", \"2021. 02\", \"2021. 03\", \"2021. 04\"], \"y\": [99.9628731343283, 100.94272388059701, 101.68992537313441, 102.35802238805977, 102.82537313432825, 103.19813432835817]}],                        {\"template\": {\"data\": {\"bar\": [{\"error_x\": {\"color\": \"#2a3f5f\"}, \"error_y\": {\"color\": \"#2a3f5f\"}, \"marker\": {\"line\": {\"color\": \"#E5ECF6\", \"width\": 0.5}}, \"type\": \"bar\"}], \"barpolar\": [{\"marker\": {\"line\": {\"color\": \"#E5ECF6\", \"width\": 0.5}}, \"type\": \"barpolar\"}], \"carpet\": [{\"aaxis\": {\"endlinecolor\": \"#2a3f5f\", \"gridcolor\": \"white\", \"linecolor\": \"white\", \"minorgridcolor\": \"white\", \"startlinecolor\": \"#2a3f5f\"}, \"baxis\": {\"endlinecolor\": \"#2a3f5f\", \"gridcolor\": \"white\", \"linecolor\": \"white\", \"minorgridcolor\": \"white\", \"startlinecolor\": \"#2a3f5f\"}, \"type\": \"carpet\"}], \"choropleth\": [{\"colorbar\": {\"outlinewidth\": 0, \"ticks\": \"\"}, \"type\": \"choropleth\"}], \"contour\": [{\"colorbar\": {\"outlinewidth\": 0, \"ticks\": \"\"}, \"colorscale\": [[0.0, \"#0d0887\"], [0.1111111111111111, \"#46039f\"], [0.2222222222222222, \"#7201a8\"], [0.3333333333333333, \"#9c179e\"], [0.4444444444444444, \"#bd3786\"], [0.5555555555555556, \"#d8576b\"], [0.6666666666666666, \"#ed7953\"], [0.7777777777777778, \"#fb9f3a\"], [0.8888888888888888, \"#fdca26\"], [1.0, \"#f0f921\"]], \"type\": \"contour\"}], \"contourcarpet\": [{\"colorbar\": {\"outlinewidth\": 0, \"ticks\": \"\"}, \"type\": \"contourcarpet\"}], \"heatmap\": [{\"colorbar\": {\"outlinewidth\": 0, \"ticks\": \"\"}, \"colorscale\": [[0.0, \"#0d0887\"], [0.1111111111111111, \"#46039f\"], [0.2222222222222222, \"#7201a8\"], [0.3333333333333333, \"#9c179e\"], [0.4444444444444444, \"#bd3786\"], [0.5555555555555556, \"#d8576b\"], [0.6666666666666666, \"#ed7953\"], [0.7777777777777778, \"#fb9f3a\"], [0.8888888888888888, \"#fdca26\"], [1.0, \"#f0f921\"]], \"type\": \"heatmap\"}], \"heatmapgl\": [{\"colorbar\": {\"outlinewidth\": 0, \"ticks\": \"\"}, \"colorscale\": [[0.0, \"#0d0887\"], [0.1111111111111111, \"#46039f\"], [0.2222222222222222, \"#7201a8\"], [0.3333333333333333, \"#9c179e\"], [0.4444444444444444, \"#bd3786\"], [0.5555555555555556, \"#d8576b\"], [0.6666666666666666, \"#ed7953\"], [0.7777777777777778, \"#fb9f3a\"], [0.8888888888888888, \"#fdca26\"], [1.0, \"#f0f921\"]], \"type\": \"heatmapgl\"}], \"histogram\": [{\"marker\": {\"colorbar\": {\"outlinewidth\": 0, \"ticks\": \"\"}}, \"type\": \"histogram\"}], \"histogram2d\": [{\"colorbar\": {\"outlinewidth\": 0, \"ticks\": \"\"}, \"colorscale\": [[0.0, \"#0d0887\"], [0.1111111111111111, \"#46039f\"], [0.2222222222222222, \"#7201a8\"], [0.3333333333333333, \"#9c179e\"], [0.4444444444444444, \"#bd3786\"], [0.5555555555555556, \"#d8576b\"], [0.6666666666666666, \"#ed7953\"], [0.7777777777777778, \"#fb9f3a\"], [0.8888888888888888, \"#fdca26\"], [1.0, \"#f0f921\"]], \"type\": \"histogram2d\"}], \"histogram2dcontour\": [{\"colorbar\": {\"outlinewidth\": 0, \"ticks\": \"\"}, \"colorscale\": [[0.0, \"#0d0887\"], [0.1111111111111111, \"#46039f\"], [0.2222222222222222, \"#7201a8\"], [0.3333333333333333, \"#9c179e\"], [0.4444444444444444, \"#bd3786\"], [0.5555555555555556, \"#d8576b\"], [0.6666666666666666, \"#ed7953\"], [0.7777777777777778, \"#fb9f3a\"], [0.8888888888888888, \"#fdca26\"], [1.0, \"#f0f921\"]], \"type\": \"histogram2dcontour\"}], \"mesh3d\": [{\"colorbar\": {\"outlinewidth\": 0, \"ticks\": \"\"}, \"type\": \"mesh3d\"}], \"parcoords\": [{\"line\": {\"colorbar\": {\"outlinewidth\": 0, \"ticks\": \"\"}}, \"type\": \"parcoords\"}], \"pie\": [{\"automargin\": true, \"type\": \"pie\"}], \"scatter\": [{\"marker\": {\"colorbar\": {\"outlinewidth\": 0, \"ticks\": \"\"}}, \"type\": \"scatter\"}], \"scatter3d\": [{\"line\": {\"colorbar\": {\"outlinewidth\": 0, \"ticks\": \"\"}}, \"marker\": {\"colorbar\": {\"outlinewidth\": 0, \"ticks\": \"\"}}, \"type\": \"scatter3d\"}], \"scattercarpet\": [{\"marker\": {\"colorbar\": {\"outlinewidth\": 0, \"ticks\": \"\"}}, \"type\": \"scattercarpet\"}], \"scattergeo\": [{\"marker\": {\"colorbar\": {\"outlinewidth\": 0, \"ticks\": \"\"}}, \"type\": \"scattergeo\"}], \"scattergl\": [{\"marker\": {\"colorbar\": {\"outlinewidth\": 0, \"ticks\": \"\"}}, \"type\": \"scattergl\"}], \"scattermapbox\": [{\"marker\": {\"colorbar\": {\"outlinewidth\": 0, \"ticks\": \"\"}}, \"type\": \"scattermapbox\"}], \"scatterpolar\": [{\"marker\": {\"colorbar\": {\"outlinewidth\": 0, \"ticks\": \"\"}}, \"type\": \"scatterpolar\"}], \"scatterpolargl\": [{\"marker\": {\"colorbar\": {\"outlinewidth\": 0, \"ticks\": \"\"}}, \"type\": \"scatterpolargl\"}], \"scatterternary\": [{\"marker\": {\"colorbar\": {\"outlinewidth\": 0, \"ticks\": \"\"}}, \"type\": \"scatterternary\"}], \"surface\": [{\"colorbar\": {\"outlinewidth\": 0, \"ticks\": \"\"}, \"colorscale\": [[0.0, \"#0d0887\"], [0.1111111111111111, \"#46039f\"], [0.2222222222222222, \"#7201a8\"], [0.3333333333333333, \"#9c179e\"], [0.4444444444444444, \"#bd3786\"], [0.5555555555555556, \"#d8576b\"], [0.6666666666666666, \"#ed7953\"], [0.7777777777777778, \"#fb9f3a\"], [0.8888888888888888, \"#fdca26\"], [1.0, \"#f0f921\"]], \"type\": \"surface\"}], \"table\": [{\"cells\": {\"fill\": {\"color\": \"#EBF0F8\"}, \"line\": {\"color\": \"white\"}}, \"header\": {\"fill\": {\"color\": \"#C8D4E3\"}, \"line\": {\"color\": \"white\"}}, \"type\": \"table\"}]}, \"layout\": {\"annotationdefaults\": {\"arrowcolor\": \"#2a3f5f\", \"arrowhead\": 0, \"arrowwidth\": 1}, \"autotypenumbers\": \"strict\", \"coloraxis\": {\"colorbar\": {\"outlinewidth\": 0, \"ticks\": \"\"}}, \"colorscale\": {\"diverging\": [[0, \"#8e0152\"], [0.1, \"#c51b7d\"], [0.2, \"#de77ae\"], [0.3, \"#f1b6da\"], [0.4, \"#fde0ef\"], [0.5, \"#f7f7f7\"], [0.6, \"#e6f5d0\"], [0.7, \"#b8e186\"], [0.8, \"#7fbc41\"], [0.9, \"#4d9221\"], [1, \"#276419\"]], \"sequential\": [[0.0, \"#0d0887\"], [0.1111111111111111, \"#46039f\"], [0.2222222222222222, \"#7201a8\"], [0.3333333333333333, \"#9c179e\"], [0.4444444444444444, \"#bd3786\"], [0.5555555555555556, \"#d8576b\"], [0.6666666666666666, \"#ed7953\"], [0.7777777777777778, \"#fb9f3a\"], [0.8888888888888888, \"#fdca26\"], [1.0, \"#f0f921\"]], \"sequentialminus\": [[0.0, \"#0d0887\"], [0.1111111111111111, \"#46039f\"], [0.2222222222222222, \"#7201a8\"], [0.3333333333333333, \"#9c179e\"], [0.4444444444444444, \"#bd3786\"], [0.5555555555555556, \"#d8576b\"], [0.6666666666666666, \"#ed7953\"], [0.7777777777777778, \"#fb9f3a\"], [0.8888888888888888, \"#fdca26\"], [1.0, \"#f0f921\"]]}, \"colorway\": [\"#636efa\", \"#EF553B\", \"#00cc96\", \"#ab63fa\", \"#FFA15A\", \"#19d3f3\", \"#FF6692\", \"#B6E880\", \"#FF97FF\", \"#FECB52\"], \"font\": {\"color\": \"#2a3f5f\"}, \"geo\": {\"bgcolor\": \"white\", \"lakecolor\": \"white\", \"landcolor\": \"#E5ECF6\", \"showlakes\": true, \"showland\": true, \"subunitcolor\": \"white\"}, \"hoverlabel\": {\"align\": \"left\"}, \"hovermode\": \"closest\", \"mapbox\": {\"style\": \"light\"}, \"paper_bgcolor\": \"white\", \"plot_bgcolor\": \"#E5ECF6\", \"polar\": {\"angularaxis\": {\"gridcolor\": \"white\", \"linecolor\": \"white\", \"ticks\": \"\"}, \"bgcolor\": \"#E5ECF6\", \"radialaxis\": {\"gridcolor\": \"white\", \"linecolor\": \"white\", \"ticks\": \"\"}}, \"scene\": {\"xaxis\": {\"backgroundcolor\": \"#E5ECF6\", \"gridcolor\": \"white\", \"gridwidth\": 2, \"linecolor\": \"white\", \"showbackground\": true, \"ticks\": \"\", \"zerolinecolor\": \"white\"}, \"yaxis\": {\"backgroundcolor\": \"#E5ECF6\", \"gridcolor\": \"white\", \"gridwidth\": 2, \"linecolor\": \"white\", \"showbackground\": true, \"ticks\": \"\", \"zerolinecolor\": \"white\"}, \"zaxis\": {\"backgroundcolor\": \"#E5ECF6\", \"gridcolor\": \"white\", \"gridwidth\": 2, \"linecolor\": \"white\", \"showbackground\": true, \"ticks\": \"\", \"zerolinecolor\": \"white\"}}, \"shapedefaults\": {\"line\": {\"color\": \"#2a3f5f\"}}, \"ternary\": {\"aaxis\": {\"gridcolor\": \"white\", \"linecolor\": \"white\", \"ticks\": \"\"}, \"baxis\": {\"gridcolor\": \"white\", \"linecolor\": \"white\", \"ticks\": \"\"}, \"bgcolor\": \"#E5ECF6\", \"caxis\": {\"gridcolor\": \"white\", \"linecolor\": \"white\", \"ticks\": \"\"}}, \"title\": {\"x\": 0.05}, \"xaxis\": {\"automargin\": true, \"gridcolor\": \"white\", \"linecolor\": \"white\", \"ticks\": \"\", \"title\": {\"standoff\": 15}, \"zerolinecolor\": \"white\", \"zerolinewidth\": 2}, \"yaxis\": {\"automargin\": true, \"gridcolor\": \"white\", \"linecolor\": \"white\", \"ticks\": \"\", \"title\": {\"standoff\": 15}, \"zerolinecolor\": \"white\", \"zerolinewidth\": 2}}}, \"title\": {\"text\": \"\\ucd5c\\uadfc 6\\uac1c\\uc6d4 \\uc804\\uc9c0\\uc5ed \\ud3c9\\uade0 \\uc804\\uc138, \\ub9e4\\ub9e4\\uc9c0\\uc218 \\ubcc0\\ud654\"}},                        {\"showLink\": true, \"linkText\": \"Export to plotly.com\", \"plotlyServerURL\": \"https://plotly.com\", \"responsive\": true}                    ).then(function(){\n",
       "                            \n",
       "var gd = document.getElementById('286342fa-4ad6-465e-b475-89b9fa1e2783');\n",
       "var x = new MutationObserver(function (mutations, observer) {{\n",
       "        var display = window.getComputedStyle(gd).display;\n",
       "        if (!display || display === 'none') {{\n",
       "            console.log([gd, 'removed!']);\n",
       "            Plotly.purge(gd);\n",
       "            observer.disconnect();\n",
       "        }}\n",
       "}});\n",
       "\n",
       "// Listen for the removal of the full notebook cells\n",
       "var notebookContainer = gd.closest('#notebook-container');\n",
       "if (notebookContainer) {{\n",
       "    x.observe(notebookContainer, {childList: true});\n",
       "}}\n",
       "\n",
       "// Listen for the clearing of the current output cell\n",
       "var outputEl = gd.closest('.output');\n",
       "if (outputEl) {{\n",
       "    x.observe(outputEl, {childList: true});\n",
       "}}\n",
       "\n",
       "                        })                };                });            </script>        </div>"
      ]
     },
     "metadata": {},
     "output_type": "display_data"
    }
   ],
   "source": [
    "지역별매매평균 = 지역별주택매매가격지수.mean().reset_index()\n",
    "지역별전세평균 = 지역별주택전세가격지수.mean().reset_index()\n",
    "\n",
    "trace3 = go.Scatter(x=지역별매매평균['index'], y=지역별매매평균[0], mode='lines', name ='매매')\n",
    "trace4 = go.Scatter(x=지역별전세평균['index'], y=지역별전세평균[0], mode='lines', name ='전세')\n",
    "data2 = [trace3, trace4]\n",
    "layout2 = go.Layout(title='최근 6개월 전지역 평균 전세, 매매지수 변화')\n",
    "fig2 = go.Figure(data=data2, layout=layout2)\n",
    "fig2.iplot()"
   ]
  },
  {
   "cell_type": "markdown",
   "metadata": {},
   "source": [
    "- 보다 세부적으로 최근 6개월을 살펴봐도 전세, 매매지수는 꾸준히 상승하고 있다.\n",
    "- 2020년 12월부터 미세하게 상승세가 감소했다."
   ]
  },
  {
   "cell_type": "code",
   "execution_count": 46,
   "metadata": {},
   "outputs": [
    {
     "data": {
      "application/vnd.plotly.v1+json": {
       "config": {
        "linkText": "Export to plotly.com",
        "plotlyServerURL": "https://plotly.com",
        "showLink": true
       },
       "data": [
        {
         "name": "매매",
         "type": "bar",
         "x": [
          "5대광역시",
          "6대광역시",
          "8개도",
          "9개도",
          "강원",
          "경기",
          "경남",
          "경북",
          "광주",
          "대구",
          "대전",
          "부산",
          "서울",
          "세종",
          "수도권",
          "울산",
          "인천",
          "전국",
          "전남",
          "전북",
          "제주",
          "지방",
          "충남",
          "충북"
         ],
         "y": [
          109.7,
          110.375,
          98.9,
          105.65,
          96.75000000000001,
          117.85163934426232,
          93.85333333333332,
          96.32666666666668,
          108.02142857142859,
          116.69500000000001,
          129.63571428571427,
          105.39583333333336,
          113.84024390243901,
          128.875,
          113.57500000000002,
          98.67142857142856,
          113.01499999999999,
          108.25,
          105.02499999999998,
          100.78,
          95.35,
          103.4,
          101.58928571428571,
          97.40499999999999
         ]
        },
        {
         "name": "전세",
         "type": "bar",
         "x": [
          "5대광역시",
          "6대광역시",
          "8개도",
          "9개도",
          "강원",
          "경기",
          "경남",
          "경북",
          "광주",
          "대구",
          "대전",
          "부산",
          "서울",
          "세종",
          "수도권",
          "울산",
          "인천",
          "전국",
          "전남",
          "전북",
          "제주",
          "지방",
          "충남",
          "충북"
         ],
         "y": [
          103.175,
          104.05,
          97.7,
          100.44999999999999,
          97.00000000000001,
          105.1311475409836,
          94.72333333333333,
          96.35666666666667,
          104.00714285714285,
          109.23499999999999,
          117.8142857142857,
          101.55208333333331,
          105.29512195121953,
          136.5,
          104.125,
          100.19285714285714,
          108.7,
          102.44999999999999,
          103.53125000000001,
          99.405,
          94.36250000000001,
          100.475,
          103.14285714285715,
          97.55
         ]
        }
       ],
       "layout": {
        "template": {
         "data": {
          "bar": [
           {
            "error_x": {
             "color": "#2a3f5f"
            },
            "error_y": {
             "color": "#2a3f5f"
            },
            "marker": {
             "line": {
              "color": "#E5ECF6",
              "width": 0.5
             }
            },
            "type": "bar"
           }
          ],
          "barpolar": [
           {
            "marker": {
             "line": {
              "color": "#E5ECF6",
              "width": 0.5
             }
            },
            "type": "barpolar"
           }
          ],
          "carpet": [
           {
            "aaxis": {
             "endlinecolor": "#2a3f5f",
             "gridcolor": "white",
             "linecolor": "white",
             "minorgridcolor": "white",
             "startlinecolor": "#2a3f5f"
            },
            "baxis": {
             "endlinecolor": "#2a3f5f",
             "gridcolor": "white",
             "linecolor": "white",
             "minorgridcolor": "white",
             "startlinecolor": "#2a3f5f"
            },
            "type": "carpet"
           }
          ],
          "choropleth": [
           {
            "colorbar": {
             "outlinewidth": 0,
             "ticks": ""
            },
            "type": "choropleth"
           }
          ],
          "contour": [
           {
            "colorbar": {
             "outlinewidth": 0,
             "ticks": ""
            },
            "colorscale": [
             [
              0,
              "#0d0887"
             ],
             [
              0.1111111111111111,
              "#46039f"
             ],
             [
              0.2222222222222222,
              "#7201a8"
             ],
             [
              0.3333333333333333,
              "#9c179e"
             ],
             [
              0.4444444444444444,
              "#bd3786"
             ],
             [
              0.5555555555555556,
              "#d8576b"
             ],
             [
              0.6666666666666666,
              "#ed7953"
             ],
             [
              0.7777777777777778,
              "#fb9f3a"
             ],
             [
              0.8888888888888888,
              "#fdca26"
             ],
             [
              1,
              "#f0f921"
             ]
            ],
            "type": "contour"
           }
          ],
          "contourcarpet": [
           {
            "colorbar": {
             "outlinewidth": 0,
             "ticks": ""
            },
            "type": "contourcarpet"
           }
          ],
          "heatmap": [
           {
            "colorbar": {
             "outlinewidth": 0,
             "ticks": ""
            },
            "colorscale": [
             [
              0,
              "#0d0887"
             ],
             [
              0.1111111111111111,
              "#46039f"
             ],
             [
              0.2222222222222222,
              "#7201a8"
             ],
             [
              0.3333333333333333,
              "#9c179e"
             ],
             [
              0.4444444444444444,
              "#bd3786"
             ],
             [
              0.5555555555555556,
              "#d8576b"
             ],
             [
              0.6666666666666666,
              "#ed7953"
             ],
             [
              0.7777777777777778,
              "#fb9f3a"
             ],
             [
              0.8888888888888888,
              "#fdca26"
             ],
             [
              1,
              "#f0f921"
             ]
            ],
            "type": "heatmap"
           }
          ],
          "heatmapgl": [
           {
            "colorbar": {
             "outlinewidth": 0,
             "ticks": ""
            },
            "colorscale": [
             [
              0,
              "#0d0887"
             ],
             [
              0.1111111111111111,
              "#46039f"
             ],
             [
              0.2222222222222222,
              "#7201a8"
             ],
             [
              0.3333333333333333,
              "#9c179e"
             ],
             [
              0.4444444444444444,
              "#bd3786"
             ],
             [
              0.5555555555555556,
              "#d8576b"
             ],
             [
              0.6666666666666666,
              "#ed7953"
             ],
             [
              0.7777777777777778,
              "#fb9f3a"
             ],
             [
              0.8888888888888888,
              "#fdca26"
             ],
             [
              1,
              "#f0f921"
             ]
            ],
            "type": "heatmapgl"
           }
          ],
          "histogram": [
           {
            "marker": {
             "colorbar": {
              "outlinewidth": 0,
              "ticks": ""
             }
            },
            "type": "histogram"
           }
          ],
          "histogram2d": [
           {
            "colorbar": {
             "outlinewidth": 0,
             "ticks": ""
            },
            "colorscale": [
             [
              0,
              "#0d0887"
             ],
             [
              0.1111111111111111,
              "#46039f"
             ],
             [
              0.2222222222222222,
              "#7201a8"
             ],
             [
              0.3333333333333333,
              "#9c179e"
             ],
             [
              0.4444444444444444,
              "#bd3786"
             ],
             [
              0.5555555555555556,
              "#d8576b"
             ],
             [
              0.6666666666666666,
              "#ed7953"
             ],
             [
              0.7777777777777778,
              "#fb9f3a"
             ],
             [
              0.8888888888888888,
              "#fdca26"
             ],
             [
              1,
              "#f0f921"
             ]
            ],
            "type": "histogram2d"
           }
          ],
          "histogram2dcontour": [
           {
            "colorbar": {
             "outlinewidth": 0,
             "ticks": ""
            },
            "colorscale": [
             [
              0,
              "#0d0887"
             ],
             [
              0.1111111111111111,
              "#46039f"
             ],
             [
              0.2222222222222222,
              "#7201a8"
             ],
             [
              0.3333333333333333,
              "#9c179e"
             ],
             [
              0.4444444444444444,
              "#bd3786"
             ],
             [
              0.5555555555555556,
              "#d8576b"
             ],
             [
              0.6666666666666666,
              "#ed7953"
             ],
             [
              0.7777777777777778,
              "#fb9f3a"
             ],
             [
              0.8888888888888888,
              "#fdca26"
             ],
             [
              1,
              "#f0f921"
             ]
            ],
            "type": "histogram2dcontour"
           }
          ],
          "mesh3d": [
           {
            "colorbar": {
             "outlinewidth": 0,
             "ticks": ""
            },
            "type": "mesh3d"
           }
          ],
          "parcoords": [
           {
            "line": {
             "colorbar": {
              "outlinewidth": 0,
              "ticks": ""
             }
            },
            "type": "parcoords"
           }
          ],
          "pie": [
           {
            "automargin": true,
            "type": "pie"
           }
          ],
          "scatter": [
           {
            "marker": {
             "colorbar": {
              "outlinewidth": 0,
              "ticks": ""
             }
            },
            "type": "scatter"
           }
          ],
          "scatter3d": [
           {
            "line": {
             "colorbar": {
              "outlinewidth": 0,
              "ticks": ""
             }
            },
            "marker": {
             "colorbar": {
              "outlinewidth": 0,
              "ticks": ""
             }
            },
            "type": "scatter3d"
           }
          ],
          "scattercarpet": [
           {
            "marker": {
             "colorbar": {
              "outlinewidth": 0,
              "ticks": ""
             }
            },
            "type": "scattercarpet"
           }
          ],
          "scattergeo": [
           {
            "marker": {
             "colorbar": {
              "outlinewidth": 0,
              "ticks": ""
             }
            },
            "type": "scattergeo"
           }
          ],
          "scattergl": [
           {
            "marker": {
             "colorbar": {
              "outlinewidth": 0,
              "ticks": ""
             }
            },
            "type": "scattergl"
           }
          ],
          "scattermapbox": [
           {
            "marker": {
             "colorbar": {
              "outlinewidth": 0,
              "ticks": ""
             }
            },
            "type": "scattermapbox"
           }
          ],
          "scatterpolar": [
           {
            "marker": {
             "colorbar": {
              "outlinewidth": 0,
              "ticks": ""
             }
            },
            "type": "scatterpolar"
           }
          ],
          "scatterpolargl": [
           {
            "marker": {
             "colorbar": {
              "outlinewidth": 0,
              "ticks": ""
             }
            },
            "type": "scatterpolargl"
           }
          ],
          "scatterternary": [
           {
            "marker": {
             "colorbar": {
              "outlinewidth": 0,
              "ticks": ""
             }
            },
            "type": "scatterternary"
           }
          ],
          "surface": [
           {
            "colorbar": {
             "outlinewidth": 0,
             "ticks": ""
            },
            "colorscale": [
             [
              0,
              "#0d0887"
             ],
             [
              0.1111111111111111,
              "#46039f"
             ],
             [
              0.2222222222222222,
              "#7201a8"
             ],
             [
              0.3333333333333333,
              "#9c179e"
             ],
             [
              0.4444444444444444,
              "#bd3786"
             ],
             [
              0.5555555555555556,
              "#d8576b"
             ],
             [
              0.6666666666666666,
              "#ed7953"
             ],
             [
              0.7777777777777778,
              "#fb9f3a"
             ],
             [
              0.8888888888888888,
              "#fdca26"
             ],
             [
              1,
              "#f0f921"
             ]
            ],
            "type": "surface"
           }
          ],
          "table": [
           {
            "cells": {
             "fill": {
              "color": "#EBF0F8"
             },
             "line": {
              "color": "white"
             }
            },
            "header": {
             "fill": {
              "color": "#C8D4E3"
             },
             "line": {
              "color": "white"
             }
            },
            "type": "table"
           }
          ]
         },
         "layout": {
          "annotationdefaults": {
           "arrowcolor": "#2a3f5f",
           "arrowhead": 0,
           "arrowwidth": 1
          },
          "autotypenumbers": "strict",
          "coloraxis": {
           "colorbar": {
            "outlinewidth": 0,
            "ticks": ""
           }
          },
          "colorscale": {
           "diverging": [
            [
             0,
             "#8e0152"
            ],
            [
             0.1,
             "#c51b7d"
            ],
            [
             0.2,
             "#de77ae"
            ],
            [
             0.3,
             "#f1b6da"
            ],
            [
             0.4,
             "#fde0ef"
            ],
            [
             0.5,
             "#f7f7f7"
            ],
            [
             0.6,
             "#e6f5d0"
            ],
            [
             0.7,
             "#b8e186"
            ],
            [
             0.8,
             "#7fbc41"
            ],
            [
             0.9,
             "#4d9221"
            ],
            [
             1,
             "#276419"
            ]
           ],
           "sequential": [
            [
             0,
             "#0d0887"
            ],
            [
             0.1111111111111111,
             "#46039f"
            ],
            [
             0.2222222222222222,
             "#7201a8"
            ],
            [
             0.3333333333333333,
             "#9c179e"
            ],
            [
             0.4444444444444444,
             "#bd3786"
            ],
            [
             0.5555555555555556,
             "#d8576b"
            ],
            [
             0.6666666666666666,
             "#ed7953"
            ],
            [
             0.7777777777777778,
             "#fb9f3a"
            ],
            [
             0.8888888888888888,
             "#fdca26"
            ],
            [
             1,
             "#f0f921"
            ]
           ],
           "sequentialminus": [
            [
             0,
             "#0d0887"
            ],
            [
             0.1111111111111111,
             "#46039f"
            ],
            [
             0.2222222222222222,
             "#7201a8"
            ],
            [
             0.3333333333333333,
             "#9c179e"
            ],
            [
             0.4444444444444444,
             "#bd3786"
            ],
            [
             0.5555555555555556,
             "#d8576b"
            ],
            [
             0.6666666666666666,
             "#ed7953"
            ],
            [
             0.7777777777777778,
             "#fb9f3a"
            ],
            [
             0.8888888888888888,
             "#fdca26"
            ],
            [
             1,
             "#f0f921"
            ]
           ]
          },
          "colorway": [
           "#636efa",
           "#EF553B",
           "#00cc96",
           "#ab63fa",
           "#FFA15A",
           "#19d3f3",
           "#FF6692",
           "#B6E880",
           "#FF97FF",
           "#FECB52"
          ],
          "font": {
           "color": "#2a3f5f"
          },
          "geo": {
           "bgcolor": "white",
           "lakecolor": "white",
           "landcolor": "#E5ECF6",
           "showlakes": true,
           "showland": true,
           "subunitcolor": "white"
          },
          "hoverlabel": {
           "align": "left"
          },
          "hovermode": "closest",
          "mapbox": {
           "style": "light"
          },
          "paper_bgcolor": "white",
          "plot_bgcolor": "#E5ECF6",
          "polar": {
           "angularaxis": {
            "gridcolor": "white",
            "linecolor": "white",
            "ticks": ""
           },
           "bgcolor": "#E5ECF6",
           "radialaxis": {
            "gridcolor": "white",
            "linecolor": "white",
            "ticks": ""
           }
          },
          "scene": {
           "xaxis": {
            "backgroundcolor": "#E5ECF6",
            "gridcolor": "white",
            "gridwidth": 2,
            "linecolor": "white",
            "showbackground": true,
            "ticks": "",
            "zerolinecolor": "white"
           },
           "yaxis": {
            "backgroundcolor": "#E5ECF6",
            "gridcolor": "white",
            "gridwidth": 2,
            "linecolor": "white",
            "showbackground": true,
            "ticks": "",
            "zerolinecolor": "white"
           },
           "zaxis": {
            "backgroundcolor": "#E5ECF6",
            "gridcolor": "white",
            "gridwidth": 2,
            "linecolor": "white",
            "showbackground": true,
            "ticks": "",
            "zerolinecolor": "white"
           }
          },
          "shapedefaults": {
           "line": {
            "color": "#2a3f5f"
           }
          },
          "ternary": {
           "aaxis": {
            "gridcolor": "white",
            "linecolor": "white",
            "ticks": ""
           },
           "baxis": {
            "gridcolor": "white",
            "linecolor": "white",
            "ticks": ""
           },
           "bgcolor": "#E5ECF6",
           "caxis": {
            "gridcolor": "white",
            "linecolor": "white",
            "ticks": ""
           }
          },
          "title": {
           "x": 0.05
          },
          "xaxis": {
           "automargin": true,
           "gridcolor": "white",
           "linecolor": "white",
           "ticks": "",
           "title": {
            "standoff": 15
           },
           "zerolinecolor": "white",
           "zerolinewidth": 2
          },
          "yaxis": {
           "automargin": true,
           "gridcolor": "white",
           "linecolor": "white",
           "ticks": "",
           "title": {
            "standoff": 15
           },
           "zerolinecolor": "white",
           "zerolinewidth": 2
          }
         }
        },
        "title": {
         "text": "전체지역 21년 4월 전세,매매지수 비교"
        }
       }
      },
      "text/html": [
       "<div>                            <div id=\"0c10b17e-2161-401a-a139-cef4d7056671\" class=\"plotly-graph-div\" style=\"height:525px; width:100%;\"></div>            <script type=\"text/javascript\">                require([\"plotly\"], function(Plotly) {                    window.PLOTLYENV=window.PLOTLYENV || {};\n",
       "                    window.PLOTLYENV.BASE_URL='https://plotly.com';                                    if (document.getElementById(\"0c10b17e-2161-401a-a139-cef4d7056671\")) {                    Plotly.newPlot(                        \"0c10b17e-2161-401a-a139-cef4d7056671\",                        [{\"name\": \"\\ub9e4\\ub9e4\", \"type\": \"bar\", \"x\": [\"5\\ub300\\uad11\\uc5ed\\uc2dc\", \"6\\ub300\\uad11\\uc5ed\\uc2dc\", \"8\\uac1c\\ub3c4\", \"9\\uac1c\\ub3c4\", \"\\uac15\\uc6d0\", \"\\uacbd\\uae30\", \"\\uacbd\\ub0a8\", \"\\uacbd\\ubd81\", \"\\uad11\\uc8fc\", \"\\ub300\\uad6c\", \"\\ub300\\uc804\", \"\\ubd80\\uc0b0\", \"\\uc11c\\uc6b8\", \"\\uc138\\uc885\", \"\\uc218\\ub3c4\\uad8c\", \"\\uc6b8\\uc0b0\", \"\\uc778\\ucc9c\", \"\\uc804\\uad6d\", \"\\uc804\\ub0a8\", \"\\uc804\\ubd81\", \"\\uc81c\\uc8fc\", \"\\uc9c0\\ubc29\", \"\\ucda9\\ub0a8\", \"\\ucda9\\ubd81\"], \"y\": [109.7, 110.375, 98.9, 105.65, 96.75000000000001, 117.85163934426232, 93.85333333333332, 96.32666666666668, 108.02142857142859, 116.69500000000001, 129.63571428571427, 105.39583333333336, 113.84024390243901, 128.875, 113.57500000000002, 98.67142857142856, 113.01499999999999, 108.25, 105.02499999999998, 100.78, 95.35, 103.4, 101.58928571428571, 97.40499999999999]}, {\"name\": \"\\uc804\\uc138\", \"type\": \"bar\", \"x\": [\"5\\ub300\\uad11\\uc5ed\\uc2dc\", \"6\\ub300\\uad11\\uc5ed\\uc2dc\", \"8\\uac1c\\ub3c4\", \"9\\uac1c\\ub3c4\", \"\\uac15\\uc6d0\", \"\\uacbd\\uae30\", \"\\uacbd\\ub0a8\", \"\\uacbd\\ubd81\", \"\\uad11\\uc8fc\", \"\\ub300\\uad6c\", \"\\ub300\\uc804\", \"\\ubd80\\uc0b0\", \"\\uc11c\\uc6b8\", \"\\uc138\\uc885\", \"\\uc218\\ub3c4\\uad8c\", \"\\uc6b8\\uc0b0\", \"\\uc778\\ucc9c\", \"\\uc804\\uad6d\", \"\\uc804\\ub0a8\", \"\\uc804\\ubd81\", \"\\uc81c\\uc8fc\", \"\\uc9c0\\ubc29\", \"\\ucda9\\ub0a8\", \"\\ucda9\\ubd81\"], \"y\": [103.175, 104.05, 97.7, 100.44999999999999, 97.00000000000001, 105.1311475409836, 94.72333333333333, 96.35666666666667, 104.00714285714285, 109.23499999999999, 117.8142857142857, 101.55208333333331, 105.29512195121953, 136.5, 104.125, 100.19285714285714, 108.7, 102.44999999999999, 103.53125000000001, 99.405, 94.36250000000001, 100.475, 103.14285714285715, 97.55]}],                        {\"template\": {\"data\": {\"bar\": [{\"error_x\": {\"color\": \"#2a3f5f\"}, \"error_y\": {\"color\": \"#2a3f5f\"}, \"marker\": {\"line\": {\"color\": \"#E5ECF6\", \"width\": 0.5}}, \"type\": \"bar\"}], \"barpolar\": [{\"marker\": {\"line\": {\"color\": \"#E5ECF6\", \"width\": 0.5}}, \"type\": \"barpolar\"}], \"carpet\": [{\"aaxis\": {\"endlinecolor\": \"#2a3f5f\", \"gridcolor\": \"white\", \"linecolor\": \"white\", \"minorgridcolor\": \"white\", \"startlinecolor\": \"#2a3f5f\"}, \"baxis\": {\"endlinecolor\": \"#2a3f5f\", \"gridcolor\": \"white\", \"linecolor\": \"white\", \"minorgridcolor\": \"white\", \"startlinecolor\": \"#2a3f5f\"}, \"type\": \"carpet\"}], \"choropleth\": [{\"colorbar\": {\"outlinewidth\": 0, \"ticks\": \"\"}, \"type\": \"choropleth\"}], \"contour\": [{\"colorbar\": {\"outlinewidth\": 0, \"ticks\": \"\"}, \"colorscale\": [[0.0, \"#0d0887\"], [0.1111111111111111, \"#46039f\"], [0.2222222222222222, \"#7201a8\"], [0.3333333333333333, \"#9c179e\"], [0.4444444444444444, \"#bd3786\"], [0.5555555555555556, \"#d8576b\"], [0.6666666666666666, \"#ed7953\"], [0.7777777777777778, \"#fb9f3a\"], [0.8888888888888888, \"#fdca26\"], [1.0, \"#f0f921\"]], \"type\": \"contour\"}], \"contourcarpet\": [{\"colorbar\": {\"outlinewidth\": 0, \"ticks\": \"\"}, \"type\": \"contourcarpet\"}], \"heatmap\": [{\"colorbar\": {\"outlinewidth\": 0, \"ticks\": \"\"}, \"colorscale\": [[0.0, \"#0d0887\"], [0.1111111111111111, \"#46039f\"], [0.2222222222222222, \"#7201a8\"], [0.3333333333333333, \"#9c179e\"], [0.4444444444444444, \"#bd3786\"], [0.5555555555555556, \"#d8576b\"], [0.6666666666666666, \"#ed7953\"], [0.7777777777777778, \"#fb9f3a\"], [0.8888888888888888, \"#fdca26\"], [1.0, \"#f0f921\"]], \"type\": \"heatmap\"}], \"heatmapgl\": [{\"colorbar\": {\"outlinewidth\": 0, \"ticks\": \"\"}, \"colorscale\": [[0.0, \"#0d0887\"], [0.1111111111111111, \"#46039f\"], [0.2222222222222222, \"#7201a8\"], [0.3333333333333333, \"#9c179e\"], [0.4444444444444444, \"#bd3786\"], [0.5555555555555556, \"#d8576b\"], [0.6666666666666666, \"#ed7953\"], [0.7777777777777778, \"#fb9f3a\"], [0.8888888888888888, \"#fdca26\"], [1.0, \"#f0f921\"]], \"type\": \"heatmapgl\"}], \"histogram\": [{\"marker\": {\"colorbar\": {\"outlinewidth\": 0, \"ticks\": \"\"}}, \"type\": \"histogram\"}], \"histogram2d\": [{\"colorbar\": {\"outlinewidth\": 0, \"ticks\": \"\"}, \"colorscale\": [[0.0, \"#0d0887\"], [0.1111111111111111, \"#46039f\"], [0.2222222222222222, \"#7201a8\"], [0.3333333333333333, \"#9c179e\"], [0.4444444444444444, \"#bd3786\"], [0.5555555555555556, \"#d8576b\"], [0.6666666666666666, \"#ed7953\"], [0.7777777777777778, \"#fb9f3a\"], [0.8888888888888888, \"#fdca26\"], [1.0, \"#f0f921\"]], \"type\": \"histogram2d\"}], \"histogram2dcontour\": [{\"colorbar\": {\"outlinewidth\": 0, \"ticks\": \"\"}, \"colorscale\": [[0.0, \"#0d0887\"], [0.1111111111111111, \"#46039f\"], [0.2222222222222222, \"#7201a8\"], [0.3333333333333333, \"#9c179e\"], [0.4444444444444444, \"#bd3786\"], [0.5555555555555556, \"#d8576b\"], [0.6666666666666666, \"#ed7953\"], [0.7777777777777778, \"#fb9f3a\"], [0.8888888888888888, \"#fdca26\"], [1.0, \"#f0f921\"]], \"type\": \"histogram2dcontour\"}], \"mesh3d\": [{\"colorbar\": {\"outlinewidth\": 0, \"ticks\": \"\"}, \"type\": \"mesh3d\"}], \"parcoords\": [{\"line\": {\"colorbar\": {\"outlinewidth\": 0, \"ticks\": \"\"}}, \"type\": \"parcoords\"}], \"pie\": [{\"automargin\": true, \"type\": \"pie\"}], \"scatter\": [{\"marker\": {\"colorbar\": {\"outlinewidth\": 0, \"ticks\": \"\"}}, \"type\": \"scatter\"}], \"scatter3d\": [{\"line\": {\"colorbar\": {\"outlinewidth\": 0, \"ticks\": \"\"}}, \"marker\": {\"colorbar\": {\"outlinewidth\": 0, \"ticks\": \"\"}}, \"type\": \"scatter3d\"}], \"scattercarpet\": [{\"marker\": {\"colorbar\": {\"outlinewidth\": 0, \"ticks\": \"\"}}, \"type\": \"scattercarpet\"}], \"scattergeo\": [{\"marker\": {\"colorbar\": {\"outlinewidth\": 0, \"ticks\": \"\"}}, \"type\": \"scattergeo\"}], \"scattergl\": [{\"marker\": {\"colorbar\": {\"outlinewidth\": 0, \"ticks\": \"\"}}, \"type\": \"scattergl\"}], \"scattermapbox\": [{\"marker\": {\"colorbar\": {\"outlinewidth\": 0, \"ticks\": \"\"}}, \"type\": \"scattermapbox\"}], \"scatterpolar\": [{\"marker\": {\"colorbar\": {\"outlinewidth\": 0, \"ticks\": \"\"}}, \"type\": \"scatterpolar\"}], \"scatterpolargl\": [{\"marker\": {\"colorbar\": {\"outlinewidth\": 0, \"ticks\": \"\"}}, \"type\": \"scatterpolargl\"}], \"scatterternary\": [{\"marker\": {\"colorbar\": {\"outlinewidth\": 0, \"ticks\": \"\"}}, \"type\": \"scatterternary\"}], \"surface\": [{\"colorbar\": {\"outlinewidth\": 0, \"ticks\": \"\"}, \"colorscale\": [[0.0, \"#0d0887\"], [0.1111111111111111, \"#46039f\"], [0.2222222222222222, \"#7201a8\"], [0.3333333333333333, \"#9c179e\"], [0.4444444444444444, \"#bd3786\"], [0.5555555555555556, \"#d8576b\"], [0.6666666666666666, \"#ed7953\"], [0.7777777777777778, \"#fb9f3a\"], [0.8888888888888888, \"#fdca26\"], [1.0, \"#f0f921\"]], \"type\": \"surface\"}], \"table\": [{\"cells\": {\"fill\": {\"color\": \"#EBF0F8\"}, \"line\": {\"color\": \"white\"}}, \"header\": {\"fill\": {\"color\": \"#C8D4E3\"}, \"line\": {\"color\": \"white\"}}, \"type\": \"table\"}]}, \"layout\": {\"annotationdefaults\": {\"arrowcolor\": \"#2a3f5f\", \"arrowhead\": 0, \"arrowwidth\": 1}, \"autotypenumbers\": \"strict\", \"coloraxis\": {\"colorbar\": {\"outlinewidth\": 0, \"ticks\": \"\"}}, \"colorscale\": {\"diverging\": [[0, \"#8e0152\"], [0.1, \"#c51b7d\"], [0.2, \"#de77ae\"], [0.3, \"#f1b6da\"], [0.4, \"#fde0ef\"], [0.5, \"#f7f7f7\"], [0.6, \"#e6f5d0\"], [0.7, \"#b8e186\"], [0.8, \"#7fbc41\"], [0.9, \"#4d9221\"], [1, \"#276419\"]], \"sequential\": [[0.0, \"#0d0887\"], [0.1111111111111111, \"#46039f\"], [0.2222222222222222, \"#7201a8\"], [0.3333333333333333, \"#9c179e\"], [0.4444444444444444, \"#bd3786\"], [0.5555555555555556, \"#d8576b\"], [0.6666666666666666, \"#ed7953\"], [0.7777777777777778, \"#fb9f3a\"], [0.8888888888888888, \"#fdca26\"], [1.0, \"#f0f921\"]], \"sequentialminus\": [[0.0, \"#0d0887\"], [0.1111111111111111, \"#46039f\"], [0.2222222222222222, \"#7201a8\"], [0.3333333333333333, \"#9c179e\"], [0.4444444444444444, \"#bd3786\"], [0.5555555555555556, \"#d8576b\"], [0.6666666666666666, \"#ed7953\"], [0.7777777777777778, \"#fb9f3a\"], [0.8888888888888888, \"#fdca26\"], [1.0, \"#f0f921\"]]}, \"colorway\": [\"#636efa\", \"#EF553B\", \"#00cc96\", \"#ab63fa\", \"#FFA15A\", \"#19d3f3\", \"#FF6692\", \"#B6E880\", \"#FF97FF\", \"#FECB52\"], \"font\": {\"color\": \"#2a3f5f\"}, \"geo\": {\"bgcolor\": \"white\", \"lakecolor\": \"white\", \"landcolor\": \"#E5ECF6\", \"showlakes\": true, \"showland\": true, \"subunitcolor\": \"white\"}, \"hoverlabel\": {\"align\": \"left\"}, \"hovermode\": \"closest\", \"mapbox\": {\"style\": \"light\"}, \"paper_bgcolor\": \"white\", \"plot_bgcolor\": \"#E5ECF6\", \"polar\": {\"angularaxis\": {\"gridcolor\": \"white\", \"linecolor\": \"white\", \"ticks\": \"\"}, \"bgcolor\": \"#E5ECF6\", \"radialaxis\": {\"gridcolor\": \"white\", \"linecolor\": \"white\", \"ticks\": \"\"}}, \"scene\": {\"xaxis\": {\"backgroundcolor\": \"#E5ECF6\", \"gridcolor\": \"white\", \"gridwidth\": 2, \"linecolor\": \"white\", \"showbackground\": true, \"ticks\": \"\", \"zerolinecolor\": \"white\"}, \"yaxis\": {\"backgroundcolor\": \"#E5ECF6\", \"gridcolor\": \"white\", \"gridwidth\": 2, \"linecolor\": \"white\", \"showbackground\": true, \"ticks\": \"\", \"zerolinecolor\": \"white\"}, \"zaxis\": {\"backgroundcolor\": \"#E5ECF6\", \"gridcolor\": \"white\", \"gridwidth\": 2, \"linecolor\": \"white\", \"showbackground\": true, \"ticks\": \"\", \"zerolinecolor\": \"white\"}}, \"shapedefaults\": {\"line\": {\"color\": \"#2a3f5f\"}}, \"ternary\": {\"aaxis\": {\"gridcolor\": \"white\", \"linecolor\": \"white\", \"ticks\": \"\"}, \"baxis\": {\"gridcolor\": \"white\", \"linecolor\": \"white\", \"ticks\": \"\"}, \"bgcolor\": \"#E5ECF6\", \"caxis\": {\"gridcolor\": \"white\", \"linecolor\": \"white\", \"ticks\": \"\"}}, \"title\": {\"x\": 0.05}, \"xaxis\": {\"automargin\": true, \"gridcolor\": \"white\", \"linecolor\": \"white\", \"ticks\": \"\", \"title\": {\"standoff\": 15}, \"zerolinecolor\": \"white\", \"zerolinewidth\": 2}, \"yaxis\": {\"automargin\": true, \"gridcolor\": \"white\", \"linecolor\": \"white\", \"ticks\": \"\", \"title\": {\"standoff\": 15}, \"zerolinecolor\": \"white\", \"zerolinewidth\": 2}}}, \"title\": {\"text\": \"\\uc804\\uccb4\\uc9c0\\uc5ed 21\\ub144 4\\uc6d4 \\uc804\\uc138,\\ub9e4\\ub9e4\\uc9c0\\uc218 \\ube44\\uad50\"}},                        {\"showLink\": true, \"linkText\": \"Export to plotly.com\", \"plotlyServerURL\": \"https://plotly.com\", \"responsive\": true}                    ).then(function(){\n",
       "                            \n",
       "var gd = document.getElementById('0c10b17e-2161-401a-a139-cef4d7056671');\n",
       "var x = new MutationObserver(function (mutations, observer) {{\n",
       "        var display = window.getComputedStyle(gd).display;\n",
       "        if (!display || display === 'none') {{\n",
       "            console.log([gd, 'removed!']);\n",
       "            Plotly.purge(gd);\n",
       "            observer.disconnect();\n",
       "        }}\n",
       "}});\n",
       "\n",
       "// Listen for the removal of the full notebook cells\n",
       "var notebookContainer = gd.closest('#notebook-container');\n",
       "if (notebookContainer) {{\n",
       "    x.observe(notebookContainer, {childList: true});\n",
       "}}\n",
       "\n",
       "// Listen for the clearing of the current output cell\n",
       "var outputEl = gd.closest('.output');\n",
       "if (outputEl) {{\n",
       "    x.observe(outputEl, {childList: true});\n",
       "}}\n",
       "\n",
       "                        })                };                });            </script>        </div>"
      ]
     },
     "metadata": {},
     "output_type": "display_data"
    }
   ],
   "source": [
    "도단위매매평균 = 지역별주택매매가격지수.groupby(by='도단위').mean().reset_index()\n",
    "도단위전세평균 = 지역별주택전세가격지수.groupby(by='도단위').mean().reset_index()\n",
    "\n",
    "trace5 = go.Bar(x=도단위매매평균[\"도단위\"], y=도단위매매평균[\"2021. 04\"], name='매매')\n",
    "trace6 = go.Bar(x=도단위전세평균[\"도단위\"], y=도단위전세평균[\"2021. 04\"], name='전세')\n",
    "\n",
    "data3 = [trace5, trace6]\n",
    "layout3 = go.Layout(title='전체지역 21년 4월 전세,매매지수 비교')\n",
    "fig3 = go.Figure(data=data3, layout=layout3)\n",
    "fig3.iplot()"
   ]
  },
  {
   "cell_type": "markdown",
   "metadata": {},
   "source": [
    "- 2021년 4월 기준 세종,경기와 서울,대전,대구등에서 높은 전세,매매지수를 보여주고있다. \n",
    "- 세종의 경우 전세지수가 매매지수에 비해 크게 높은 특이점을 가지고 있다.\n",
    "- 지방의 경우 위에 언급한 주요 지역보다 상승치가 크지않거나 오히려 하락한곳도 존재한다."
   ]
  },
  {
   "cell_type": "code",
   "execution_count": 48,
   "metadata": {},
   "outputs": [
    {
     "data": {
      "application/vnd.plotly.v1+json": {
       "config": {
        "linkText": "Export to plotly.com",
        "plotlyServerURL": "https://plotly.com",
        "showLink": true
       },
       "data": [
        {
         "hovertemplate": "도단위=전국<br>2021. 04=%{x}<br>y=%{y}<extra></extra>",
         "legendgroup": "전국",
         "marker": {
          "color": "#636efa",
          "symbol": "circle"
         },
         "mode": "markers",
         "name": "전국",
         "orientation": "v",
         "showlegend": true,
         "type": "scatter",
         "x": [
          109.6,
          111.1,
          101.9,
          110.4
         ],
         "xaxis": "x",
         "y": [
          103.6,
          105.8,
          100.2,
          100.2
         ],
         "yaxis": "y"
        },
        {
         "hovertemplate": "도단위=수도권<br>2021. 04=%{x}<br>y=%{y}<extra></extra>",
         "legendgroup": "수도권",
         "marker": {
          "color": "#EF553B",
          "symbol": "circle"
         },
         "mode": "markers",
         "name": "수도권",
         "orientation": "v",
         "showlegend": true,
         "type": "scatter",
         "x": [
          115.1,
          119.7,
          104.4,
          115.1
         ],
         "xaxis": "x",
         "y": [
          105.6,
          108.1,
          101.7,
          101.1
         ],
         "yaxis": "y"
        },
        {
         "hovertemplate": "도단위=지방<br>2021. 04=%{x}<br>y=%{y}<extra></extra>",
         "legendgroup": "지방",
         "marker": {
          "color": "#00cc96",
          "symbol": "circle"
         },
         "mode": "markers",
         "name": "지방",
         "orientation": "v",
         "showlegend": true,
         "type": "scatter",
         "x": [
          104.9,
          103.6,
          96.1,
          109
         ],
         "xaxis": "x",
         "y": [
          101.9,
          103.6,
          96.5,
          99.9
         ],
         "yaxis": "y"
        },
        {
         "hovertemplate": "도단위=6대광역시<br>2021. 04=%{x}<br>y=%{y}<extra></extra>",
         "legendgroup": "6대광역시",
         "marker": {
          "color": "#ab63fa",
          "symbol": "circle"
         },
         "mode": "markers",
         "name": "6대광역시",
         "orientation": "v",
         "showlegend": true,
         "type": "scatter",
         "x": [
          111.9,
          113.4,
          101.8,
          114.4
         ],
         "xaxis": "x",
         "y": [
          106.5,
          109.7,
          99.8,
          100.2
         ],
         "yaxis": "y"
        },
        {
         "hovertemplate": "도단위=5대광역시<br>2021. 04=%{x}<br>y=%{y}<extra></extra>",
         "legendgroup": "5대광역시",
         "marker": {
          "color": "#FFA15A",
          "symbol": "circle"
         },
         "mode": "markers",
         "name": "5대광역시",
         "orientation": "v",
         "showlegend": true,
         "type": "scatter",
         "x": [
          111.5,
          112.2,
          100.4,
          114.7
         ],
         "xaxis": "x",
         "y": [
          105.8,
          108.8,
          98.1,
          100
         ],
         "yaxis": "y"
        },
        {
         "hovertemplate": "도단위=9개도<br>2021. 04=%{x}<br>y=%{y}<extra></extra>",
         "legendgroup": "9개도",
         "marker": {
          "color": "#19d3f3",
          "symbol": "circle"
         },
         "mode": "markers",
         "name": "9개도",
         "orientation": "v",
         "showlegend": true,
         "type": "scatter",
         "x": [
          107.1,
          107.9,
          99,
          108.6
         ],
         "xaxis": "x",
         "y": [
          101.3,
          102.3,
          98.3,
          99.9
         ],
         "yaxis": "y"
        },
        {
         "hovertemplate": "도단위=8개도<br>2021. 04=%{x}<br>y=%{y}<extra></extra>",
         "legendgroup": "8개도",
         "marker": {
          "color": "#FF6692",
          "symbol": "circle"
         },
         "mode": "markers",
         "name": "8개도",
         "orientation": "v",
         "showlegend": true,
         "type": "scatter",
         "x": [
          100.1,
          95.7,
          92.3,
          107.5
         ],
         "xaxis": "x",
         "y": [
          98.4,
          97.6,
          95,
          99.8
         ],
         "yaxis": "y"
        },
        {
         "hovertemplate": "도단위=서울<br>2021. 04=%{x}<br>y=%{y}<extra></extra>",
         "legendgroup": "서울",
         "marker": {
          "color": "#B6E880",
          "symbol": "circle"
         },
         "mode": "markers",
         "name": "서울",
         "orientation": "v",
         "showlegend": true,
         "type": "scatter",
         "x": [
          112.9,
          112.7,
          113.9,
          110.8,
          113.6,
          116,
          112.4,
          115.7,
          112.1,
          113.1,
          110.3,
          113.4,
          111.7,
          110.8,
          112.5,
          112.9,
          110,
          111.3,
          118,
          113.1,
          112.1,
          113.4,
          111,
          111.5,
          108.7,
          115.9,
          114.6,
          109.5,
          114.5,
          113,
          114.4,
          115.3,
          114.9,
          115.7,
          114.3,
          115.6,
          113.5,
          116,
          116.3,
          113.8,
          116.2,
          115.4,
          113.9,
          110,
          115.2,
          117.2,
          112.9,
          113.2,
          115.4,
          112.7,
          112.8,
          119.6,
          116.9,
          116.2,
          119.2,
          115.9,
          114.8,
          110.9,
          117.5,
          117.5,
          113.6,
          117.8,
          114.4,
          116.5,
          121.5,
          118.8,
          106.1,
          107.2,
          105.8,
          106.3,
          109.1,
          105,
          104.2,
          106.3,
          118,
          118.1,
          121.2,
          117.2,
          118.3,
          117.9,
          117.1,
          119.9
         ],
         "xaxis": "x",
         "y": [
          105.1,
          105,
          104.4,
          105.5,
          104.1,
          103.9,
          104.9,
          106.6,
          104.9,
          103.6,
          104.1,
          106.7,
          104.4,
          102.4,
          106.1,
          105.4,
          105.3,
          102.9,
          107.6,
          105.2,
          105.3,
          105.9,
          105.3,
          104.5,
          104.6,
          105.6,
          106.5,
          104.6,
          105,
          106.3,
          105.8,
          105.9,
          101,
          107.1,
          106.5,
          106,
          107,
          105.9,
          105.9,
          106.4,
          108,
          106.7,
          104.7,
          105.8,
          109,
          108.1,
          102.7,
          106.9,
          107,
          105.5,
          104.1,
          110.4,
          107.6,
          108.2,
          108.8,
          108.9,
          106.6,
          107,
          106.6,
          110.1,
          109.4,
          107,
          108,
          107.9,
          108.6,
          101.7,
          103,
          103.8,
          103.2,
          103.6,
          104.4,
          102.2,
          102.4,
          101.9,
          101.9,
          102.3,
          102.7,
          101.8,
          103.5,
          101.2,
          101.6,
          100.2
         ],
         "yaxis": "y"
        },
        {
         "hovertemplate": "도단위=경기<br>2021. 04=%{x}<br>y=%{y}<extra></extra>",
         "legendgroup": "경기",
         "marker": {
          "color": "#FF97FF",
          "symbol": "circle"
         },
         "mode": "markers",
         "name": "경기",
         "orientation": "v",
         "showlegend": true,
         "type": "scatter",
         "x": [
          117,
          123.3,
          126.4,
          124.3,
          119.5,
          127.8,
          122.8,
          123.1,
          116.1,
          125.8,
          119.4,
          128.2,
          123.6,
          98.2,
          128,
          105,
          133.3,
          142,
          125.2,
          113.6,
          121.7,
          123.8,
          141.6,
          113.6,
          118.2,
          110.5,
          107.3,
          114.3,
          113.9,
          133.4,
          117.5,
          108.2,
          98.1,
          120.2,
          121,
          138.9,
          131.4,
          105.9,
          103.5,
          100.7,
          101.4,
          115.1,
          116.3,
          118,
          125.3,
          112.3,
          112.6,
          108,
          108.9,
          99.3,
          102.2,
          109,
          114.3,
          122.1,
          128.5,
          131.9,
          130,
          126.9,
          131.6,
          127.8,
          128.6,
          125.8,
          127.8,
          123.6,
          134.7,
          130.9,
          92.2,
          135.3,
          105.9,
          137.5,
          144.5,
          133.5,
          118.5,
          129.4,
          141.7,
          144.6,
          117.5,
          126,
          118.8,
          119.5,
          118.3,
          117,
          140.3,
          120.6,
          110.2,
          94.8,
          128.5,
          127,
          146.8,
          134.1,
          112.1,
          94.4,
          94.5,
          89.3,
          117.6,
          118.2,
          120.9,
          130.7,
          115.7,
          114,
          108.5,
          111.5,
          95.6,
          102.5,
          110.2,
          116.7,
          102.7,
          107.6,
          102.1,
          103,
          103.3,
          95.2,
          101.7,
          96.9,
          113.7,
          117.8,
          113.7,
          113.9,
          115.3,
          111.9,
          114.2,
          110.8
         ],
         "xaxis": "x",
         "y": [
          105.1,
          105.3,
          105.2,
          106.3,
          105.6,
          106.8,
          105.6,
          109.5,
          104.7,
          104.4,
          101.8,
          106.3,
          108.1,
          93.3,
          109.6,
          101.2,
          111.4,
          114.6,
          109.7,
          104.1,
          110.5,
          106.5,
          115.9,
          103.3,
          106.2,
          98.9,
          97.6,
          100.6,
          101.1,
          111.5,
          106.3,
          101,
          98,
          109.1,
          110.6,
          106.7,
          118.2,
          103,
          99.5,
          99.3,
          97.2,
          103.5,
          102.7,
          106.8,
          110.8,
          103.6,
          103.8,
          97.3,
          104.6,
          98.8,
          102.2,
          103.2,
          108.2,
          107.4,
          106.6,
          106.1,
          107.3,
          107.4,
          107.2,
          107.5,
          115.9,
          111.5,
          105,
          102.4,
          108.7,
          111.3,
          89.3,
          112.7,
          103.5,
          113.4,
          115.7,
          113.6,
          106.1,
          116.2,
          110.3,
          117.4,
          104.4,
          107.9,
          98.1,
          95.1,
          100.6,
          101.3,
          116.4,
          108.2,
          102.1,
          97.2,
          113.3,
          114.2,
          108.5,
          120.5,
          106.3,
          99,
          99.5,
          94.3,
          105.1,
          103.8,
          109.3,
          115.9,
          105.7,
          104.6,
          96.2,
          107.9,
          98.9,
          106.6,
          104.8,
          111.2,
          100.1,
          102.4,
          100.2,
          99.9,
          101.2,
          97.2,
          97.9,
          98.3,
          100.5,
          101.6,
          100.4,
          100.7,
          101.3,
          100.3,
          99.7,
          99.8
         ],
         "yaxis": "y"
        },
        {
         "hovertemplate": "도단위=인천<br>2021. 04=%{x}<br>y=%{y}<extra></extra>",
         "legendgroup": "인천",
         "marker": {
          "color": "#FECB52",
          "symbol": "circle"
         },
         "mode": "markers",
         "name": "인천",
         "orientation": "v",
         "showlegend": true,
         "type": "scatter",
         "x": [
          113.3,
          104.4,
          104.9,
          110,
          124.9,
          113.8,
          114.4,
          109.3,
          114.1,
          117.8,
          104.8,
          102.1,
          112.3,
          127.1,
          118,
          119.9,
          113.6,
          119.2,
          103.6,
          112.8
         ],
         "xaxis": "x",
         "y": [
          108.7,
          103.9,
          101.2,
          105,
          115.2,
          107.9,
          108.7,
          107.4,
          112.2,
          113,
          107.2,
          101.2,
          109,
          116.6,
          112,
          113.3,
          111.7,
          116.1,
          102.1,
          101.6
         ],
         "yaxis": "y"
        },
        {
         "hovertemplate": "도단위=부산<br>2021. 04=%{x}<br>y=%{y}<extra></extra>",
         "legendgroup": "부산",
         "marker": {
          "color": "#636efa",
          "symbol": "circle"
         },
         "mode": "markers",
         "name": "부산",
         "orientation": "v",
         "showlegend": true,
         "type": "scatter",
         "x": [
          106.7,
          107.3,
          99.4,
          101.1,
          105.2,
          100.2,
          107.3,
          110.3,
          109.3,
          111.7,
          110,
          115.6,
          106.1,
          109.4,
          103.6,
          102,
          100.3,
          108.9,
          101,
          102.1,
          106.1,
          107,
          94.6,
          97.1,
          97.9,
          94.4,
          106.4,
          111.7,
          110.4,
          113.6,
          110.5,
          117.5,
          105.5,
          108.3,
          101.8,
          100.4,
          99.8,
          105.6,
          99,
          100.2,
          98,
          97.8,
          99.2,
          96.8,
          115.3,
          114.5,
          118.3,
          113.8
         ],
         "xaxis": "x",
         "y": [
          101.9,
          101,
          98.5,
          98.9,
          98.1,
          98.3,
          101,
          104.5,
          100.8,
          100.5,
          102.7,
          104.9,
          100.8,
          98.9,
          107,
          102.5,
          100.8,
          103.9,
          102,
          103.8,
          103.8,
          103.2,
          97.3,
          99,
          96.8,
          97.6,
          104.1,
          108.6,
          102.1,
          101.3,
          104.7,
          106.7,
          102.6,
          99.4,
          110.8,
          103.7,
          101.7,
          104.2,
          103.1,
          105.6,
          97.4,
          96.9,
          97.6,
          98.2,
          99.3,
          99.4,
          98.5,
          100.1
         ],
         "yaxis": "y"
        },
        {
         "hovertemplate": "도단위=대구<br>2021. 04=%{x}<br>y=%{y}<extra></extra>",
         "legendgroup": "대구",
         "marker": {
          "color": "#EF553B",
          "symbol": "circle"
         },
         "mode": "markers",
         "name": "대구",
         "orientation": "v",
         "showlegend": true,
         "type": "scatter",
         "x": [
          116.2,
          124.7,
          111.9,
          116.8,
          114.1,
          107.5,
          132,
          118.7,
          106.5,
          117,
          129.3,
          110.5,
          122.3,
          115.7,
          106.2,
          136.3,
          119.9,
          105.3,
          105,
          118
         ],
         "xaxis": "x",
         "y": [
          108.4,
          109.6,
          106,
          104.6,
          103.6,
          106.2,
          109.9,
          110.8,
          113.1,
          112,
          117.3,
          109.7,
          111.7,
          109.2,
          108.1,
          112.9,
          113.5,
          116.3,
          101.2,
          100.6
         ],
         "yaxis": "y"
        },
        {
         "hovertemplate": "도단위=광주<br>2021. 04=%{x}<br>y=%{y}<extra></extra>",
         "legendgroup": "광주",
         "marker": {
          "color": "#00cc96",
          "symbol": "circle"
         },
         "mode": "markers",
         "name": "광주",
         "orientation": "v",
         "showlegend": true,
         "type": "scatter",
         "x": [
          108.4,
          108.4,
          109.1,
          111,
          104.1,
          111.6,
          106.9,
          104.7,
          107.8,
          109.4,
          102,
          110.9,
          102.6,
          115.4
         ],
         "xaxis": "x",
         "y": [
          104.1,
          102.9,
          104.5,
          104.4,
          103,
          105.4,
          104.9,
          103.8,
          105.2,
          105.8,
          103.4,
          106.1,
          101,
          101.6
         ],
         "yaxis": "y"
        },
        {
         "hovertemplate": "도단위=대전<br>2021. 04=%{x}<br>y=%{y}<extra></extra>",
         "legendgroup": "대전",
         "marker": {
          "color": "#ab63fa",
          "symbol": "circle"
         },
         "mode": "markers",
         "name": "대전",
         "orientation": "v",
         "showlegend": true,
         "type": "scatter",
         "x": [
          130.8,
          120.1,
          126.7,
          137.1,
          145.3,
          113.7,
          138.9,
          127.1,
          135.2,
          143.6,
          151,
          119.3,
          111,
          115.1
         ],
         "xaxis": "x",
         "y": [
          118,
          112.3,
          116.9,
          121.1,
          125.8,
          107.1,
          125.6,
          119.5,
          129.1,
          127.1,
          131.3,
          112,
          102.1,
          101.5
         ],
         "yaxis": "y"
        },
        {
         "hovertemplate": "도단위=울산<br>2021. 04=%{x}<br>y=%{y}<extra></extra>",
         "legendgroup": "울산",
         "marker": {
          "color": "#FFA15A",
          "symbol": "circle"
         },
         "mode": "markers",
         "name": "울산",
         "orientation": "v",
         "showlegend": true,
         "type": "scatter",
         "x": [
          100.2,
          103.3,
          109.4,
          88,
          96.3,
          97.4,
          99.7,
          103,
          111.5,
          87.5,
          94.8,
          94.1,
          91.6,
          104.6
         ],
         "xaxis": "x",
         "y": [
          101.2,
          102.2,
          108,
          89.3,
          97.7,
          102.4,
          103.5,
          105.2,
          112.6,
          90.3,
          97.7,
          105.1,
          90.5,
          97
         ],
         "yaxis": "y"
        },
        {
         "hovertemplate": "도단위=세종<br>2021. 04=%{x}<br>y=%{y}<extra></extra>",
         "legendgroup": "세종",
         "marker": {
          "color": "#19d3f3",
          "symbol": "circle"
         },
         "mode": "markers",
         "name": "세종",
         "orientation": "v",
         "showlegend": true,
         "type": "scatter",
         "x": [
          142.8,
          147.6,
          101.1,
          124
         ],
         "xaxis": "x",
         "y": [
          163.5,
          182.6,
          97.5,
          102.4
         ],
         "yaxis": "y"
        },
        {
         "hovertemplate": "도단위=강원<br>2021. 04=%{x}<br>y=%{y}<extra></extra>",
         "legendgroup": "강원",
         "marker": {
          "color": "#FF6692",
          "symbol": "circle"
         },
         "mode": "markers",
         "name": "강원",
         "orientation": "v",
         "showlegend": true,
         "type": "scatter",
         "x": [
          99.4,
          98.1,
          96.7,
          104.4,
          95.7,
          100.1,
          97.4,
          100.1,
          93.4,
          92.5,
          91.4,
          100.3,
          88,
          98.4,
          88.4,
          92.9,
          94.7,
          109.6
         ],
         "xaxis": "x",
         "y": [
          97.6,
          97,
          94.2,
          101.3,
          95.6,
          100.2,
          94.9,
          98.9,
          95.7,
          94.6,
          91.8,
          104.1,
          93.6,
          101,
          91.9,
          97.9,
          95.4,
          100.3
         ],
         "yaxis": "y"
        },
        {
         "hovertemplate": "도단위=충북<br>2021. 04=%{x}<br>y=%{y}<extra></extra>",
         "legendgroup": "충북",
         "marker": {
          "color": "#B6E880",
          "symbol": "circle"
         },
         "mode": "markers",
         "name": "충북",
         "orientation": "v",
         "showlegend": true,
         "type": "scatter",
         "x": [
          99.8,
          100.9,
          97.2,
          96.9,
          105.7,
          103.2,
          97.1,
          95.3,
          98.3,
          95.3,
          98.3,
          92.1,
          93.8,
          104.7,
          101,
          90.5,
          87.3,
          89.7,
          93.5,
          107.5
         ],
         "xaxis": "x",
         "y": [
          98.4,
          99.6,
          96.3,
          97,
          104.2,
          99.9,
          96.9,
          94.5,
          96.5,
          97.1,
          99.6,
          93.9,
          95.9,
          105.7,
          100.8,
          93.6,
          89.6,
          94.5,
          97,
          100
         ],
         "yaxis": "y"
        },
        {
         "hovertemplate": "도단위=충남<br>2021. 04=%{x}<br>y=%{y}<extra></extra>",
         "legendgroup": "충남",
         "marker": {
          "color": "#FF97FF",
          "symbol": "circle"
         },
         "mode": "markers",
         "name": "충남",
         "orientation": "v",
         "showlegend": true,
         "type": "scatter",
         "x": [
          102.1,
          104.4,
          99.2,
          108.1,
          108.2,
          97.8,
          101.8,
          94.5,
          104.2,
          113.9,
          106.2,
          100.9,
          92.4,
          101.1,
          106.2,
          99.3,
          110.1,
          108.1,
          87.5,
          101.5,
          87.3,
          101.6,
          114.8,
          112.6,
          96.7,
          87.4,
          91.1,
          105.5
         ],
         "xaxis": "x",
         "y": [
          102.1,
          104.4,
          99.7,
          107.8,
          102.3,
          97.9,
          105.3,
          95.8,
          100.5,
          112.4,
          104.8,
          102.4,
          97.9,
          105.1,
          107.5,
          101.9,
          110.7,
          104.4,
          92.5,
          108.5,
          93.9,
          101.6,
          114.4,
          115,
          105.6,
          98.9,
          95.3,
          99.4
         ],
         "yaxis": "y"
        },
        {
         "hovertemplate": "도단위=전북<br>2021. 04=%{x}<br>y=%{y}<extra></extra>",
         "legendgroup": "전북",
         "marker": {
          "color": "#FECB52",
          "symbol": "circle"
         },
         "mode": "markers",
         "name": "전북",
         "orientation": "v",
         "showlegend": true,
         "type": "scatter",
         "x": [
          101.8,
          101.5,
          100.5,
          102.6,
          92.9,
          104.4,
          105.5,
          106.5,
          107.4,
          97.5,
          98.9,
          97.8,
          100.2,
          90.5,
          100.9,
          99.2,
          100.1,
          102.6,
          95.9,
          108.9
         ],
         "xaxis": "x",
         "y": [
          99.6,
          98.8,
          98.3,
          99.3,
          95.3,
          103.2,
          100.8,
          100.7,
          100.4,
          98.4,
          97.9,
          97.5,
          98.3,
          94.1,
          103.9,
          100.2,
          100.4,
          101.2,
          98.5,
          101.3
         ],
         "yaxis": "y"
        },
        {
         "hovertemplate": "도단위=전남<br>2021. 04=%{x}<br>y=%{y}<extra></extra>",
         "legendgroup": "전남",
         "marker": {
          "color": "#636efa",
          "symbol": "circle"
         },
         "mode": "markers",
         "name": "전남",
         "orientation": "v",
         "showlegend": true,
         "type": "scatter",
         "x": [
          108.3,
          98.4,
          114.1,
          111,
          105.9,
          110.9,
          102.8,
          104.2,
          93.7,
          113.1,
          110.1,
          94,
          111.4,
          88.6,
          101.3,
          112.6
         ],
         "xaxis": "x",
         "y": [
          103.6,
          99.8,
          106,
          106.2,
          99.8,
          108.4,
          99.7,
          105.4,
          98.6,
          109.3,
          108.7,
          99.9,
          112,
          95.9,
          101.2,
          102
         ],
         "yaxis": "y"
        },
        {
         "hovertemplate": "도단위=경북<br>2021. 04=%{x}<br>y=%{y}<extra></extra>",
         "legendgroup": "경북",
         "marker": {
          "color": "#EF553B",
          "symbol": "circle"
         },
         "mode": "markers",
         "name": "경북",
         "orientation": "v",
         "showlegend": true,
         "type": "scatter",
         "x": [
          99.1,
          99.5,
          94.9,
          98.3,
          100.7,
          96.3,
          95.1,
          97.6,
          103.8,
          99.7,
          105.9,
          103.6,
          100.9,
          94.7,
          92.7,
          90.9,
          92.5,
          95.1,
          98,
          93.3,
          87,
          88.2,
          99.9,
          87,
          99.8,
          94.5,
          95.3,
          85.5,
          92,
          108
         ],
         "xaxis": "x",
         "y": [
          96.8,
          93.9,
          96.2,
          94.8,
          96.8,
          93.1,
          96.4,
          96.6,
          101.4,
          98.3,
          100.3,
          100.1,
          99.1,
          96,
          94.4,
          88,
          94.9,
          92.9,
          95.8,
          91.1,
          92.7,
          92.8,
          104.2,
          95.9,
          101.6,
          100.4,
          98.6,
          92.3,
          95.4,
          99.9
         ],
         "yaxis": "y"
        },
        {
         "hovertemplate": "도단위=경남<br>2021. 04=%{x}<br>y=%{y}<extra></extra>",
         "legendgroup": "경남",
         "marker": {
          "color": "#00cc96",
          "symbol": "circle"
         },
         "mode": "markers",
         "name": "경남",
         "orientation": "v",
         "showlegend": true,
         "type": "scatter",
         "x": [
          95.9,
          95.8,
          99.7,
          101.5,
          90.3,
          89.8,
          97.1,
          97.9,
          96.9,
          95,
          89.7,
          102.1,
          84.3,
          102.1,
          92.1,
          96.3,
          103.4,
          101.9,
          86.6,
          87.9,
          98.8,
          92.3,
          92.8,
          80.3,
          86.8,
          87.2,
          80,
          101,
          87.1,
          103
         ],
         "xaxis": "x",
         "y": [
          95.2,
          98.2,
          98.4,
          109.1,
          93.6,
          92.5,
          97,
          94.6,
          91.6,
          97.1,
          87.9,
          95.7,
          81,
          105.8,
          93.6,
          100.1,
          102.8,
          110.5,
          91.5,
          91.9,
          97.8,
          90.5,
          91.4,
          88.4,
          85.8,
          88.3,
          76.1,
          107.2,
          90.4,
          97.7
         ],
         "yaxis": "y"
        },
        {
         "hovertemplate": "도단위=제주<br>2021. 04=%{x}<br>y=%{y}<extra></extra>",
         "legendgroup": "제주",
         "marker": {
          "color": "#ab63fa",
          "symbol": "circle"
         },
         "mode": "markers",
         "name": "제주",
         "orientation": "v",
         "showlegend": true,
         "type": "scatter",
         "x": [
          96.8,
          96.8,
          96.8,
          93.5,
          94.4,
          90.9,
          92.4,
          101.2
         ],
         "xaxis": "x",
         "y": [
          94.5,
          94.5,
          94.6,
          94.1,
          94.1,
          94.1,
          93.7,
          95.3
         ],
         "yaxis": "y"
        }
       ],
       "layout": {
        "legend": {
         "title": {
          "text": "도단위"
         },
         "tracegroupgap": 0
        },
        "template": {
         "data": {
          "bar": [
           {
            "error_x": {
             "color": "#2a3f5f"
            },
            "error_y": {
             "color": "#2a3f5f"
            },
            "marker": {
             "line": {
              "color": "#E5ECF6",
              "width": 0.5
             }
            },
            "type": "bar"
           }
          ],
          "barpolar": [
           {
            "marker": {
             "line": {
              "color": "#E5ECF6",
              "width": 0.5
             }
            },
            "type": "barpolar"
           }
          ],
          "carpet": [
           {
            "aaxis": {
             "endlinecolor": "#2a3f5f",
             "gridcolor": "white",
             "linecolor": "white",
             "minorgridcolor": "white",
             "startlinecolor": "#2a3f5f"
            },
            "baxis": {
             "endlinecolor": "#2a3f5f",
             "gridcolor": "white",
             "linecolor": "white",
             "minorgridcolor": "white",
             "startlinecolor": "#2a3f5f"
            },
            "type": "carpet"
           }
          ],
          "choropleth": [
           {
            "colorbar": {
             "outlinewidth": 0,
             "ticks": ""
            },
            "type": "choropleth"
           }
          ],
          "contour": [
           {
            "colorbar": {
             "outlinewidth": 0,
             "ticks": ""
            },
            "colorscale": [
             [
              0,
              "#0d0887"
             ],
             [
              0.1111111111111111,
              "#46039f"
             ],
             [
              0.2222222222222222,
              "#7201a8"
             ],
             [
              0.3333333333333333,
              "#9c179e"
             ],
             [
              0.4444444444444444,
              "#bd3786"
             ],
             [
              0.5555555555555556,
              "#d8576b"
             ],
             [
              0.6666666666666666,
              "#ed7953"
             ],
             [
              0.7777777777777778,
              "#fb9f3a"
             ],
             [
              0.8888888888888888,
              "#fdca26"
             ],
             [
              1,
              "#f0f921"
             ]
            ],
            "type": "contour"
           }
          ],
          "contourcarpet": [
           {
            "colorbar": {
             "outlinewidth": 0,
             "ticks": ""
            },
            "type": "contourcarpet"
           }
          ],
          "heatmap": [
           {
            "colorbar": {
             "outlinewidth": 0,
             "ticks": ""
            },
            "colorscale": [
             [
              0,
              "#0d0887"
             ],
             [
              0.1111111111111111,
              "#46039f"
             ],
             [
              0.2222222222222222,
              "#7201a8"
             ],
             [
              0.3333333333333333,
              "#9c179e"
             ],
             [
              0.4444444444444444,
              "#bd3786"
             ],
             [
              0.5555555555555556,
              "#d8576b"
             ],
             [
              0.6666666666666666,
              "#ed7953"
             ],
             [
              0.7777777777777778,
              "#fb9f3a"
             ],
             [
              0.8888888888888888,
              "#fdca26"
             ],
             [
              1,
              "#f0f921"
             ]
            ],
            "type": "heatmap"
           }
          ],
          "heatmapgl": [
           {
            "colorbar": {
             "outlinewidth": 0,
             "ticks": ""
            },
            "colorscale": [
             [
              0,
              "#0d0887"
             ],
             [
              0.1111111111111111,
              "#46039f"
             ],
             [
              0.2222222222222222,
              "#7201a8"
             ],
             [
              0.3333333333333333,
              "#9c179e"
             ],
             [
              0.4444444444444444,
              "#bd3786"
             ],
             [
              0.5555555555555556,
              "#d8576b"
             ],
             [
              0.6666666666666666,
              "#ed7953"
             ],
             [
              0.7777777777777778,
              "#fb9f3a"
             ],
             [
              0.8888888888888888,
              "#fdca26"
             ],
             [
              1,
              "#f0f921"
             ]
            ],
            "type": "heatmapgl"
           }
          ],
          "histogram": [
           {
            "marker": {
             "colorbar": {
              "outlinewidth": 0,
              "ticks": ""
             }
            },
            "type": "histogram"
           }
          ],
          "histogram2d": [
           {
            "colorbar": {
             "outlinewidth": 0,
             "ticks": ""
            },
            "colorscale": [
             [
              0,
              "#0d0887"
             ],
             [
              0.1111111111111111,
              "#46039f"
             ],
             [
              0.2222222222222222,
              "#7201a8"
             ],
             [
              0.3333333333333333,
              "#9c179e"
             ],
             [
              0.4444444444444444,
              "#bd3786"
             ],
             [
              0.5555555555555556,
              "#d8576b"
             ],
             [
              0.6666666666666666,
              "#ed7953"
             ],
             [
              0.7777777777777778,
              "#fb9f3a"
             ],
             [
              0.8888888888888888,
              "#fdca26"
             ],
             [
              1,
              "#f0f921"
             ]
            ],
            "type": "histogram2d"
           }
          ],
          "histogram2dcontour": [
           {
            "colorbar": {
             "outlinewidth": 0,
             "ticks": ""
            },
            "colorscale": [
             [
              0,
              "#0d0887"
             ],
             [
              0.1111111111111111,
              "#46039f"
             ],
             [
              0.2222222222222222,
              "#7201a8"
             ],
             [
              0.3333333333333333,
              "#9c179e"
             ],
             [
              0.4444444444444444,
              "#bd3786"
             ],
             [
              0.5555555555555556,
              "#d8576b"
             ],
             [
              0.6666666666666666,
              "#ed7953"
             ],
             [
              0.7777777777777778,
              "#fb9f3a"
             ],
             [
              0.8888888888888888,
              "#fdca26"
             ],
             [
              1,
              "#f0f921"
             ]
            ],
            "type": "histogram2dcontour"
           }
          ],
          "mesh3d": [
           {
            "colorbar": {
             "outlinewidth": 0,
             "ticks": ""
            },
            "type": "mesh3d"
           }
          ],
          "parcoords": [
           {
            "line": {
             "colorbar": {
              "outlinewidth": 0,
              "ticks": ""
             }
            },
            "type": "parcoords"
           }
          ],
          "pie": [
           {
            "automargin": true,
            "type": "pie"
           }
          ],
          "scatter": [
           {
            "marker": {
             "colorbar": {
              "outlinewidth": 0,
              "ticks": ""
             }
            },
            "type": "scatter"
           }
          ],
          "scatter3d": [
           {
            "line": {
             "colorbar": {
              "outlinewidth": 0,
              "ticks": ""
             }
            },
            "marker": {
             "colorbar": {
              "outlinewidth": 0,
              "ticks": ""
             }
            },
            "type": "scatter3d"
           }
          ],
          "scattercarpet": [
           {
            "marker": {
             "colorbar": {
              "outlinewidth": 0,
              "ticks": ""
             }
            },
            "type": "scattercarpet"
           }
          ],
          "scattergeo": [
           {
            "marker": {
             "colorbar": {
              "outlinewidth": 0,
              "ticks": ""
             }
            },
            "type": "scattergeo"
           }
          ],
          "scattergl": [
           {
            "marker": {
             "colorbar": {
              "outlinewidth": 0,
              "ticks": ""
             }
            },
            "type": "scattergl"
           }
          ],
          "scattermapbox": [
           {
            "marker": {
             "colorbar": {
              "outlinewidth": 0,
              "ticks": ""
             }
            },
            "type": "scattermapbox"
           }
          ],
          "scatterpolar": [
           {
            "marker": {
             "colorbar": {
              "outlinewidth": 0,
              "ticks": ""
             }
            },
            "type": "scatterpolar"
           }
          ],
          "scatterpolargl": [
           {
            "marker": {
             "colorbar": {
              "outlinewidth": 0,
              "ticks": ""
             }
            },
            "type": "scatterpolargl"
           }
          ],
          "scatterternary": [
           {
            "marker": {
             "colorbar": {
              "outlinewidth": 0,
              "ticks": ""
             }
            },
            "type": "scatterternary"
           }
          ],
          "surface": [
           {
            "colorbar": {
             "outlinewidth": 0,
             "ticks": ""
            },
            "colorscale": [
             [
              0,
              "#0d0887"
             ],
             [
              0.1111111111111111,
              "#46039f"
             ],
             [
              0.2222222222222222,
              "#7201a8"
             ],
             [
              0.3333333333333333,
              "#9c179e"
             ],
             [
              0.4444444444444444,
              "#bd3786"
             ],
             [
              0.5555555555555556,
              "#d8576b"
             ],
             [
              0.6666666666666666,
              "#ed7953"
             ],
             [
              0.7777777777777778,
              "#fb9f3a"
             ],
             [
              0.8888888888888888,
              "#fdca26"
             ],
             [
              1,
              "#f0f921"
             ]
            ],
            "type": "surface"
           }
          ],
          "table": [
           {
            "cells": {
             "fill": {
              "color": "#EBF0F8"
             },
             "line": {
              "color": "white"
             }
            },
            "header": {
             "fill": {
              "color": "#C8D4E3"
             },
             "line": {
              "color": "white"
             }
            },
            "type": "table"
           }
          ]
         },
         "layout": {
          "annotationdefaults": {
           "arrowcolor": "#2a3f5f",
           "arrowhead": 0,
           "arrowwidth": 1
          },
          "autotypenumbers": "strict",
          "coloraxis": {
           "colorbar": {
            "outlinewidth": 0,
            "ticks": ""
           }
          },
          "colorscale": {
           "diverging": [
            [
             0,
             "#8e0152"
            ],
            [
             0.1,
             "#c51b7d"
            ],
            [
             0.2,
             "#de77ae"
            ],
            [
             0.3,
             "#f1b6da"
            ],
            [
             0.4,
             "#fde0ef"
            ],
            [
             0.5,
             "#f7f7f7"
            ],
            [
             0.6,
             "#e6f5d0"
            ],
            [
             0.7,
             "#b8e186"
            ],
            [
             0.8,
             "#7fbc41"
            ],
            [
             0.9,
             "#4d9221"
            ],
            [
             1,
             "#276419"
            ]
           ],
           "sequential": [
            [
             0,
             "#0d0887"
            ],
            [
             0.1111111111111111,
             "#46039f"
            ],
            [
             0.2222222222222222,
             "#7201a8"
            ],
            [
             0.3333333333333333,
             "#9c179e"
            ],
            [
             0.4444444444444444,
             "#bd3786"
            ],
            [
             0.5555555555555556,
             "#d8576b"
            ],
            [
             0.6666666666666666,
             "#ed7953"
            ],
            [
             0.7777777777777778,
             "#fb9f3a"
            ],
            [
             0.8888888888888888,
             "#fdca26"
            ],
            [
             1,
             "#f0f921"
            ]
           ],
           "sequentialminus": [
            [
             0,
             "#0d0887"
            ],
            [
             0.1111111111111111,
             "#46039f"
            ],
            [
             0.2222222222222222,
             "#7201a8"
            ],
            [
             0.3333333333333333,
             "#9c179e"
            ],
            [
             0.4444444444444444,
             "#bd3786"
            ],
            [
             0.5555555555555556,
             "#d8576b"
            ],
            [
             0.6666666666666666,
             "#ed7953"
            ],
            [
             0.7777777777777778,
             "#fb9f3a"
            ],
            [
             0.8888888888888888,
             "#fdca26"
            ],
            [
             1,
             "#f0f921"
            ]
           ]
          },
          "colorway": [
           "#636efa",
           "#EF553B",
           "#00cc96",
           "#ab63fa",
           "#FFA15A",
           "#19d3f3",
           "#FF6692",
           "#B6E880",
           "#FF97FF",
           "#FECB52"
          ],
          "font": {
           "color": "#2a3f5f"
          },
          "geo": {
           "bgcolor": "white",
           "lakecolor": "white",
           "landcolor": "#E5ECF6",
           "showlakes": true,
           "showland": true,
           "subunitcolor": "white"
          },
          "hoverlabel": {
           "align": "left"
          },
          "hovermode": "closest",
          "mapbox": {
           "style": "light"
          },
          "paper_bgcolor": "white",
          "plot_bgcolor": "#E5ECF6",
          "polar": {
           "angularaxis": {
            "gridcolor": "white",
            "linecolor": "white",
            "ticks": ""
           },
           "bgcolor": "#E5ECF6",
           "radialaxis": {
            "gridcolor": "white",
            "linecolor": "white",
            "ticks": ""
           }
          },
          "scene": {
           "xaxis": {
            "backgroundcolor": "#E5ECF6",
            "gridcolor": "white",
            "gridwidth": 2,
            "linecolor": "white",
            "showbackground": true,
            "ticks": "",
            "zerolinecolor": "white"
           },
           "yaxis": {
            "backgroundcolor": "#E5ECF6",
            "gridcolor": "white",
            "gridwidth": 2,
            "linecolor": "white",
            "showbackground": true,
            "ticks": "",
            "zerolinecolor": "white"
           },
           "zaxis": {
            "backgroundcolor": "#E5ECF6",
            "gridcolor": "white",
            "gridwidth": 2,
            "linecolor": "white",
            "showbackground": true,
            "ticks": "",
            "zerolinecolor": "white"
           }
          },
          "shapedefaults": {
           "line": {
            "color": "#2a3f5f"
           }
          },
          "ternary": {
           "aaxis": {
            "gridcolor": "white",
            "linecolor": "white",
            "ticks": ""
           },
           "baxis": {
            "gridcolor": "white",
            "linecolor": "white",
            "ticks": ""
           },
           "bgcolor": "#E5ECF6",
           "caxis": {
            "gridcolor": "white",
            "linecolor": "white",
            "ticks": ""
           }
          },
          "title": {
           "x": 0.05
          },
          "xaxis": {
           "automargin": true,
           "gridcolor": "white",
           "linecolor": "white",
           "ticks": "",
           "title": {
            "standoff": 15
           },
           "zerolinecolor": "white",
           "zerolinewidth": 2
          },
          "yaxis": {
           "automargin": true,
           "gridcolor": "white",
           "linecolor": "white",
           "ticks": "",
           "title": {
            "standoff": 15
           },
           "zerolinecolor": "white",
           "zerolinewidth": 2
          }
         }
        },
        "title": {
         "text": "매매지수 상위 5개지역 21년 4월 전세,매매지수 산포도"
        },
        "xaxis": {
         "anchor": "y",
         "domain": [
          0,
          1
         ],
         "title": {
          "text": "2021. 04"
         }
        },
        "yaxis": {
         "anchor": "x",
         "domain": [
          0,
          1
         ],
         "title": {
          "text": "y"
         }
        }
       }
      },
      "text/html": [
       "<div>                            <div id=\"329babef-6c95-499e-930c-4e66ae9b5a7f\" class=\"plotly-graph-div\" style=\"height:525px; width:100%;\"></div>            <script type=\"text/javascript\">                require([\"plotly\"], function(Plotly) {                    window.PLOTLYENV=window.PLOTLYENV || {};\n",
       "                    window.PLOTLYENV.BASE_URL='https://plotly.com';                                    if (document.getElementById(\"329babef-6c95-499e-930c-4e66ae9b5a7f\")) {                    Plotly.newPlot(                        \"329babef-6c95-499e-930c-4e66ae9b5a7f\",                        [{\"hovertemplate\": \"\\ub3c4\\ub2e8\\uc704=\\uc804\\uad6d<br>2021. 04=%{x}<br>y=%{y}<extra></extra>\", \"legendgroup\": \"\\uc804\\uad6d\", \"marker\": {\"color\": \"#636efa\", \"symbol\": \"circle\"}, \"mode\": \"markers\", \"name\": \"\\uc804\\uad6d\", \"orientation\": \"v\", \"showlegend\": true, \"type\": \"scatter\", \"x\": [109.6, 111.1, 101.9, 110.4], \"xaxis\": \"x\", \"y\": [103.6, 105.8, 100.2, 100.2], \"yaxis\": \"y\"}, {\"hovertemplate\": \"\\ub3c4\\ub2e8\\uc704=\\uc218\\ub3c4\\uad8c<br>2021. 04=%{x}<br>y=%{y}<extra></extra>\", \"legendgroup\": \"\\uc218\\ub3c4\\uad8c\", \"marker\": {\"color\": \"#EF553B\", \"symbol\": \"circle\"}, \"mode\": \"markers\", \"name\": \"\\uc218\\ub3c4\\uad8c\", \"orientation\": \"v\", \"showlegend\": true, \"type\": \"scatter\", \"x\": [115.1, 119.7, 104.4, 115.1], \"xaxis\": \"x\", \"y\": [105.6, 108.1, 101.7, 101.1], \"yaxis\": \"y\"}, {\"hovertemplate\": \"\\ub3c4\\ub2e8\\uc704=\\uc9c0\\ubc29<br>2021. 04=%{x}<br>y=%{y}<extra></extra>\", \"legendgroup\": \"\\uc9c0\\ubc29\", \"marker\": {\"color\": \"#00cc96\", \"symbol\": \"circle\"}, \"mode\": \"markers\", \"name\": \"\\uc9c0\\ubc29\", \"orientation\": \"v\", \"showlegend\": true, \"type\": \"scatter\", \"x\": [104.9, 103.6, 96.1, 109.0], \"xaxis\": \"x\", \"y\": [101.9, 103.6, 96.5, 99.9], \"yaxis\": \"y\"}, {\"hovertemplate\": \"\\ub3c4\\ub2e8\\uc704=6\\ub300\\uad11\\uc5ed\\uc2dc<br>2021. 04=%{x}<br>y=%{y}<extra></extra>\", \"legendgroup\": \"6\\ub300\\uad11\\uc5ed\\uc2dc\", \"marker\": {\"color\": \"#ab63fa\", \"symbol\": \"circle\"}, \"mode\": \"markers\", \"name\": \"6\\ub300\\uad11\\uc5ed\\uc2dc\", \"orientation\": \"v\", \"showlegend\": true, \"type\": \"scatter\", \"x\": [111.9, 113.4, 101.8, 114.4], \"xaxis\": \"x\", \"y\": [106.5, 109.7, 99.8, 100.2], \"yaxis\": \"y\"}, {\"hovertemplate\": \"\\ub3c4\\ub2e8\\uc704=5\\ub300\\uad11\\uc5ed\\uc2dc<br>2021. 04=%{x}<br>y=%{y}<extra></extra>\", \"legendgroup\": \"5\\ub300\\uad11\\uc5ed\\uc2dc\", \"marker\": {\"color\": \"#FFA15A\", \"symbol\": \"circle\"}, \"mode\": \"markers\", \"name\": \"5\\ub300\\uad11\\uc5ed\\uc2dc\", \"orientation\": \"v\", \"showlegend\": true, \"type\": \"scatter\", \"x\": [111.5, 112.2, 100.4, 114.7], \"xaxis\": \"x\", \"y\": [105.8, 108.8, 98.1, 100.0], \"yaxis\": \"y\"}, {\"hovertemplate\": \"\\ub3c4\\ub2e8\\uc704=9\\uac1c\\ub3c4<br>2021. 04=%{x}<br>y=%{y}<extra></extra>\", \"legendgroup\": \"9\\uac1c\\ub3c4\", \"marker\": {\"color\": \"#19d3f3\", \"symbol\": \"circle\"}, \"mode\": \"markers\", \"name\": \"9\\uac1c\\ub3c4\", \"orientation\": \"v\", \"showlegend\": true, \"type\": \"scatter\", \"x\": [107.1, 107.9, 99.0, 108.6], \"xaxis\": \"x\", \"y\": [101.3, 102.3, 98.3, 99.9], \"yaxis\": \"y\"}, {\"hovertemplate\": \"\\ub3c4\\ub2e8\\uc704=8\\uac1c\\ub3c4<br>2021. 04=%{x}<br>y=%{y}<extra></extra>\", \"legendgroup\": \"8\\uac1c\\ub3c4\", \"marker\": {\"color\": \"#FF6692\", \"symbol\": \"circle\"}, \"mode\": \"markers\", \"name\": \"8\\uac1c\\ub3c4\", \"orientation\": \"v\", \"showlegend\": true, \"type\": \"scatter\", \"x\": [100.1, 95.7, 92.3, 107.5], \"xaxis\": \"x\", \"y\": [98.4, 97.6, 95.0, 99.8], \"yaxis\": \"y\"}, {\"hovertemplate\": \"\\ub3c4\\ub2e8\\uc704=\\uc11c\\uc6b8<br>2021. 04=%{x}<br>y=%{y}<extra></extra>\", \"legendgroup\": \"\\uc11c\\uc6b8\", \"marker\": {\"color\": \"#B6E880\", \"symbol\": \"circle\"}, \"mode\": \"markers\", \"name\": \"\\uc11c\\uc6b8\", \"orientation\": \"v\", \"showlegend\": true, \"type\": \"scatter\", \"x\": [112.9, 112.7, 113.9, 110.8, 113.6, 116.0, 112.4, 115.7, 112.1, 113.1, 110.3, 113.4, 111.7, 110.8, 112.5, 112.9, 110.0, 111.3, 118.0, 113.1, 112.1, 113.4, 111.0, 111.5, 108.7, 115.9, 114.6, 109.5, 114.5, 113.0, 114.4, 115.3, 114.9, 115.7, 114.3, 115.6, 113.5, 116.0, 116.3, 113.8, 116.2, 115.4, 113.9, 110.0, 115.2, 117.2, 112.9, 113.2, 115.4, 112.7, 112.8, 119.6, 116.9, 116.2, 119.2, 115.9, 114.8, 110.9, 117.5, 117.5, 113.6, 117.8, 114.4, 116.5, 121.5, 118.8, 106.1, 107.2, 105.8, 106.3, 109.1, 105.0, 104.2, 106.3, 118.0, 118.1, 121.2, 117.2, 118.3, 117.9, 117.1, 119.9], \"xaxis\": \"x\", \"y\": [105.1, 105.0, 104.4, 105.5, 104.1, 103.9, 104.9, 106.6, 104.9, 103.6, 104.1, 106.7, 104.4, 102.4, 106.1, 105.4, 105.3, 102.9, 107.6, 105.2, 105.3, 105.9, 105.3, 104.5, 104.6, 105.6, 106.5, 104.6, 105.0, 106.3, 105.8, 105.9, 101.0, 107.1, 106.5, 106.0, 107.0, 105.9, 105.9, 106.4, 108.0, 106.7, 104.7, 105.8, 109.0, 108.1, 102.7, 106.9, 107.0, 105.5, 104.1, 110.4, 107.6, 108.2, 108.8, 108.9, 106.6, 107.0, 106.6, 110.1, 109.4, 107.0, 108.0, 107.9, 108.6, 101.7, 103.0, 103.8, 103.2, 103.6, 104.4, 102.2, 102.4, 101.9, 101.9, 102.3, 102.7, 101.8, 103.5, 101.2, 101.6, 100.2], \"yaxis\": \"y\"}, {\"hovertemplate\": \"\\ub3c4\\ub2e8\\uc704=\\uacbd\\uae30<br>2021. 04=%{x}<br>y=%{y}<extra></extra>\", \"legendgroup\": \"\\uacbd\\uae30\", \"marker\": {\"color\": \"#FF97FF\", \"symbol\": \"circle\"}, \"mode\": \"markers\", \"name\": \"\\uacbd\\uae30\", \"orientation\": \"v\", \"showlegend\": true, \"type\": \"scatter\", \"x\": [117.0, 123.3, 126.4, 124.3, 119.5, 127.8, 122.8, 123.1, 116.1, 125.8, 119.4, 128.2, 123.6, 98.2, 128.0, 105.0, 133.3, 142.0, 125.2, 113.6, 121.7, 123.8, 141.6, 113.6, 118.2, 110.5, 107.3, 114.3, 113.9, 133.4, 117.5, 108.2, 98.1, 120.2, 121.0, 138.9, 131.4, 105.9, 103.5, 100.7, 101.4, 115.1, 116.3, 118.0, 125.3, 112.3, 112.6, 108.0, 108.9, 99.3, 102.2, 109.0, 114.3, 122.1, 128.5, 131.9, 130.0, 126.9, 131.6, 127.8, 128.6, 125.8, 127.8, 123.6, 134.7, 130.9, 92.2, 135.3, 105.9, 137.5, 144.5, 133.5, 118.5, 129.4, 141.7, 144.6, 117.5, 126.0, 118.8, 119.5, 118.3, 117.0, 140.3, 120.6, 110.2, 94.8, 128.5, 127.0, 146.8, 134.1, 112.1, 94.4, 94.5, 89.3, 117.6, 118.2, 120.9, 130.7, 115.7, 114.0, 108.5, 111.5, 95.6, 102.5, 110.2, 116.7, 102.7, 107.6, 102.1, 103.0, 103.3, 95.2, 101.7, 96.9, 113.7, 117.8, 113.7, 113.9, 115.3, 111.9, 114.2, 110.8], \"xaxis\": \"x\", \"y\": [105.1, 105.3, 105.2, 106.3, 105.6, 106.8, 105.6, 109.5, 104.7, 104.4, 101.8, 106.3, 108.1, 93.3, 109.6, 101.2, 111.4, 114.6, 109.7, 104.1, 110.5, 106.5, 115.9, 103.3, 106.2, 98.9, 97.6, 100.6, 101.1, 111.5, 106.3, 101.0, 98.0, 109.1, 110.6, 106.7, 118.2, 103.0, 99.5, 99.3, 97.2, 103.5, 102.7, 106.8, 110.8, 103.6, 103.8, 97.3, 104.6, 98.8, 102.2, 103.2, 108.2, 107.4, 106.6, 106.1, 107.3, 107.4, 107.2, 107.5, 115.9, 111.5, 105.0, 102.4, 108.7, 111.3, 89.3, 112.7, 103.5, 113.4, 115.7, 113.6, 106.1, 116.2, 110.3, 117.4, 104.4, 107.9, 98.1, 95.1, 100.6, 101.3, 116.4, 108.2, 102.1, 97.2, 113.3, 114.2, 108.5, 120.5, 106.3, 99.0, 99.5, 94.3, 105.1, 103.8, 109.3, 115.9, 105.7, 104.6, 96.2, 107.9, 98.9, 106.6, 104.8, 111.2, 100.1, 102.4, 100.2, 99.9, 101.2, 97.2, 97.9, 98.3, 100.5, 101.6, 100.4, 100.7, 101.3, 100.3, 99.7, 99.8], \"yaxis\": \"y\"}, {\"hovertemplate\": \"\\ub3c4\\ub2e8\\uc704=\\uc778\\ucc9c<br>2021. 04=%{x}<br>y=%{y}<extra></extra>\", \"legendgroup\": \"\\uc778\\ucc9c\", \"marker\": {\"color\": \"#FECB52\", \"symbol\": \"circle\"}, \"mode\": \"markers\", \"name\": \"\\uc778\\ucc9c\", \"orientation\": \"v\", \"showlegend\": true, \"type\": \"scatter\", \"x\": [113.3, 104.4, 104.9, 110.0, 124.9, 113.8, 114.4, 109.3, 114.1, 117.8, 104.8, 102.1, 112.3, 127.1, 118.0, 119.9, 113.6, 119.2, 103.6, 112.8], \"xaxis\": \"x\", \"y\": [108.7, 103.9, 101.2, 105.0, 115.2, 107.9, 108.7, 107.4, 112.2, 113.0, 107.2, 101.2, 109.0, 116.6, 112.0, 113.3, 111.7, 116.1, 102.1, 101.6], \"yaxis\": \"y\"}, {\"hovertemplate\": \"\\ub3c4\\ub2e8\\uc704=\\ubd80\\uc0b0<br>2021. 04=%{x}<br>y=%{y}<extra></extra>\", \"legendgroup\": \"\\ubd80\\uc0b0\", \"marker\": {\"color\": \"#636efa\", \"symbol\": \"circle\"}, \"mode\": \"markers\", \"name\": \"\\ubd80\\uc0b0\", \"orientation\": \"v\", \"showlegend\": true, \"type\": \"scatter\", \"x\": [106.7, 107.3, 99.4, 101.1, 105.2, 100.2, 107.3, 110.3, 109.3, 111.7, 110.0, 115.6, 106.1, 109.4, 103.6, 102.0, 100.3, 108.9, 101.0, 102.1, 106.1, 107.0, 94.6, 97.1, 97.9, 94.4, 106.4, 111.7, 110.4, 113.6, 110.5, 117.5, 105.5, 108.3, 101.8, 100.4, 99.8, 105.6, 99.0, 100.2, 98.0, 97.8, 99.2, 96.8, 115.3, 114.5, 118.3, 113.8], \"xaxis\": \"x\", \"y\": [101.9, 101.0, 98.5, 98.9, 98.1, 98.3, 101.0, 104.5, 100.8, 100.5, 102.7, 104.9, 100.8, 98.9, 107.0, 102.5, 100.8, 103.9, 102.0, 103.8, 103.8, 103.2, 97.3, 99.0, 96.8, 97.6, 104.1, 108.6, 102.1, 101.3, 104.7, 106.7, 102.6, 99.4, 110.8, 103.7, 101.7, 104.2, 103.1, 105.6, 97.4, 96.9, 97.6, 98.2, 99.3, 99.4, 98.5, 100.1], \"yaxis\": \"y\"}, {\"hovertemplate\": \"\\ub3c4\\ub2e8\\uc704=\\ub300\\uad6c<br>2021. 04=%{x}<br>y=%{y}<extra></extra>\", \"legendgroup\": \"\\ub300\\uad6c\", \"marker\": {\"color\": \"#EF553B\", \"symbol\": \"circle\"}, \"mode\": \"markers\", \"name\": \"\\ub300\\uad6c\", \"orientation\": \"v\", \"showlegend\": true, \"type\": \"scatter\", \"x\": [116.2, 124.7, 111.9, 116.8, 114.1, 107.5, 132.0, 118.7, 106.5, 117.0, 129.3, 110.5, 122.3, 115.7, 106.2, 136.3, 119.9, 105.3, 105.0, 118.0], \"xaxis\": \"x\", \"y\": [108.4, 109.6, 106.0, 104.6, 103.6, 106.2, 109.9, 110.8, 113.1, 112.0, 117.3, 109.7, 111.7, 109.2, 108.1, 112.9, 113.5, 116.3, 101.2, 100.6], \"yaxis\": \"y\"}, {\"hovertemplate\": \"\\ub3c4\\ub2e8\\uc704=\\uad11\\uc8fc<br>2021. 04=%{x}<br>y=%{y}<extra></extra>\", \"legendgroup\": \"\\uad11\\uc8fc\", \"marker\": {\"color\": \"#00cc96\", \"symbol\": \"circle\"}, \"mode\": \"markers\", \"name\": \"\\uad11\\uc8fc\", \"orientation\": \"v\", \"showlegend\": true, \"type\": \"scatter\", \"x\": [108.4, 108.4, 109.1, 111.0, 104.1, 111.6, 106.9, 104.7, 107.8, 109.4, 102.0, 110.9, 102.6, 115.4], \"xaxis\": \"x\", \"y\": [104.1, 102.9, 104.5, 104.4, 103.0, 105.4, 104.9, 103.8, 105.2, 105.8, 103.4, 106.1, 101.0, 101.6], \"yaxis\": \"y\"}, {\"hovertemplate\": \"\\ub3c4\\ub2e8\\uc704=\\ub300\\uc804<br>2021. 04=%{x}<br>y=%{y}<extra></extra>\", \"legendgroup\": \"\\ub300\\uc804\", \"marker\": {\"color\": \"#ab63fa\", \"symbol\": \"circle\"}, \"mode\": \"markers\", \"name\": \"\\ub300\\uc804\", \"orientation\": \"v\", \"showlegend\": true, \"type\": \"scatter\", \"x\": [130.8, 120.1, 126.7, 137.1, 145.3, 113.7, 138.9, 127.1, 135.2, 143.6, 151.0, 119.3, 111.0, 115.1], \"xaxis\": \"x\", \"y\": [118.0, 112.3, 116.9, 121.1, 125.8, 107.1, 125.6, 119.5, 129.1, 127.1, 131.3, 112.0, 102.1, 101.5], \"yaxis\": \"y\"}, {\"hovertemplate\": \"\\ub3c4\\ub2e8\\uc704=\\uc6b8\\uc0b0<br>2021. 04=%{x}<br>y=%{y}<extra></extra>\", \"legendgroup\": \"\\uc6b8\\uc0b0\", \"marker\": {\"color\": \"#FFA15A\", \"symbol\": \"circle\"}, \"mode\": \"markers\", \"name\": \"\\uc6b8\\uc0b0\", \"orientation\": \"v\", \"showlegend\": true, \"type\": \"scatter\", \"x\": [100.2, 103.3, 109.4, 88.0, 96.3, 97.4, 99.7, 103.0, 111.5, 87.5, 94.8, 94.1, 91.6, 104.6], \"xaxis\": \"x\", \"y\": [101.2, 102.2, 108.0, 89.3, 97.7, 102.4, 103.5, 105.2, 112.6, 90.3, 97.7, 105.1, 90.5, 97.0], \"yaxis\": \"y\"}, {\"hovertemplate\": \"\\ub3c4\\ub2e8\\uc704=\\uc138\\uc885<br>2021. 04=%{x}<br>y=%{y}<extra></extra>\", \"legendgroup\": \"\\uc138\\uc885\", \"marker\": {\"color\": \"#19d3f3\", \"symbol\": \"circle\"}, \"mode\": \"markers\", \"name\": \"\\uc138\\uc885\", \"orientation\": \"v\", \"showlegend\": true, \"type\": \"scatter\", \"x\": [142.8, 147.6, 101.1, 124.0], \"xaxis\": \"x\", \"y\": [163.5, 182.6, 97.5, 102.4], \"yaxis\": \"y\"}, {\"hovertemplate\": \"\\ub3c4\\ub2e8\\uc704=\\uac15\\uc6d0<br>2021. 04=%{x}<br>y=%{y}<extra></extra>\", \"legendgroup\": \"\\uac15\\uc6d0\", \"marker\": {\"color\": \"#FF6692\", \"symbol\": \"circle\"}, \"mode\": \"markers\", \"name\": \"\\uac15\\uc6d0\", \"orientation\": \"v\", \"showlegend\": true, \"type\": \"scatter\", \"x\": [99.4, 98.1, 96.7, 104.4, 95.7, 100.1, 97.4, 100.1, 93.4, 92.5, 91.4, 100.3, 88.0, 98.4, 88.4, 92.9, 94.7, 109.6], \"xaxis\": \"x\", \"y\": [97.6, 97.0, 94.2, 101.3, 95.6, 100.2, 94.9, 98.9, 95.7, 94.6, 91.8, 104.1, 93.6, 101.0, 91.9, 97.9, 95.4, 100.3], \"yaxis\": \"y\"}, {\"hovertemplate\": \"\\ub3c4\\ub2e8\\uc704=\\ucda9\\ubd81<br>2021. 04=%{x}<br>y=%{y}<extra></extra>\", \"legendgroup\": \"\\ucda9\\ubd81\", \"marker\": {\"color\": \"#B6E880\", \"symbol\": \"circle\"}, \"mode\": \"markers\", \"name\": \"\\ucda9\\ubd81\", \"orientation\": \"v\", \"showlegend\": true, \"type\": \"scatter\", \"x\": [99.8, 100.9, 97.2, 96.9, 105.7, 103.2, 97.1, 95.3, 98.3, 95.3, 98.3, 92.1, 93.8, 104.7, 101.0, 90.5, 87.3, 89.7, 93.5, 107.5], \"xaxis\": \"x\", \"y\": [98.4, 99.6, 96.3, 97.0, 104.2, 99.9, 96.9, 94.5, 96.5, 97.1, 99.6, 93.9, 95.9, 105.7, 100.8, 93.6, 89.6, 94.5, 97.0, 100.0], \"yaxis\": \"y\"}, {\"hovertemplate\": \"\\ub3c4\\ub2e8\\uc704=\\ucda9\\ub0a8<br>2021. 04=%{x}<br>y=%{y}<extra></extra>\", \"legendgroup\": \"\\ucda9\\ub0a8\", \"marker\": {\"color\": \"#FF97FF\", \"symbol\": \"circle\"}, \"mode\": \"markers\", \"name\": \"\\ucda9\\ub0a8\", \"orientation\": \"v\", \"showlegend\": true, \"type\": \"scatter\", \"x\": [102.1, 104.4, 99.2, 108.1, 108.2, 97.8, 101.8, 94.5, 104.2, 113.9, 106.2, 100.9, 92.4, 101.1, 106.2, 99.3, 110.1, 108.1, 87.5, 101.5, 87.3, 101.6, 114.8, 112.6, 96.7, 87.4, 91.1, 105.5], \"xaxis\": \"x\", \"y\": [102.1, 104.4, 99.7, 107.8, 102.3, 97.9, 105.3, 95.8, 100.5, 112.4, 104.8, 102.4, 97.9, 105.1, 107.5, 101.9, 110.7, 104.4, 92.5, 108.5, 93.9, 101.6, 114.4, 115.0, 105.6, 98.9, 95.3, 99.4], \"yaxis\": \"y\"}, {\"hovertemplate\": \"\\ub3c4\\ub2e8\\uc704=\\uc804\\ubd81<br>2021. 04=%{x}<br>y=%{y}<extra></extra>\", \"legendgroup\": \"\\uc804\\ubd81\", \"marker\": {\"color\": \"#FECB52\", \"symbol\": \"circle\"}, \"mode\": \"markers\", \"name\": \"\\uc804\\ubd81\", \"orientation\": \"v\", \"showlegend\": true, \"type\": \"scatter\", \"x\": [101.8, 101.5, 100.5, 102.6, 92.9, 104.4, 105.5, 106.5, 107.4, 97.5, 98.9, 97.8, 100.2, 90.5, 100.9, 99.2, 100.1, 102.6, 95.9, 108.9], \"xaxis\": \"x\", \"y\": [99.6, 98.8, 98.3, 99.3, 95.3, 103.2, 100.8, 100.7, 100.4, 98.4, 97.9, 97.5, 98.3, 94.1, 103.9, 100.2, 100.4, 101.2, 98.5, 101.3], \"yaxis\": \"y\"}, {\"hovertemplate\": \"\\ub3c4\\ub2e8\\uc704=\\uc804\\ub0a8<br>2021. 04=%{x}<br>y=%{y}<extra></extra>\", \"legendgroup\": \"\\uc804\\ub0a8\", \"marker\": {\"color\": \"#636efa\", \"symbol\": \"circle\"}, \"mode\": \"markers\", \"name\": \"\\uc804\\ub0a8\", \"orientation\": \"v\", \"showlegend\": true, \"type\": \"scatter\", \"x\": [108.3, 98.4, 114.1, 111.0, 105.9, 110.9, 102.8, 104.2, 93.7, 113.1, 110.1, 94.0, 111.4, 88.6, 101.3, 112.6], \"xaxis\": \"x\", \"y\": [103.6, 99.8, 106.0, 106.2, 99.8, 108.4, 99.7, 105.4, 98.6, 109.3, 108.7, 99.9, 112.0, 95.9, 101.2, 102.0], \"yaxis\": \"y\"}, {\"hovertemplate\": \"\\ub3c4\\ub2e8\\uc704=\\uacbd\\ubd81<br>2021. 04=%{x}<br>y=%{y}<extra></extra>\", \"legendgroup\": \"\\uacbd\\ubd81\", \"marker\": {\"color\": \"#EF553B\", \"symbol\": \"circle\"}, \"mode\": \"markers\", \"name\": \"\\uacbd\\ubd81\", \"orientation\": \"v\", \"showlegend\": true, \"type\": \"scatter\", \"x\": [99.1, 99.5, 94.9, 98.3, 100.7, 96.3, 95.1, 97.6, 103.8, 99.7, 105.9, 103.6, 100.9, 94.7, 92.7, 90.9, 92.5, 95.1, 98.0, 93.3, 87.0, 88.2, 99.9, 87.0, 99.8, 94.5, 95.3, 85.5, 92.0, 108.0], \"xaxis\": \"x\", \"y\": [96.8, 93.9, 96.2, 94.8, 96.8, 93.1, 96.4, 96.6, 101.4, 98.3, 100.3, 100.1, 99.1, 96.0, 94.4, 88.0, 94.9, 92.9, 95.8, 91.1, 92.7, 92.8, 104.2, 95.9, 101.6, 100.4, 98.6, 92.3, 95.4, 99.9], \"yaxis\": \"y\"}, {\"hovertemplate\": \"\\ub3c4\\ub2e8\\uc704=\\uacbd\\ub0a8<br>2021. 04=%{x}<br>y=%{y}<extra></extra>\", \"legendgroup\": \"\\uacbd\\ub0a8\", \"marker\": {\"color\": \"#00cc96\", \"symbol\": \"circle\"}, \"mode\": \"markers\", \"name\": \"\\uacbd\\ub0a8\", \"orientation\": \"v\", \"showlegend\": true, \"type\": \"scatter\", \"x\": [95.9, 95.8, 99.7, 101.5, 90.3, 89.8, 97.1, 97.9, 96.9, 95.0, 89.7, 102.1, 84.3, 102.1, 92.1, 96.3, 103.4, 101.9, 86.6, 87.9, 98.8, 92.3, 92.8, 80.3, 86.8, 87.2, 80.0, 101.0, 87.1, 103.0], \"xaxis\": \"x\", \"y\": [95.2, 98.2, 98.4, 109.1, 93.6, 92.5, 97.0, 94.6, 91.6, 97.1, 87.9, 95.7, 81.0, 105.8, 93.6, 100.1, 102.8, 110.5, 91.5, 91.9, 97.8, 90.5, 91.4, 88.4, 85.8, 88.3, 76.1, 107.2, 90.4, 97.7], \"yaxis\": \"y\"}, {\"hovertemplate\": \"\\ub3c4\\ub2e8\\uc704=\\uc81c\\uc8fc<br>2021. 04=%{x}<br>y=%{y}<extra></extra>\", \"legendgroup\": \"\\uc81c\\uc8fc\", \"marker\": {\"color\": \"#ab63fa\", \"symbol\": \"circle\"}, \"mode\": \"markers\", \"name\": \"\\uc81c\\uc8fc\", \"orientation\": \"v\", \"showlegend\": true, \"type\": \"scatter\", \"x\": [96.8, 96.8, 96.8, 93.5, 94.4, 90.9, 92.4, 101.2], \"xaxis\": \"x\", \"y\": [94.5, 94.5, 94.6, 94.1, 94.1, 94.1, 93.7, 95.3], \"yaxis\": \"y\"}],                        {\"legend\": {\"title\": {\"text\": \"\\ub3c4\\ub2e8\\uc704\"}, \"tracegroupgap\": 0}, \"template\": {\"data\": {\"bar\": [{\"error_x\": {\"color\": \"#2a3f5f\"}, \"error_y\": {\"color\": \"#2a3f5f\"}, \"marker\": {\"line\": {\"color\": \"#E5ECF6\", \"width\": 0.5}}, \"type\": \"bar\"}], \"barpolar\": [{\"marker\": {\"line\": {\"color\": \"#E5ECF6\", \"width\": 0.5}}, \"type\": \"barpolar\"}], \"carpet\": [{\"aaxis\": {\"endlinecolor\": \"#2a3f5f\", \"gridcolor\": \"white\", \"linecolor\": \"white\", \"minorgridcolor\": \"white\", \"startlinecolor\": \"#2a3f5f\"}, \"baxis\": {\"endlinecolor\": \"#2a3f5f\", \"gridcolor\": \"white\", \"linecolor\": \"white\", \"minorgridcolor\": \"white\", \"startlinecolor\": \"#2a3f5f\"}, \"type\": \"carpet\"}], \"choropleth\": [{\"colorbar\": {\"outlinewidth\": 0, \"ticks\": \"\"}, \"type\": \"choropleth\"}], \"contour\": [{\"colorbar\": {\"outlinewidth\": 0, \"ticks\": \"\"}, \"colorscale\": [[0.0, \"#0d0887\"], [0.1111111111111111, \"#46039f\"], [0.2222222222222222, \"#7201a8\"], [0.3333333333333333, \"#9c179e\"], [0.4444444444444444, \"#bd3786\"], [0.5555555555555556, \"#d8576b\"], [0.6666666666666666, \"#ed7953\"], [0.7777777777777778, \"#fb9f3a\"], [0.8888888888888888, \"#fdca26\"], [1.0, \"#f0f921\"]], \"type\": \"contour\"}], \"contourcarpet\": [{\"colorbar\": {\"outlinewidth\": 0, \"ticks\": \"\"}, \"type\": \"contourcarpet\"}], \"heatmap\": [{\"colorbar\": {\"outlinewidth\": 0, \"ticks\": \"\"}, \"colorscale\": [[0.0, \"#0d0887\"], [0.1111111111111111, \"#46039f\"], [0.2222222222222222, \"#7201a8\"], [0.3333333333333333, \"#9c179e\"], [0.4444444444444444, \"#bd3786\"], [0.5555555555555556, \"#d8576b\"], [0.6666666666666666, \"#ed7953\"], [0.7777777777777778, \"#fb9f3a\"], [0.8888888888888888, \"#fdca26\"], [1.0, \"#f0f921\"]], \"type\": \"heatmap\"}], \"heatmapgl\": [{\"colorbar\": {\"outlinewidth\": 0, \"ticks\": \"\"}, \"colorscale\": [[0.0, \"#0d0887\"], [0.1111111111111111, \"#46039f\"], [0.2222222222222222, \"#7201a8\"], [0.3333333333333333, \"#9c179e\"], [0.4444444444444444, \"#bd3786\"], [0.5555555555555556, \"#d8576b\"], [0.6666666666666666, \"#ed7953\"], [0.7777777777777778, \"#fb9f3a\"], [0.8888888888888888, \"#fdca26\"], [1.0, \"#f0f921\"]], \"type\": \"heatmapgl\"}], \"histogram\": [{\"marker\": {\"colorbar\": {\"outlinewidth\": 0, \"ticks\": \"\"}}, \"type\": \"histogram\"}], \"histogram2d\": [{\"colorbar\": {\"outlinewidth\": 0, \"ticks\": \"\"}, \"colorscale\": [[0.0, \"#0d0887\"], [0.1111111111111111, \"#46039f\"], [0.2222222222222222, \"#7201a8\"], [0.3333333333333333, \"#9c179e\"], [0.4444444444444444, \"#bd3786\"], [0.5555555555555556, \"#d8576b\"], [0.6666666666666666, \"#ed7953\"], [0.7777777777777778, \"#fb9f3a\"], [0.8888888888888888, \"#fdca26\"], [1.0, \"#f0f921\"]], \"type\": \"histogram2d\"}], \"histogram2dcontour\": [{\"colorbar\": {\"outlinewidth\": 0, \"ticks\": \"\"}, \"colorscale\": [[0.0, \"#0d0887\"], [0.1111111111111111, \"#46039f\"], [0.2222222222222222, \"#7201a8\"], [0.3333333333333333, \"#9c179e\"], [0.4444444444444444, \"#bd3786\"], [0.5555555555555556, \"#d8576b\"], [0.6666666666666666, \"#ed7953\"], [0.7777777777777778, \"#fb9f3a\"], [0.8888888888888888, \"#fdca26\"], [1.0, \"#f0f921\"]], \"type\": \"histogram2dcontour\"}], \"mesh3d\": [{\"colorbar\": {\"outlinewidth\": 0, \"ticks\": \"\"}, \"type\": \"mesh3d\"}], \"parcoords\": [{\"line\": {\"colorbar\": {\"outlinewidth\": 0, \"ticks\": \"\"}}, \"type\": \"parcoords\"}], \"pie\": [{\"automargin\": true, \"type\": \"pie\"}], \"scatter\": [{\"marker\": {\"colorbar\": {\"outlinewidth\": 0, \"ticks\": \"\"}}, \"type\": \"scatter\"}], \"scatter3d\": [{\"line\": {\"colorbar\": {\"outlinewidth\": 0, \"ticks\": \"\"}}, \"marker\": {\"colorbar\": {\"outlinewidth\": 0, \"ticks\": \"\"}}, \"type\": \"scatter3d\"}], \"scattercarpet\": [{\"marker\": {\"colorbar\": {\"outlinewidth\": 0, \"ticks\": \"\"}}, \"type\": \"scattercarpet\"}], \"scattergeo\": [{\"marker\": {\"colorbar\": {\"outlinewidth\": 0, \"ticks\": \"\"}}, \"type\": \"scattergeo\"}], \"scattergl\": [{\"marker\": {\"colorbar\": {\"outlinewidth\": 0, \"ticks\": \"\"}}, \"type\": \"scattergl\"}], \"scattermapbox\": [{\"marker\": {\"colorbar\": {\"outlinewidth\": 0, \"ticks\": \"\"}}, \"type\": \"scattermapbox\"}], \"scatterpolar\": [{\"marker\": {\"colorbar\": {\"outlinewidth\": 0, \"ticks\": \"\"}}, \"type\": \"scatterpolar\"}], \"scatterpolargl\": [{\"marker\": {\"colorbar\": {\"outlinewidth\": 0, \"ticks\": \"\"}}, \"type\": \"scatterpolargl\"}], \"scatterternary\": [{\"marker\": {\"colorbar\": {\"outlinewidth\": 0, \"ticks\": \"\"}}, \"type\": \"scatterternary\"}], \"surface\": [{\"colorbar\": {\"outlinewidth\": 0, \"ticks\": \"\"}, \"colorscale\": [[0.0, \"#0d0887\"], [0.1111111111111111, \"#46039f\"], [0.2222222222222222, \"#7201a8\"], [0.3333333333333333, \"#9c179e\"], [0.4444444444444444, \"#bd3786\"], [0.5555555555555556, \"#d8576b\"], [0.6666666666666666, \"#ed7953\"], [0.7777777777777778, \"#fb9f3a\"], [0.8888888888888888, \"#fdca26\"], [1.0, \"#f0f921\"]], \"type\": \"surface\"}], \"table\": [{\"cells\": {\"fill\": {\"color\": \"#EBF0F8\"}, \"line\": {\"color\": \"white\"}}, \"header\": {\"fill\": {\"color\": \"#C8D4E3\"}, \"line\": {\"color\": \"white\"}}, \"type\": \"table\"}]}, \"layout\": {\"annotationdefaults\": {\"arrowcolor\": \"#2a3f5f\", \"arrowhead\": 0, \"arrowwidth\": 1}, \"autotypenumbers\": \"strict\", \"coloraxis\": {\"colorbar\": {\"outlinewidth\": 0, \"ticks\": \"\"}}, \"colorscale\": {\"diverging\": [[0, \"#8e0152\"], [0.1, \"#c51b7d\"], [0.2, \"#de77ae\"], [0.3, \"#f1b6da\"], [0.4, \"#fde0ef\"], [0.5, \"#f7f7f7\"], [0.6, \"#e6f5d0\"], [0.7, \"#b8e186\"], [0.8, \"#7fbc41\"], [0.9, \"#4d9221\"], [1, \"#276419\"]], \"sequential\": [[0.0, \"#0d0887\"], [0.1111111111111111, \"#46039f\"], [0.2222222222222222, \"#7201a8\"], [0.3333333333333333, \"#9c179e\"], [0.4444444444444444, \"#bd3786\"], [0.5555555555555556, \"#d8576b\"], [0.6666666666666666, \"#ed7953\"], [0.7777777777777778, \"#fb9f3a\"], [0.8888888888888888, \"#fdca26\"], [1.0, \"#f0f921\"]], \"sequentialminus\": [[0.0, \"#0d0887\"], [0.1111111111111111, \"#46039f\"], [0.2222222222222222, \"#7201a8\"], [0.3333333333333333, \"#9c179e\"], [0.4444444444444444, \"#bd3786\"], [0.5555555555555556, \"#d8576b\"], [0.6666666666666666, \"#ed7953\"], [0.7777777777777778, \"#fb9f3a\"], [0.8888888888888888, \"#fdca26\"], [1.0, \"#f0f921\"]]}, \"colorway\": [\"#636efa\", \"#EF553B\", \"#00cc96\", \"#ab63fa\", \"#FFA15A\", \"#19d3f3\", \"#FF6692\", \"#B6E880\", \"#FF97FF\", \"#FECB52\"], \"font\": {\"color\": \"#2a3f5f\"}, \"geo\": {\"bgcolor\": \"white\", \"lakecolor\": \"white\", \"landcolor\": \"#E5ECF6\", \"showlakes\": true, \"showland\": true, \"subunitcolor\": \"white\"}, \"hoverlabel\": {\"align\": \"left\"}, \"hovermode\": \"closest\", \"mapbox\": {\"style\": \"light\"}, \"paper_bgcolor\": \"white\", \"plot_bgcolor\": \"#E5ECF6\", \"polar\": {\"angularaxis\": {\"gridcolor\": \"white\", \"linecolor\": \"white\", \"ticks\": \"\"}, \"bgcolor\": \"#E5ECF6\", \"radialaxis\": {\"gridcolor\": \"white\", \"linecolor\": \"white\", \"ticks\": \"\"}}, \"scene\": {\"xaxis\": {\"backgroundcolor\": \"#E5ECF6\", \"gridcolor\": \"white\", \"gridwidth\": 2, \"linecolor\": \"white\", \"showbackground\": true, \"ticks\": \"\", \"zerolinecolor\": \"white\"}, \"yaxis\": {\"backgroundcolor\": \"#E5ECF6\", \"gridcolor\": \"white\", \"gridwidth\": 2, \"linecolor\": \"white\", \"showbackground\": true, \"ticks\": \"\", \"zerolinecolor\": \"white\"}, \"zaxis\": {\"backgroundcolor\": \"#E5ECF6\", \"gridcolor\": \"white\", \"gridwidth\": 2, \"linecolor\": \"white\", \"showbackground\": true, \"ticks\": \"\", \"zerolinecolor\": \"white\"}}, \"shapedefaults\": {\"line\": {\"color\": \"#2a3f5f\"}}, \"ternary\": {\"aaxis\": {\"gridcolor\": \"white\", \"linecolor\": \"white\", \"ticks\": \"\"}, \"baxis\": {\"gridcolor\": \"white\", \"linecolor\": \"white\", \"ticks\": \"\"}, \"bgcolor\": \"#E5ECF6\", \"caxis\": {\"gridcolor\": \"white\", \"linecolor\": \"white\", \"ticks\": \"\"}}, \"title\": {\"x\": 0.05}, \"xaxis\": {\"automargin\": true, \"gridcolor\": \"white\", \"linecolor\": \"white\", \"ticks\": \"\", \"title\": {\"standoff\": 15}, \"zerolinecolor\": \"white\", \"zerolinewidth\": 2}, \"yaxis\": {\"automargin\": true, \"gridcolor\": \"white\", \"linecolor\": \"white\", \"ticks\": \"\", \"title\": {\"standoff\": 15}, \"zerolinecolor\": \"white\", \"zerolinewidth\": 2}}}, \"title\": {\"text\": \"\\ub9e4\\ub9e4\\uc9c0\\uc218 \\uc0c1\\uc704 5\\uac1c\\uc9c0\\uc5ed 21\\ub144 4\\uc6d4 \\uc804\\uc138,\\ub9e4\\ub9e4\\uc9c0\\uc218 \\uc0b0\\ud3ec\\ub3c4\"}, \"xaxis\": {\"anchor\": \"y\", \"domain\": [0.0, 1.0], \"title\": {\"text\": \"2021. 04\"}}, \"yaxis\": {\"anchor\": \"x\", \"domain\": [0.0, 1.0], \"title\": {\"text\": \"y\"}}},                        {\"showLink\": true, \"linkText\": \"Export to plotly.com\", \"plotlyServerURL\": \"https://plotly.com\", \"responsive\": true}                    ).then(function(){\n",
       "                            \n",
       "var gd = document.getElementById('329babef-6c95-499e-930c-4e66ae9b5a7f');\n",
       "var x = new MutationObserver(function (mutations, observer) {{\n",
       "        var display = window.getComputedStyle(gd).display;\n",
       "        if (!display || display === 'none') {{\n",
       "            console.log([gd, 'removed!']);\n",
       "            Plotly.purge(gd);\n",
       "            observer.disconnect();\n",
       "        }}\n",
       "}});\n",
       "\n",
       "// Listen for the removal of the full notebook cells\n",
       "var notebookContainer = gd.closest('#notebook-container');\n",
       "if (notebookContainer) {{\n",
       "    x.observe(notebookContainer, {childList: true});\n",
       "}}\n",
       "\n",
       "// Listen for the clearing of the current output cell\n",
       "var outputEl = gd.closest('.output');\n",
       "if (outputEl) {{\n",
       "    x.observe(outputEl, {childList: true});\n",
       "}}\n",
       "\n",
       "                        })                };                });            </script>        </div>"
      ]
     },
     "metadata": {},
     "output_type": "display_data"
    }
   ],
   "source": [
    "fig4 = px.scatter(data_frame=지역별주택매매가격지수, x=지역별주택매매가격지수['2021. 04'], \n",
    "                  y=지역별주택전세가격지수['2021. 04'], color='도단위', title='매매지수 상위 5개지역 21년 4월 전세,매매지수 산포도' )\n",
    "fig4.iplot()"
   ]
  },
  {
   "cell_type": "markdown",
   "metadata": {},
   "source": [
    "- 경기 일부지역을 제외한 대부분의 지역에서 매매지수가 상승한 모습을 보여주며 특히 세종, 대전,경기가 매우 높은 매매지수를 보여준다.\n",
    "- 대전,경기는 대부분의 지역에서 전세지수에 비해 매매지수가 뚜렷하게 크다.\n",
    "- 세종의 경우 전세수치가 다른지역에 비해 뚜렷하게 높은 특징이 있다."
   ]
  },
  {
   "cell_type": "code",
   "execution_count": null,
   "metadata": {},
   "outputs": [],
   "source": []
  },
  {
   "cell_type": "code",
   "execution_count": null,
   "metadata": {},
   "outputs": [],
   "source": []
  }
 ],
 "metadata": {
  "kernelspec": {
   "display_name": "Python 3",
   "language": "python",
   "name": "python3"
  },
  "language_info": {
   "codemirror_mode": {
    "name": "ipython",
    "version": 3
   },
   "file_extension": ".py",
   "mimetype": "text/x-python",
   "name": "python",
   "nbconvert_exporter": "python",
   "pygments_lexer": "ipython3",
   "version": "3.7.10"
  },
  "toc": {
   "base_numbering": 1,
   "nav_menu": {},
   "number_sections": true,
   "sideBar": true,
   "skip_h1_title": false,
   "title_cell": "Table of Contents",
   "title_sidebar": "Contents",
   "toc_cell": false,
   "toc_position": {},
   "toc_section_display": true,
   "toc_window_display": false
  },
  "varInspector": {
   "cols": {
    "lenName": 16,
    "lenType": 16,
    "lenVar": 40
   },
   "kernels_config": {
    "python": {
     "delete_cmd_postfix": "",
     "delete_cmd_prefix": "del ",
     "library": "var_list.py",
     "varRefreshCmd": "print(var_dic_list())"
    },
    "r": {
     "delete_cmd_postfix": ") ",
     "delete_cmd_prefix": "rm(",
     "library": "var_list.r",
     "varRefreshCmd": "cat(var_dic_list()) "
    }
   },
   "types_to_exclude": [
    "module",
    "function",
    "builtin_function_or_method",
    "instance",
    "_Feature"
   ],
   "window_display": false
  }
 },
 "nbformat": 4,
 "nbformat_minor": 4
}
